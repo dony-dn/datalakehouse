{
 "cells": [
  {
   "cell_type": "code",
   "execution_count": 1,
   "id": "a8046052",
   "metadata": {},
   "outputs": [
    {
     "name": "stderr",
     "output_type": "stream",
     "text": [
      "2025-06-30 06:01:17,072 - INFO - Application started successfully.\n"
     ]
    }
   ],
   "source": [
    "import os, sys\n",
    "import logging\n",
    "logging.basicConfig(level=logging.INFO, format=\"%(asctime)s - %(levelname)s - %(message)s\")\n",
    "logger = logging.getLogger(__name__)\n",
    "logger.setLevel(logging.INFO)\n",
    "\n",
    "logger.info(\"Application started successfully.\")"
   ]
  },
  {
   "cell_type": "code",
   "execution_count": 2,
   "id": "0a8933d8",
   "metadata": {},
   "outputs": [],
   "source": [
    "AWS_ACCESS_KEY = os.environ['AWS_ACCESS_KEY_ID']\n",
    "AWS_SECRET_KEY  = os.environ['AWS_SECRET_ACCESS_KEY']\n",
    "AWS_S3_ENDPOINT = os.environ[\"AWS_S3_ENDPOINT\"]\n",
    "FULL_PATH_TO_WAREHOUSE = os.environ['WAREHOUSE']\n"
   ]
  },
  {
   "cell_type": "code",
   "execution_count": 3,
   "id": "68338c47",
   "metadata": {},
   "outputs": [
    {
     "data": {
      "text/plain": [
       "<pyspark.conf.SparkConf at 0x7fc32f19d720>"
      ]
     },
     "execution_count": 3,
     "metadata": {},
     "output_type": "execute_result"
    }
   ],
   "source": [
    "# set pyspark configuration\n",
    "from pyspark import SparkConf\n",
    "\n",
    "conf = SparkConf() \\\n",
    "    .setAppName(\"read_bronze_adventure_works\") \\\n",
    "    .setMaster(\"local[*]\") \\\n",
    "    .set(\"spark.executor.memory\", \"4g\") \\\n",
    "    .set(\"spark.driver.memory\", \"2g\") \\\n",
    "    \n",
    "# set MinIO config\n",
    "conf.set(\"fs.s3a.access.key\", AWS_ACCESS_KEY) \n",
    "conf.set(\"fs.s3a.secret.key\", AWS_SECRET_KEY) \n",
    "conf.set(\"fs.s3a.endpoint\", AWS_S3_ENDPOINT) \n",
    "conf.set(\"fs.s3a.connection.ssl.enabled\", \"false\") \n",
    "conf.set(\"fs.s3a.path.style.access\", \"true\") "
   ]
  },
  {
   "cell_type": "code",
   "execution_count": 4,
   "id": "f018f5e4",
   "metadata": {},
   "outputs": [
    {
     "name": "stderr",
     "output_type": "stream",
     "text": [
      "25/06/30 06:01:18 WARN SparkSession: Using an existing Spark session; only runtime SQL configurations will take effect.\n"
     ]
    },
    {
     "data": {
      "text/html": [
       "\n",
       "            <div>\n",
       "                <p><b>SparkSession - in-memory</b></p>\n",
       "                \n",
       "        <div>\n",
       "            <p><b>SparkContext</b></p>\n",
       "\n",
       "            <p><a href=\"http://3a859f4a06db:4042\">Spark UI</a></p>\n",
       "\n",
       "            <dl>\n",
       "              <dt>Version</dt>\n",
       "                <dd><code>v3.5.5</code></dd>\n",
       "              <dt>Master</dt>\n",
       "                <dd><code>local[*]</code></dd>\n",
       "              <dt>AppName</dt>\n",
       "                <dd><code>PySparkShell</code></dd>\n",
       "            </dl>\n",
       "        </div>\n",
       "        \n",
       "            </div>\n",
       "        "
      ],
      "text/plain": [
       "<pyspark.sql.session.SparkSession at 0x7fc32c142170>"
      ]
     },
     "execution_count": 4,
     "metadata": {},
     "output_type": "execute_result"
    }
   ],
   "source": [
    "from pyspark.sql import SparkSession\n",
    "\n",
    "spark = SparkSession.builder.config(conf=conf).getOrCreate()\n",
    "spark"
   ]
  },
  {
   "cell_type": "code",
   "execution_count": 5,
   "id": "bd1cd128",
   "metadata": {},
   "outputs": [],
   "source": [
    "# read config file\n",
    "import toml\n",
    "\n",
    "config_file = \"notebooks/staging/staging_adventure_works.toml\"\n",
    "filepath = os.path.join(os.getcwd(), config_file)\n",
    "with open(filepath, 'r') as f:\n",
    "    config = toml.load(f)\n",
    "\n",
    "# Access values\n",
    "source_bucket = config['minio_source']['s3_bucket']\n",
    "target_bucket = config['minio_target']['s3_bucket']\n",
    "option = config['read_options']\n"
   ]
  },
  {
   "cell_type": "code",
   "execution_count": 7,
   "id": "553eec04",
   "metadata": {},
   "outputs": [
    {
     "name": "stderr",
     "output_type": "stream",
     "text": [
      "2025-06-30 06:01:53,151 - INFO - Processing source path: s3a://seed/adventure_works/sales/*.csv\n",
      "25/06/30 06:01:55 WARN AbstractS3ACommitterFactory: Using standard FileOutputCommitter to commit work. This is slow and potentially unsafe.\n",
      "25/06/30 06:01:55 WARN AbstractS3ACommitterFactory: Using standard FileOutputCommitter to commit work. This is slow and potentially unsafe.\n",
      "25/06/30 06:01:55 WARN AbstractS3ACommitterFactory: Using standard FileOutputCommitter to commit work. This is slow and potentially unsafe.\n",
      "25/06/30 06:01:55 WARN AbstractS3ACommitterFactory: Using standard FileOutputCommitter to commit work. This is slow and potentially unsafe.\n",
      "25/06/30 06:01:55 WARN AbstractS3ACommitterFactory: Using standard FileOutputCommitter to commit work. This is slow and potentially unsafe.\n",
      "25/06/30 06:01:55 WARN AbstractS3ACommitterFactory: Using standard FileOutputCommitter to commit work. This is slow and potentially unsafe.\n",
      "25/06/30 06:01:55 WARN AbstractS3ACommitterFactory: Using standard FileOutputCommitter to commit work. This is slow and potentially unsafe.\n",
      "2025-06-30 06:01:58,871 - INFO - Reprocessed data for 2025-06-30 written to s3a://warehouse/staging/adventure_works/sales.csv\n",
      "2025-06-30 06:01:58,873 - INFO - Processing source path: s3a://seed/adventure_works/customer/*.csv\n",
      "25/06/30 06:01:59 WARN AbstractS3ACommitterFactory: Using standard FileOutputCommitter to commit work. This is slow and potentially unsafe.\n",
      "25/06/30 06:01:59 WARN AbstractS3ACommitterFactory: Using standard FileOutputCommitter to commit work. This is slow and potentially unsafe.\n",
      "2025-06-30 06:02:00,595 - INFO - Reprocessed data for 2025-06-30 written to s3a://warehouse/staging/adventure_works/customer.csv\n",
      "2025-06-30 06:02:00,597 - INFO - Processing source path: s3a://seed/adventure_works/product/*.csv\n",
      "25/06/30 06:02:01 WARN AbstractS3ACommitterFactory: Using standard FileOutputCommitter to commit work. This is slow and potentially unsafe.\n",
      "25/06/30 06:02:01 WARN AbstractS3ACommitterFactory: Using standard FileOutputCommitter to commit work. This is slow and potentially unsafe.\n",
      "2025-06-30 06:02:01,808 - INFO - Reprocessed data for 2025-06-30 written to s3a://warehouse/staging/adventure_works/product.csv\n",
      "2025-06-30 06:02:01,809 - INFO - Processing source path: s3a://seed/adventure_works/currency/*.csv\n",
      "25/06/30 06:02:02 WARN AbstractS3ACommitterFactory: Using standard FileOutputCommitter to commit work. This is slow and potentially unsafe.\n",
      "25/06/30 06:02:02 WARN AbstractS3ACommitterFactory: Using standard FileOutputCommitter to commit work. This is slow and potentially unsafe.\n",
      "2025-06-30 06:02:02,693 - INFO - Reprocessed data for 2025-06-30 written to s3a://warehouse/staging/adventure_works/currency.csv\n",
      "2025-06-30 06:02:02,694 - INFO - Processing source path: s3a://seed/adventure_works/currency_rate/*.csv\n",
      "25/06/30 06:02:03 WARN AbstractS3ACommitterFactory: Using standard FileOutputCommitter to commit work. This is slow and potentially unsafe.\n",
      "25/06/30 06:02:03 WARN AbstractS3ACommitterFactory: Using standard FileOutputCommitter to commit work. This is slow and potentially unsafe.\n",
      "2025-06-30 06:02:03,867 - INFO - Reprocessed data for 2025-06-30 written to s3a://warehouse/staging/adventure_works/currency_rate.csv\n"
     ]
    }
   ],
   "source": [
    "from pyspark.sql.functions import input_file_name, regexp_extract, current_timestamp, to_date, lit\n",
    "\n",
    "for item in [config[\"source\"][r] for r in config[\"source\"] if config[\"source\"][r][\"enabled\"]]:\n",
    "    source_path = os.path.join(config[\"minio_source\"][\"s3_bucket\"], item[\"source_path\"])\n",
    "    target_path = os.path.join(config[\"minio_target\"][\"s3_bucket\"], item[\"target_path\"])\n",
    "\n",
    "    logger.info(f\"Processing source path: {source_path}\")\n",
    "    df = spark.read.option(\"header\", \"true\") \\\n",
    "        .option(\"delimiter\", option[\"sep\"]) \\\n",
    "        .option(\"inferSchema\", option[\"inferSchema\"]) \\\n",
    "        .option(\"header\", option[\"header\"])  \\\n",
    "        .csv(source_path)\n",
    "    \n",
    "    df = df.withColumn(\"file_path\", input_file_name())\n",
    "    df = df.withColumn(\"ingest_timestamp\", current_timestamp())\n",
    "    from datetime import datetime\n",
    "    target_date = datetime.now().strftime(\"%Y-%m-%d\")\n",
    "    df = df.withColumn(\"ingest_date\", lit(target_date))\n",
    "\n",
    "    df.write.mode(\"overwrite\") \\\n",
    "        .option(\"header\", \"true\") \\\n",
    "        .partitionBy(\"ingest_date\") \\\n",
    "        .csv(target_path)\n",
    "    \n",
    "    logger.info(f\"Reprocessed data for {target_date} written to {target_path}\")"
   ]
  },
  {
   "cell_type": "code",
   "execution_count": null,
   "id": "cf58895c",
   "metadata": {},
   "outputs": [],
   "source": [
    "spark.stop()"
   ]
  }
 ],
 "metadata": {
  "kernelspec": {
   "display_name": "Python 3 (ipykernel)",
   "language": "python",
   "name": "python3"
  }
 },
 "nbformat": 4,
 "nbformat_minor": 5
}
