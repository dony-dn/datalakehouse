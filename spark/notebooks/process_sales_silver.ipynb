{
 "cells": [
  {
   "cell_type": "code",
   "execution_count": null,
   "id": "a928448d",
   "metadata": {},
   "outputs": [],
   "source": [
    "import os "
   ]
  },
  {
   "cell_type": "code",
   "execution_count": null,
   "id": "dc18b3d6",
   "metadata": {},
   "outputs": [],
   "source": [
    "storage_account = os.environ[\"AZURE_STORAGE_ACCOUNT_NAME\"]\n",
    "access_key = os.environ[\"AZURE_STORAGE_ACCOUNT_ACCESS_KEY\"]\n",
    "NESSIE_URI = os.environ['NESSIE_URI']\n",
    "REF = \"main\"\n",
    "FULL_PATH_TO_WAREHOUSE = os.environ['WAREHOUSE']\n",
    "AWS_S3_ENDPOINT = os.environ[\"AWS_S3_ENDPOINT\"]\n",
    "AWS_ACCESS_KEY = os.environ['AWS_ACCESS_KEY_ID']\n",
    "AWS_SECRET_KEY  = os.environ['AWS_SECRET_ACCESS_KEY']"
   ]
  },
  {
   "cell_type": "code",
   "execution_count": null,
   "id": "1f8ebd23",
   "metadata": {},
   "outputs": [],
   "source": [
    "from pyspark import SparkConf\n",
    "\n",
    "conf = SparkConf() \\\n",
    "    .setAppName(\"process_sales_silver\") \\\n",
    "    .setMaster(\"local[*]\") \\\n",
    "    .set(\"spark.executor.memory\", \"4g\") \\\n",
    "    .set(\"spark.driver.memory\", \"2g\") \\\n",
    "    \n",
    "\n",
    "# set minio config\n",
    "conf.set(\"spark.sql.catalog.nessie.s3.endpoint\", AWS_S3_ENDPOINT)\n",
    "# conf.set(\"spark.sql.catalog.nessie.warehouse\", FULL_PATH_TO_WAREHOUSE)\n",
    "# conf.set(\"spark.sql.catalog.nessie.uri\", NESSIE_URI)\n",
    "conf.set(\"spark.sql.catalog.nessie.ref\", REF)\n",
    "conf.set(\"spark.sql.catalog.nessie.authentication.type\", \"NONE\") \n",
    "conf.set(\"spark.sql.catalog.nessie.s3.access-key-id\", AWS_ACCESS_KEY)\n",
    "conf.set(\"spark.sql.catalog.nessie.s3.secret-access-key\", AWS_SECRET_KEY)\n",
    "conf.set(\"spark.sql.catalog.nessie.s3.path-style-access\", \"true\")\n",
    "\n"
   ]
  },
  {
   "cell_type": "code",
   "execution_count": null,
   "id": "68e74c12",
   "metadata": {},
   "outputs": [],
   "source": [
    "from pyspark.sql import SparkSession\n",
    "\n",
    "spark = SparkSession.builder.config(conf=conf).getOrCreate()\n",
    "spark"
   ]
  },
  {
   "cell_type": "markdown",
   "id": "1b24e573",
   "metadata": {},
   "source": [
    "# Process sales header"
   ]
  },
  {
   "cell_type": "code",
   "execution_count": null,
   "id": "91a6a6c8",
   "metadata": {},
   "outputs": [],
   "source": [
    "spark.sql(\"TRUNCATE TABLE nessie.silver.sales_header\")"
   ]
  },
  {
   "cell_type": "code",
   "execution_count": null,
   "id": "aff6aa70",
   "metadata": {},
   "outputs": [],
   "source": [
    "spark.sql(\"\"\"\n",
    "WITH CTE_SALES AS\n",
    "(\n",
    "  select \n",
    "      SalesOrderNumber\n",
    "      , CustomerUsername\n",
    "      , OrderDate\n",
    "      , DueDate\n",
    "      , ShipDate\n",
    "      , SalesTerritoryRegion\n",
    "      , Currency\n",
    "      , source_filepath\n",
    "      , ingestion_datetime\n",
    "      , row_number() over(partition by SalesOrderNumber, CustomerUsername, OrderDate, DueDate, ShipDate, SalesTerritoryRegion, Currency order by 1) as rownum\n",
    "    from nessie.adventureWorks.sales\n",
    ")\n",
    "MERGE INTO nessie.silver.sales_header as target\n",
    "USING (\n",
    "  select *\n",
    "  from CTE_SALES\n",
    "  where rownum = 1\n",
    ") as source\n",
    "ON target.SalesOrderNumber = source.SalesOrderNumber\n",
    "WHEN MATCHED THEN \n",
    "UPDATE SET \n",
    "  target.SalesOrderNumber = source.SalesOrderNumber\n",
    "  , target.CustomerUsername = source.CustomerUsername\n",
    "  , target.OrderDate = source.OrderDate\n",
    "  , target.DueDate = source.DueDate\n",
    "  , target.ShipDate = source.ShipDate\n",
    "  , target.SalesTerritoryRegion = source.SalesTerritoryRegion\n",
    "  , target.Currency = source.Currency\n",
    "  , target.source_filepath = source.source_filepath\n",
    "  , target.ingestion_datetime = source.ingestion_datetime\n",
    "WHEN NOT MATCHED THEN INSERT\n",
    "(\n",
    "  SalesOrderNumber\n",
    "  , CustomerUsername\n",
    "  , OrderDate\n",
    "  , DueDate\n",
    "  , ShipDate\n",
    "  , SalesTerritoryRegion\n",
    "  , Currency\n",
    "  , source_filepath\n",
    "  , ingestion_datetime\n",
    ")\n",
    "VALUES\n",
    "(\n",
    "  source.SalesOrderNumber\n",
    "  , source.CustomerUsername\n",
    "  , source.OrderDate\n",
    "  , source.DueDate\n",
    "  , source.ShipDate\n",
    "  , source.SalesTerritoryRegion\n",
    "  , source.Currency\n",
    "  , source.source_filepath\n",
    "  , source.ingestion_datetime\n",
    ")\n",
    "\"\"\").show()"
   ]
  },
  {
   "cell_type": "code",
   "execution_count": null,
   "id": "f60f5dcb",
   "metadata": {},
   "outputs": [],
   "source": [
    "%%sql \n",
    "\n",
    "select *\n",
    "from nessie.silver.sales_header"
   ]
  },
  {
   "cell_type": "code",
   "execution_count": null,
   "id": "956e6d0b",
   "metadata": {},
   "outputs": [],
   "source": []
  }
 ],
 "metadata": {
  "kernelspec": {
   "display_name": "Python 3 (ipykernel)",
   "language": "python",
   "name": "python3"
  },
  "language_info": {
   "codemirror_mode": {
    "name": "ipython",
    "version": 3
   },
   "file_extension": ".py",
   "mimetype": "text/x-python",
   "name": "python",
   "nbconvert_exporter": "python",
   "pygments_lexer": "ipython3",
   "version": "3.10.16"
  }
 },
 "nbformat": 4,
 "nbformat_minor": 5
}
