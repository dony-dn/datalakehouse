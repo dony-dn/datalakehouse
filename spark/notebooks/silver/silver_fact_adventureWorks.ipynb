{
 "cells": [
  {
   "cell_type": "code",
   "execution_count": 1,
   "id": "4e47fa32",
   "metadata": {},
   "outputs": [
    {
     "name": "stderr",
     "output_type": "stream",
     "text": [
      "2025-06-17 18:43:34,941 - INFO - Application started successfully.\n"
     ]
    }
   ],
   "source": [
    "import os, sys\n",
    "import logging\n",
    "logging.basicConfig(level=logging.INFO, format=\"%(asctime)s - %(levelname)s - %(message)s\")\n",
    "logger = logging.getLogger(__name__)\n",
    "logger.setLevel(logging.INFO)\n",
    "\n",
    "logger.info(\"Application started successfully.\")"
   ]
  },
  {
   "cell_type": "code",
   "execution_count": 2,
   "id": "f304c91f",
   "metadata": {},
   "outputs": [],
   "source": [
    "# load environment variables\n",
    "\n",
    "storage_account = os.environ[\"AZURE_STORAGE_ACCOUNT_NAME\"]\n",
    "access_key = os.environ[\"AZURE_STORAGE_ACCOUNT_ACCESS_KEY\"]\n",
    "NESSIE_URI = os.environ['NESSIE_URI']\n",
    "REF = \"etl\"\n",
    "FULL_PATH_TO_WAREHOUSE = os.environ['WAREHOUSE']\n",
    "AWS_S3_ENDPOINT = os.environ[\"AWS_S3_ENDPOINT\"]\n",
    "AWS_ACCESS_KEY = os.environ['AWS_ACCESS_KEY_ID']\n",
    "AWS_SECRET_KEY  = os.environ['AWS_SECRET_ACCESS_KEY']"
   ]
  },
  {
   "cell_type": "code",
   "execution_count": 3,
   "id": "38aaef9b",
   "metadata": {},
   "outputs": [],
   "source": [
    "# set pyspark configuration\n",
    "from pyspark import SparkConf\n",
    "\n",
    "conf = SparkConf() \\\n",
    "    .setAppName(\"Read_csv_from_azure_blob\") \\\n",
    "    .setMaster(\"local[*]\") \\\n",
    "    .set(\"spark.executor.memory\", \"4g\") \\\n",
    "    .set(\"spark.driver.memory\", \"2g\")"
   ]
  },
  {
   "cell_type": "code",
   "execution_count": 4,
   "id": "89fb9ff3",
   "metadata": {},
   "outputs": [
    {
     "name": "stderr",
     "output_type": "stream",
     "text": [
      "25/06/17 18:43:35 WARN SparkSession: Using an existing Spark session; only runtime SQL configurations will take effect.\n"
     ]
    },
    {
     "data": {
      "text/html": [
       "\n",
       "            <div>\n",
       "                <p><b>SparkSession - in-memory</b></p>\n",
       "                \n",
       "        <div>\n",
       "            <p><b>SparkContext</b></p>\n",
       "\n",
       "            <p><a href=\"http://972a036b1ffa:4040\">Spark UI</a></p>\n",
       "\n",
       "            <dl>\n",
       "              <dt>Version</dt>\n",
       "                <dd><code>v3.5.5</code></dd>\n",
       "              <dt>Master</dt>\n",
       "                <dd><code>local[*]</code></dd>\n",
       "              <dt>AppName</dt>\n",
       "                <dd><code>PySparkShell</code></dd>\n",
       "            </dl>\n",
       "        </div>\n",
       "        \n",
       "            </div>\n",
       "        "
      ],
      "text/plain": [
       "<pyspark.sql.session.SparkSession at 0x76416bb3e170>"
      ]
     },
     "execution_count": 4,
     "metadata": {},
     "output_type": "execute_result"
    }
   ],
   "source": [
    "from pyspark.sql import SparkSession\n",
    "\n",
    "spark = SparkSession.builder.config(conf=conf).getOrCreate()\n",
    "spark"
   ]
  },
  {
   "cell_type": "code",
   "execution_count": 5,
   "id": "5997e005",
   "metadata": {},
   "outputs": [
    {
     "data": {
      "text/html": [
       "\n",
       "            <div>\n",
       "                <p><b>SparkSession - in-memory</b></p>\n",
       "                \n",
       "        <div>\n",
       "            <p><b>SparkContext</b></p>\n",
       "\n",
       "            <p><a href=\"http://972a036b1ffa:4040\">Spark UI</a></p>\n",
       "\n",
       "            <dl>\n",
       "              <dt>Version</dt>\n",
       "                <dd><code>v3.5.5</code></dd>\n",
       "              <dt>Master</dt>\n",
       "                <dd><code>local[*]</code></dd>\n",
       "              <dt>AppName</dt>\n",
       "                <dd><code>PySparkShell</code></dd>\n",
       "            </dl>\n",
       "        </div>\n",
       "        \n",
       "            </div>\n",
       "        "
      ],
      "text/plain": [
       "<pyspark.sql.session.SparkSession at 0x76416bb3e170>"
      ]
     },
     "execution_count": 5,
     "metadata": {},
     "output_type": "execute_result"
    }
   ],
   "source": [
    "from pyspark.sql import SparkSession\n",
    "\n",
    "spark = SparkSession.builder.config(conf=conf).getOrCreate()\n",
    "spark"
   ]
  },
  {
   "cell_type": "code",
   "execution_count": 6,
   "id": "0751c60d",
   "metadata": {},
   "outputs": [
    {
     "name": "stderr",
     "output_type": "stream",
     "text": [
      "25/06/17 18:43:41 WARN S3FileIO: Unclosed S3FileIO instance created by:\n",
      "\torg.apache.iceberg.aws.s3.S3FileIO.initialize(S3FileIO.java:444)\n",
      "\torg.apache.iceberg.CatalogUtil.loadFileIO(CatalogUtil.java:402)\n",
      "\torg.apache.iceberg.CatalogUtil.loadFileIO(CatalogUtil.java:349)\n",
      "\torg.apache.iceberg.nessie.NessieCatalog.initialize(NessieCatalog.java:132)\n",
      "\torg.apache.iceberg.CatalogUtil.loadCatalog(CatalogUtil.java:277)\n",
      "\torg.apache.iceberg.CatalogUtil.buildIcebergCatalog(CatalogUtil.java:331)\n",
      "\torg.apache.iceberg.spark.SparkCatalog.buildIcebergCatalog(SparkCatalog.java:153)\n",
      "\torg.apache.iceberg.spark.SparkCatalog.initialize(SparkCatalog.java:752)\n",
      "\torg.apache.spark.sql.connector.catalog.Catalogs$.load(Catalogs.scala:65)\n",
      "\torg.apache.spark.sql.connector.catalog.CatalogManager.$anonfun$catalog$1(CatalogManager.scala:54)\n",
      "\tscala.collection.mutable.HashMap.getOrElseUpdate(HashMap.scala:86)\n",
      "\torg.apache.spark.sql.connector.catalog.CatalogManager.catalog(CatalogManager.scala:54)\n",
      "\torg.apache.spark.sql.connector.catalog.CatalogManager.currentCatalog(CatalogManager.scala:135)\n",
      "\torg.apache.spark.sql.connector.catalog.CatalogManager.currentNamespace(CatalogManager.scala:94)\n",
      "\torg.apache.spark.sql.catalyst.optimizer.ReplaceCurrentLike.apply(finishAnalysis.scala:143)\n",
      "\torg.apache.spark.sql.catalyst.optimizer.ReplaceCurrentLike.apply(finishAnalysis.scala:140)\n",
      "\torg.apache.spark.sql.catalyst.optimizer.Optimizer$FinishAnalysis$.$anonfun$apply$1(Optimizer.scala:296)\n",
      "\tscala.collection.LinearSeqOptimized.foldLeft(LinearSeqOptimized.scala:126)\n",
      "\tscala.collection.LinearSeqOptimized.foldLeft$(LinearSeqOptimized.scala:122)\n",
      "\tscala.collection.immutable.List.foldLeft(List.scala:91)\n",
      "\torg.apache.spark.sql.catalyst.optimizer.Optimizer$FinishAnalysis$.apply(Optimizer.scala:296)\n",
      "\torg.apache.spark.sql.catalyst.optimizer.Optimizer$FinishAnalysis$.apply(Optimizer.scala:276)\n",
      "\torg.apache.spark.sql.catalyst.rules.RuleExecutor.$anonfun$execute$2(RuleExecutor.scala:222)\n",
      "\tscala.collection.IndexedSeqOptimized.foldLeft(IndexedSeqOptimized.scala:60)\n",
      "\tscala.collection.IndexedSeqOptimized.foldLeft$(IndexedSeqOptimized.scala:68)\n",
      "\tscala.collection.mutable.WrappedArray.foldLeft(WrappedArray.scala:38)\n",
      "\torg.apache.spark.sql.catalyst.rules.RuleExecutor.$anonfun$execute$1(RuleExecutor.scala:219)\n",
      "\torg.apache.spark.sql.catalyst.rules.RuleExecutor.$anonfun$execute$1$adapted(RuleExecutor.scala:211)\n",
      "\tscala.collection.immutable.List.foreach(List.scala:431)\n",
      "\torg.apache.spark.sql.catalyst.rules.RuleExecutor.execute(RuleExecutor.scala:211)\n",
      "\torg.apache.spark.sql.catalyst.rules.RuleExecutor.$anonfun$executeAndTrack$1(RuleExecutor.scala:182)\n",
      "\torg.apache.spark.sql.catalyst.QueryPlanningTracker$.withTracker(QueryPlanningTracker.scala:89)\n",
      "\torg.apache.spark.sql.catalyst.rules.RuleExecutor.executeAndTrack(RuleExecutor.scala:182)\n",
      "\torg.apache.spark.sql.execution.QueryExecution.$anonfun$optimizedPlan$1(QueryExecution.scala:152)\n",
      "\torg.apache.spark.sql.catalyst.QueryPlanningTracker.measurePhase(QueryPlanningTracker.scala:138)\n",
      "\torg.apache.spark.sql.execution.QueryExecution.$anonfun$executePhase$2(QueryExecution.scala:219)\n",
      "\torg.apache.spark.sql.execution.QueryExecution$.withInternalError(QueryExecution.scala:546)\n",
      "\torg.apache.spark.sql.execution.QueryExecution.$anonfun$executePhase$1(QueryExecution.scala:219)\n",
      "\torg.apache.spark.sql.SparkSession.withActive(SparkSession.scala:900)\n",
      "\torg.apache.spark.sql.execution.QueryExecution.executePhase(QueryExecution.scala:218)\n",
      "\torg.apache.spark.sql.execution.QueryExecution.optimizedPlan$lzycompute(QueryExecution.scala:148)\n",
      "\torg.apache.spark.sql.execution.QueryExecution.optimizedPlan(QueryExecution.scala:144)\n",
      "\torg.apache.spark.sql.execution.QueryExecution.assertOptimized(QueryExecution.scala:162)\n",
      "\torg.apache.spark.sql.execution.QueryExecution.executedPlan$lzycompute(QueryExecution.scala:182)\n",
      "\torg.apache.spark.sql.execution.QueryExecution.executedPlan(QueryExecution.scala:179)\n",
      "\torg.apache.spark.sql.execution.QueryExecution.simpleString(QueryExecution.scala:238)\n",
      "\torg.apache.spark.sql.execution.QueryExecution.org$apache$spark$sql$execution$QueryExecution$$explainString(QueryExecution.scala:284)\n",
      "\torg.apache.spark.sql.execution.QueryExecution.explainString(QueryExecution.scala:252)\n",
      "\torg.apache.spark.sql.execution.SQLExecution$.$anonfun$withNewExecutionId$6(SQLExecution.scala:117)\n",
      "\torg.apache.spark.sql.execution.SQLExecution$.withSQLConfPropagated(SQLExecution.scala:201)\n",
      "\torg.apache.spark.sql.execution.SQLExecution$.$anonfun$withNewExecutionId$1(SQLExecution.scala:108)\n",
      "\torg.apache.spark.sql.SparkSession.withActive(SparkSession.scala:900)\n",
      "\torg.apache.spark.sql.execution.SQLExecution$.withNewExecutionId(SQLExecution.scala:66)\n",
      "\torg.apache.spark.sql.execution.QueryExecution$$anonfun$eagerlyExecuteCommands$1.applyOrElse(QueryExecution.scala:107)\n",
      "\torg.apache.spark.sql.execution.QueryExecution$$anonfun$eagerlyExecuteCommands$1.applyOrElse(QueryExecution.scala:98)\n",
      "\torg.apache.spark.sql.catalyst.trees.TreeNode.$anonfun$transformDownWithPruning$1(TreeNode.scala:461)\n",
      "\torg.apache.spark.sql.catalyst.trees.CurrentOrigin$.withOrigin(origin.scala:76)\n",
      "\torg.apache.spark.sql.catalyst.trees.TreeNode.transformDownWithPruning(TreeNode.scala:461)\n",
      "\torg.apache.spark.sql.catalyst.plans.logical.LogicalPlan.org$apache$spark$sql$catalyst$plans$logical$AnalysisHelper$$super$transformDownWithPruning(LogicalPlan.scala:32)\n",
      "\torg.apache.spark.sql.catalyst.plans.logical.AnalysisHelper.transformDownWithPruning(AnalysisHelper.scala:267)\n",
      "\torg.apache.spark.sql.catalyst.plans.logical.AnalysisHelper.transformDownWithPruning$(AnalysisHelper.scala:263)\n",
      "\torg.apache.spark.sql.catalyst.plans.logical.LogicalPlan.transformDownWithPruning(LogicalPlan.scala:32)\n",
      "\torg.apache.spark.sql.catalyst.plans.logical.LogicalPlan.transformDownWithPruning(LogicalPlan.scala:32)\n",
      "\torg.apache.spark.sql.catalyst.trees.TreeNode.transformDown(TreeNode.scala:437)\n",
      "\torg.apache.spark.sql.execution.QueryExecution.eagerlyExecuteCommands(QueryExecution.scala:98)\n",
      "\torg.apache.spark.sql.execution.QueryExecution.commandExecuted$lzycompute(QueryExecution.scala:85)\n",
      "\torg.apache.spark.sql.execution.QueryExecution.commandExecuted(QueryExecution.scala:83)\n",
      "\torg.apache.spark.sql.Dataset.<init>(Dataset.scala:220)\n",
      "\torg.apache.spark.sql.Dataset$.$anonfun$ofRows$2(Dataset.scala:100)\n",
      "\torg.apache.spark.sql.SparkSession.withActive(SparkSession.scala:900)\n",
      "\torg.apache.spark.sql.Dataset$.ofRows(Dataset.scala:97)\n",
      "\torg.apache.spark.sql.SparkSession.$anonfun$sql$1(SparkSession.scala:638)\n",
      "\torg.apache.spark.sql.SparkSession.withActive(SparkSession.scala:900)\n",
      "\torg.apache.spark.sql.SparkSession.sql(SparkSession.scala:629)\n",
      "\torg.apache.spark.sql.SparkSession.sql(SparkSession.scala:659)\n",
      "\tjava.base/jdk.internal.reflect.NativeMethodAccessorImpl.invoke0(Native Method)\n",
      "\tjava.base/jdk.internal.reflect.NativeMethodAccessorImpl.invoke(NativeMethodAccessorImpl.java:77)\n",
      "\tjava.base/jdk.internal.reflect.DelegatingMethodAccessorImpl.invoke(DelegatingMethodAccessorImpl.java:43)\n",
      "\tjava.base/java.lang.reflect.Method.invoke(Method.java:569)\n",
      "\tpy4j.reflection.MethodInvoker.invoke(MethodInvoker.java:244)\n",
      "\tpy4j.reflection.ReflectionEngine.invoke(ReflectionEngine.java:374)\n",
      "\tpy4j.Gateway.invoke(Gateway.java:282)\n",
      "\tpy4j.commands.AbstractCommand.invokeMethod(AbstractCommand.java:132)\n",
      "\tpy4j.commands.CallCommand.execute(CallCommand.java:79)\n",
      "\tpy4j.ClientServerConnection.waitForCommands(ClientServerConnection.java:182)\n",
      "\tpy4j.ClientServerConnection.run(ClientServerConnection.java:106)\n",
      "\tjava.base/java.lang.Thread.run(Thread.java:840)\n"
     ]
    },
    {
     "name": "stdout",
     "output_type": "stream",
     "text": [
      "+-------+----+--------------------+\n",
      "|refType|name|                hash|\n",
      "+-------+----+--------------------+\n",
      "| Branch|main|5869ac1f0b1fde7fc...|\n",
      "+-------+----+--------------------+\n",
      "\n"
     ]
    },
    {
     "name": "stderr",
     "output_type": "stream",
     "text": [
      "2025-06-17 18:43:43,284 - INFO - namespace SILVER exists: True\n"
     ]
    },
    {
     "name": "stdout",
     "output_type": "stream",
     "text": [
      "+---------+\n",
      "|namespace|\n",
      "+---------+\n",
      "|   BRONZE|\n",
      "|   SILVER|\n",
      "|     GOLD|\n",
      "+---------+\n",
      "\n"
     ]
    }
   ],
   "source": [
    "# create bronze silver in nessie catalog\n",
    "spark.sql(f\"USE REFERENCE main IN nessie\").show()\n",
    "namespace = \"SILVER\"\n",
    "df = spark.sql(\"SHOW NAMESPACES in nessie\")\n",
    "namespace_exists = df.filter(df.namespace == namespace).count() > 0\n",
    "\n",
    "logger.info(f\"namespace {namespace} exists: {namespace_exists}\")\n",
    "if not namespace_exists:\n",
    "    spark.sql(f\"CREATE NAMESPACE nessie.{namespace}\").show()\n",
    "\n",
    "spark.sql(\"SHOW NAMESPACES in nessie\").show()\n"
   ]
  },
  {
   "cell_type": "code",
   "execution_count": 7,
   "id": "31bd065e",
   "metadata": {},
   "outputs": [
    {
     "name": "stdout",
     "output_type": "stream",
     "text": [
      "+-------+----+--------------------+\n",
      "|refType|name|                hash|\n",
      "+-------+----+--------------------+\n",
      "| Branch|main|5869ac1f0b1fde7fc...|\n",
      "+-------+----+--------------------+\n",
      "\n",
      "+------+\n",
      "|status|\n",
      "+------+\n",
      "|    OK|\n",
      "+------+\n",
      "\n",
      "+-------+----+--------------------+\n",
      "|refType|name|                hash|\n",
      "+-------+----+--------------------+\n",
      "| Branch| etl|5869ac1f0b1fde7fc...|\n",
      "+-------+----+--------------------+\n",
      "\n",
      "+-------+----+--------------------+\n",
      "|refType|name|                hash|\n",
      "+-------+----+--------------------+\n",
      "| Branch| etl|5869ac1f0b1fde7fc...|\n",
      "| Branch|main|5869ac1f0b1fde7fc...|\n",
      "+-------+----+--------------------+\n",
      "\n"
     ]
    }
   ],
   "source": [
    "# create etl branch\n",
    "spark.sql(f\"USE REFERENCE main IN nessie\").show()\n",
    "spark.sql(f\"DROP BRANCH IF EXISTS {REF}\").show()\n",
    "spark.sql(f\"CREATE BRANCH {REF} IN nessie FROM main\").show()\n",
    "spark.sql(f\"LIST REFERENCES IN nessie\").show()"
   ]
  },
  {
   "cell_type": "code",
   "execution_count": 8,
   "id": "31f6084d",
   "metadata": {},
   "outputs": [],
   "source": [
    "import notebooks.lib.silver_fact_adventureWorks_sql as sql\n",
    "import importlib\n",
    "importlib.reload(sql)\n",
    "\n",
    "source_list = [\n",
    "    {\n",
    "        \"table_name\": \"SALES_HEADER\",\n",
    "        \"sql_create_table\": sql.sql_create_silver_sales_header,\n",
    "        \"sql_select\": sql.sql_select_bronze_sales_header,\n",
    "        \"enabled\": True\n",
    "    },\n",
    "    {\n",
    "        \"table_name\": \"SALES_DETAIL\",\n",
    "        \"sql_create_table\": sql.sql_create_silver_sales_detail,\n",
    "        \"sql_select\": sql.sql_select_bronze_sales_detail,\n",
    "        \"enabled\": True\n",
    "    },\n",
    "    {\n",
    "        \"table_name\": \"CURRENCY_RATE_HISTORY\",\n",
    "        \"sql_create_table\": sql.sql_create_silver_currency_rate_history,\n",
    "        \"sql_select\": sql.sql_select_bronze_currency_rate_history,\n",
    "        \"enabled\": True\n",
    "    }\n",
    "]"
   ]
  },
  {
   "cell_type": "code",
   "execution_count": 9,
   "id": "6dad1d4c",
   "metadata": {},
   "outputs": [
    {
     "name": "stdout",
     "output_type": "stream",
     "text": [
      "+-------+----+--------------------+\n",
      "|refType|name|                hash|\n",
      "+-------+----+--------------------+\n",
      "| Branch| etl|5869ac1f0b1fde7fc...|\n",
      "+-------+----+--------------------+\n",
      "\n",
      "+---------+--------------------+-----------+\n",
      "|namespace|           tableName|isTemporary|\n",
      "+---------+--------------------+-----------+\n",
      "|   SILVER|            CURRENCY|      false|\n",
      "|   SILVER|CURRENCY_RATE_HIS...|      false|\n",
      "|   SILVER|            CUSTOMER|      false|\n",
      "|   SILVER|             PRODUCT|      false|\n",
      "|   SILVER|        SALES_DETAIL|      false|\n",
      "|   SILVER|        SALES_HEADER|      false|\n",
      "+---------+--------------------+-----------+\n",
      "\n"
     ]
    },
    {
     "name": "stderr",
     "output_type": "stream",
     "text": [
      "25/06/17 18:43:44 WARN S3FileIO: Unclosed S3FileIO instance created by:\n",
      "\torg.apache.iceberg.aws.s3.S3FileIO.initialize(S3FileIO.java:444)\n",
      "\torg.apache.iceberg.CatalogUtil.loadFileIO(CatalogUtil.java:402)\n",
      "\torg.apache.iceberg.CatalogUtil.loadFileIO(CatalogUtil.java:349)\n",
      "\torg.apache.iceberg.nessie.NessieCatalog.initialize(NessieCatalog.java:132)\n",
      "\torg.apache.iceberg.CatalogUtil.loadCatalog(CatalogUtil.java:277)\n",
      "\torg.apache.iceberg.CatalogUtil.buildIcebergCatalog(CatalogUtil.java:331)\n",
      "\torg.apache.iceberg.spark.SparkCatalog.buildIcebergCatalog(SparkCatalog.java:153)\n",
      "\torg.apache.iceberg.spark.SparkCatalog.initialize(SparkCatalog.java:752)\n",
      "\torg.apache.spark.sql.execution.datasources.v2.NessieCatalogBridge.setCurrentRefForSpark(NessieCatalogBridge.java:105)\n",
      "\torg.apache.spark.sql.execution.datasources.v2.UseReferenceExec.runInternal(UseReferenceExec.scala:44)\n",
      "\torg.apache.spark.sql.execution.datasources.v2.NessieExec.run(NessieExec.scala:34)\n",
      "\torg.apache.spark.sql.execution.datasources.v2.V2CommandExec.result$lzycompute(V2CommandExec.scala:43)\n",
      "\torg.apache.spark.sql.execution.datasources.v2.V2CommandExec.result(V2CommandExec.scala:43)\n",
      "\torg.apache.spark.sql.execution.datasources.v2.V2CommandExec.executeCollect(V2CommandExec.scala:49)\n",
      "\torg.apache.spark.sql.execution.QueryExecution$$anonfun$eagerlyExecuteCommands$1.$anonfun$applyOrElse$1(QueryExecution.scala:107)\n",
      "\torg.apache.spark.sql.execution.SQLExecution$.$anonfun$withNewExecutionId$6(SQLExecution.scala:125)\n",
      "\torg.apache.spark.sql.execution.SQLExecution$.withSQLConfPropagated(SQLExecution.scala:201)\n",
      "\torg.apache.spark.sql.execution.SQLExecution$.$anonfun$withNewExecutionId$1(SQLExecution.scala:108)\n",
      "\torg.apache.spark.sql.SparkSession.withActive(SparkSession.scala:900)\n",
      "\torg.apache.spark.sql.execution.SQLExecution$.withNewExecutionId(SQLExecution.scala:66)\n",
      "\torg.apache.spark.sql.execution.QueryExecution$$anonfun$eagerlyExecuteCommands$1.applyOrElse(QueryExecution.scala:107)\n",
      "\torg.apache.spark.sql.execution.QueryExecution$$anonfun$eagerlyExecuteCommands$1.applyOrElse(QueryExecution.scala:98)\n",
      "\torg.apache.spark.sql.catalyst.trees.TreeNode.$anonfun$transformDownWithPruning$1(TreeNode.scala:461)\n",
      "\torg.apache.spark.sql.catalyst.trees.CurrentOrigin$.withOrigin(origin.scala:76)\n",
      "\torg.apache.spark.sql.catalyst.trees.TreeNode.transformDownWithPruning(TreeNode.scala:461)\n",
      "\torg.apache.spark.sql.catalyst.plans.logical.LogicalPlan.org$apache$spark$sql$catalyst$plans$logical$AnalysisHelper$$super$transformDownWithPruning(LogicalPlan.scala:32)\n",
      "\torg.apache.spark.sql.catalyst.plans.logical.AnalysisHelper.transformDownWithPruning(AnalysisHelper.scala:267)\n",
      "\torg.apache.spark.sql.catalyst.plans.logical.AnalysisHelper.transformDownWithPruning$(AnalysisHelper.scala:263)\n",
      "\torg.apache.spark.sql.catalyst.plans.logical.LogicalPlan.transformDownWithPruning(LogicalPlan.scala:32)\n",
      "\torg.apache.spark.sql.catalyst.plans.logical.LogicalPlan.transformDownWithPruning(LogicalPlan.scala:32)\n",
      "\torg.apache.spark.sql.catalyst.trees.TreeNode.transformDown(TreeNode.scala:437)\n",
      "\torg.apache.spark.sql.execution.QueryExecution.eagerlyExecuteCommands(QueryExecution.scala:98)\n",
      "\torg.apache.spark.sql.execution.QueryExecution.commandExecuted$lzycompute(QueryExecution.scala:85)\n",
      "\torg.apache.spark.sql.execution.QueryExecution.commandExecuted(QueryExecution.scala:83)\n",
      "\torg.apache.spark.sql.Dataset.<init>(Dataset.scala:220)\n",
      "\torg.apache.spark.sql.Dataset$.$anonfun$ofRows$2(Dataset.scala:100)\n",
      "\torg.apache.spark.sql.SparkSession.withActive(SparkSession.scala:900)\n",
      "\torg.apache.spark.sql.Dataset$.ofRows(Dataset.scala:97)\n",
      "\torg.apache.spark.sql.SparkSession.$anonfun$sql$1(SparkSession.scala:638)\n",
      "\torg.apache.spark.sql.SparkSession.withActive(SparkSession.scala:900)\n",
      "\torg.apache.spark.sql.SparkSession.sql(SparkSession.scala:629)\n",
      "\torg.apache.spark.sql.SparkSession.sql(SparkSession.scala:659)\n",
      "\tjava.base/jdk.internal.reflect.NativeMethodAccessorImpl.invoke0(Native Method)\n",
      "\tjava.base/jdk.internal.reflect.NativeMethodAccessorImpl.invoke(NativeMethodAccessorImpl.java:77)\n",
      "\tjava.base/jdk.internal.reflect.DelegatingMethodAccessorImpl.invoke(DelegatingMethodAccessorImpl.java:43)\n",
      "\tjava.base/java.lang.reflect.Method.invoke(Method.java:569)\n",
      "\tpy4j.reflection.MethodInvoker.invoke(MethodInvoker.java:244)\n",
      "\tpy4j.reflection.ReflectionEngine.invoke(ReflectionEngine.java:374)\n",
      "\tpy4j.Gateway.invoke(Gateway.java:282)\n",
      "\tpy4j.commands.AbstractCommand.invokeMethod(AbstractCommand.java:132)\n",
      "\tpy4j.commands.CallCommand.execute(CallCommand.java:79)\n",
      "\tpy4j.ClientServerConnection.waitForCommands(ClientServerConnection.java:182)\n",
      "\tpy4j.ClientServerConnection.run(ClientServerConnection.java:106)\n",
      "\tjava.base/java.lang.Thread.run(Thread.java:840)\n",
      "25/06/17 18:43:44 WARN S3FileIO: Unclosed S3FileIO instance created by:\n",
      "\torg.apache.iceberg.aws.s3.S3FileIO.initialize(S3FileIO.java:444)\n",
      "\torg.apache.iceberg.CatalogUtil.loadFileIO(CatalogUtil.java:402)\n",
      "\torg.apache.iceberg.CatalogUtil.loadFileIO(CatalogUtil.java:349)\n",
      "\torg.apache.iceberg.nessie.NessieCatalog.initialize(NessieCatalog.java:132)\n",
      "\torg.apache.iceberg.CatalogUtil.loadCatalog(CatalogUtil.java:277)\n",
      "\torg.apache.iceberg.CatalogUtil.buildIcebergCatalog(CatalogUtil.java:331)\n",
      "\torg.apache.iceberg.spark.SparkCatalog.buildIcebergCatalog(SparkCatalog.java:153)\n",
      "\torg.apache.iceberg.spark.SparkCatalog.initialize(SparkCatalog.java:752)\n",
      "\torg.apache.spark.sql.execution.datasources.v2.NessieCatalogBridge.setCurrentRefForSpark(NessieCatalogBridge.java:105)\n",
      "\torg.apache.spark.sql.execution.datasources.v2.UseReferenceExec.runInternal(UseReferenceExec.scala:44)\n",
      "\torg.apache.spark.sql.execution.datasources.v2.NessieExec.run(NessieExec.scala:34)\n",
      "\torg.apache.spark.sql.execution.datasources.v2.V2CommandExec.result$lzycompute(V2CommandExec.scala:43)\n",
      "\torg.apache.spark.sql.execution.datasources.v2.V2CommandExec.result(V2CommandExec.scala:43)\n",
      "\torg.apache.spark.sql.execution.datasources.v2.V2CommandExec.executeCollect(V2CommandExec.scala:49)\n",
      "\torg.apache.spark.sql.execution.QueryExecution$$anonfun$eagerlyExecuteCommands$1.$anonfun$applyOrElse$1(QueryExecution.scala:107)\n",
      "\torg.apache.spark.sql.execution.SQLExecution$.$anonfun$withNewExecutionId$6(SQLExecution.scala:125)\n",
      "\torg.apache.spark.sql.execution.SQLExecution$.withSQLConfPropagated(SQLExecution.scala:201)\n",
      "\torg.apache.spark.sql.execution.SQLExecution$.$anonfun$withNewExecutionId$1(SQLExecution.scala:108)\n",
      "\torg.apache.spark.sql.SparkSession.withActive(SparkSession.scala:900)\n",
      "\torg.apache.spark.sql.execution.SQLExecution$.withNewExecutionId(SQLExecution.scala:66)\n",
      "\torg.apache.spark.sql.execution.QueryExecution$$anonfun$eagerlyExecuteCommands$1.applyOrElse(QueryExecution.scala:107)\n",
      "\torg.apache.spark.sql.execution.QueryExecution$$anonfun$eagerlyExecuteCommands$1.applyOrElse(QueryExecution.scala:98)\n",
      "\torg.apache.spark.sql.catalyst.trees.TreeNode.$anonfun$transformDownWithPruning$1(TreeNode.scala:461)\n",
      "\torg.apache.spark.sql.catalyst.trees.CurrentOrigin$.withOrigin(origin.scala:76)\n",
      "\torg.apache.spark.sql.catalyst.trees.TreeNode.transformDownWithPruning(TreeNode.scala:461)\n",
      "\torg.apache.spark.sql.catalyst.plans.logical.LogicalPlan.org$apache$spark$sql$catalyst$plans$logical$AnalysisHelper$$super$transformDownWithPruning(LogicalPlan.scala:32)\n",
      "\torg.apache.spark.sql.catalyst.plans.logical.AnalysisHelper.transformDownWithPruning(AnalysisHelper.scala:267)\n",
      "\torg.apache.spark.sql.catalyst.plans.logical.AnalysisHelper.transformDownWithPruning$(AnalysisHelper.scala:263)\n",
      "\torg.apache.spark.sql.catalyst.plans.logical.LogicalPlan.transformDownWithPruning(LogicalPlan.scala:32)\n",
      "\torg.apache.spark.sql.catalyst.plans.logical.LogicalPlan.transformDownWithPruning(LogicalPlan.scala:32)\n",
      "\torg.apache.spark.sql.catalyst.trees.TreeNode.transformDown(TreeNode.scala:437)\n",
      "\torg.apache.spark.sql.execution.QueryExecution.eagerlyExecuteCommands(QueryExecution.scala:98)\n",
      "\torg.apache.spark.sql.execution.QueryExecution.commandExecuted$lzycompute(QueryExecution.scala:85)\n",
      "\torg.apache.spark.sql.execution.QueryExecution.commandExecuted(QueryExecution.scala:83)\n",
      "\torg.apache.spark.sql.Dataset.<init>(Dataset.scala:220)\n",
      "\torg.apache.spark.sql.Dataset$.$anonfun$ofRows$2(Dataset.scala:100)\n",
      "\torg.apache.spark.sql.SparkSession.withActive(SparkSession.scala:900)\n",
      "\torg.apache.spark.sql.Dataset$.ofRows(Dataset.scala:97)\n",
      "\torg.apache.spark.sql.SparkSession.$anonfun$sql$1(SparkSession.scala:638)\n",
      "\torg.apache.spark.sql.SparkSession.withActive(SparkSession.scala:900)\n",
      "\torg.apache.spark.sql.SparkSession.sql(SparkSession.scala:629)\n",
      "\torg.apache.spark.sql.SparkSession.sql(SparkSession.scala:659)\n",
      "\tjava.base/jdk.internal.reflect.NativeMethodAccessorImpl.invoke0(Native Method)\n",
      "\tjava.base/jdk.internal.reflect.NativeMethodAccessorImpl.invoke(NativeMethodAccessorImpl.java:77)\n",
      "\tjava.base/jdk.internal.reflect.DelegatingMethodAccessorImpl.invoke(DelegatingMethodAccessorImpl.java:43)\n",
      "\tjava.base/java.lang.reflect.Method.invoke(Method.java:569)\n",
      "\tpy4j.reflection.MethodInvoker.invoke(MethodInvoker.java:244)\n",
      "\tpy4j.reflection.ReflectionEngine.invoke(ReflectionEngine.java:374)\n",
      "\tpy4j.Gateway.invoke(Gateway.java:282)\n",
      "\tpy4j.commands.AbstractCommand.invokeMethod(AbstractCommand.java:132)\n",
      "\tpy4j.commands.CallCommand.execute(CallCommand.java:79)\n",
      "\tpy4j.ClientServerConnection.waitForCommands(ClientServerConnection.java:182)\n",
      "\tpy4j.ClientServerConnection.run(ClientServerConnection.java:106)\n",
      "\tjava.base/java.lang.Thread.run(Thread.java:840)\n",
      "2025-06-17 18:43:44,220 - INFO - dropping table: SALES_HEADER\n",
      "2025-06-17 18:43:45,244 - INFO - creating table if not exists:SALES_HEADER\n",
      "2025-06-17 18:43:45,592 - INFO - selecting data from bronze\n",
      "25/06/17 18:43:47 WARN CheckAllocator: More than one DefaultAllocationManager on classpath. Choosing first found\n",
      "2025-06-17 18:43:49,085 - INFO - inserting data (27659 rows 11, columns) SALES_HEADER\n",
      "2025-06-17 18:43:52,163 - INFO - data inserted successfully                     \n",
      "2025-06-17 18:43:52,388 - INFO - dropping table: SALES_DETAIL\n"
     ]
    },
    {
     "name": "stdout",
     "output_type": "stream",
     "text": [
      "+---------+--------------------+-----------+\n",
      "|namespace|           tableName|isTemporary|\n",
      "+---------+--------------------+-----------+\n",
      "|   SILVER|            CURRENCY|      false|\n",
      "|   SILVER|CURRENCY_RATE_HIS...|      false|\n",
      "|   SILVER|            CUSTOMER|      false|\n",
      "|   SILVER|             PRODUCT|      false|\n",
      "|   SILVER|        SALES_DETAIL|      false|\n",
      "|   SILVER|        SALES_HEADER|      false|\n",
      "+---------+--------------------+-----------+\n",
      "\n"
     ]
    },
    {
     "name": "stderr",
     "output_type": "stream",
     "text": [
      "2025-06-17 18:43:52,538 - INFO - creating table if not exists:SALES_DETAIL\n",
      "2025-06-17 18:43:52,779 - INFO - selecting data from bronze\n",
      "2025-06-17 18:43:53,045 - INFO - inserting data (60398 rows 10, columns) SALES_DETAIL\n",
      "2025-06-17 18:43:54,316 - INFO - data inserted successfully                     \n",
      "2025-06-17 18:43:54,459 - INFO - dropping table: CURRENCY_RATE_HISTORY\n",
      "2025-06-17 18:43:54,529 - INFO - creating table if not exists:CURRENCY_RATE_HISTORY\n"
     ]
    },
    {
     "name": "stdout",
     "output_type": "stream",
     "text": [
      "+---------+--------------------+-----------+\n",
      "|namespace|           tableName|isTemporary|\n",
      "+---------+--------------------+-----------+\n",
      "|   SILVER|            CURRENCY|      false|\n",
      "|   SILVER|CURRENCY_RATE_HIS...|      false|\n",
      "|   SILVER|            CUSTOMER|      false|\n",
      "|   SILVER|             PRODUCT|      false|\n",
      "|   SILVER|        SALES_DETAIL|      false|\n",
      "|   SILVER|        SALES_HEADER|      false|\n",
      "+---------+--------------------+-----------+\n",
      "\n"
     ]
    },
    {
     "name": "stderr",
     "output_type": "stream",
     "text": [
      "2025-06-17 18:43:54,662 - INFO - selecting data from bronze\n",
      "2025-06-17 18:43:54,866 - INFO - inserting data (14264 rows 5, columns) CURRENCY_RATE_HISTORY\n",
      "2025-06-17 18:43:55,263 - INFO - data inserted successfully\n"
     ]
    }
   ],
   "source": [
    "import pyspark.sql.functions as sqlf\n",
    "\n",
    "spark.sql(f\"USE REFERENCE {REF} IN nessie\").show()\n",
    "\n",
    "for item in [item for item in source_list if item[\"enabled\"]]:\n",
    "    table_name = item[\"table_name\"].upper()\n",
    "\n",
    "    # check table if exists\n",
    "    df_table_list = spark.sql(f\"SHOW TABLES IN nessie.{namespace}\")\n",
    "    df_table_list.withColumn(\"tableName\", sqlf.concat_ws(\"_\", sqlf.lit(namespace), sqlf.col(\"tableName\")))\n",
    "    df_table_list.show()\n",
    "    table_exists = df_table_list.filter(df_table_list.tableName == table_name).count() > 0  \n",
    "    \n",
    "    if table_exists:\n",
    "        # truncate table\n",
    "        logger.info(f'dropping table: {table_name}')\n",
    "        spark.sql(f\"DROP TABLE {namespace}.{table_name}\")\n",
    "    \n",
    "    # create table\n",
    "    logger.info(f'creating table if not exists:{table_name}')\n",
    "    spark.sql(item[\"sql_create_table\"])\n",
    "\n",
    "    # select data from bronze table\n",
    "    logger.info('selecting data from bronze')\n",
    "    df = spark.sql(item[\"sql_select\"])\n",
    "    num_rows, num_columns = df.count(), len(df.columns)\n",
    "\n",
    "    # insert data into silver\n",
    "    logger.info(f'inserting data ({num_rows} rows {num_columns}, columns) {table_name}')\n",
    "    df.writeTo(f\"{namespace}.{table_name}\").append()\n",
    "    logger.info(f'data inserted successfully')\n",
    "\n"
   ]
  },
  {
   "cell_type": "code",
   "execution_count": 10,
   "id": "2d36ec88",
   "metadata": {},
   "outputs": [
    {
     "name": "stdout",
     "output_type": "stream",
     "text": [
      "+-------+----+--------------------+\n",
      "|refType|name|                hash|\n",
      "+-------+----+--------------------+\n",
      "| Branch| etl|acc1edca3f7325fb7...|\n",
      "| Branch|main|5869ac1f0b1fde7fc...|\n",
      "+-------+----+--------------------+\n",
      "\n"
     ]
    }
   ],
   "source": [
    "spark.sql(\"LIST REFERENCES IN nessie\").show()"
   ]
  },
  {
   "cell_type": "code",
   "execution_count": 11,
   "id": "72b5caaf",
   "metadata": {},
   "outputs": [
    {
     "name": "stdout",
     "output_type": "stream",
     "text": [
      "+----+--------------------+\n",
      "|name|                hash|\n",
      "+----+--------------------+\n",
      "|main|95568450dd81969bd...|\n",
      "+----+--------------------+\n",
      "\n",
      "+------+\n",
      "|status|\n",
      "+------+\n",
      "|    OK|\n",
      "+------+\n",
      "\n"
     ]
    }
   ],
   "source": [
    "spark.sql(f\"MERGE BRANCH {REF} INTO main IN nessie\").show()\n",
    "spark.sql(f\"DROP BRANCH {REF} IN nessie\").show()"
   ]
  },
  {
   "cell_type": "code",
   "execution_count": 12,
   "id": "11ce2533",
   "metadata": {},
   "outputs": [
    {
     "name": "stdout",
     "output_type": "stream",
     "text": [
      "+-------+----+--------------------+\n",
      "|refType|name|                hash|\n",
      "+-------+----+--------------------+\n",
      "| Branch|main|95568450dd81969bd...|\n",
      "+-------+----+--------------------+\n",
      "\n"
     ]
    }
   ],
   "source": [
    "spark.sql(\"LIST REFERENCES IN nessie\").show()"
   ]
  },
  {
   "cell_type": "code",
   "execution_count": null,
   "id": "8417295d",
   "metadata": {},
   "outputs": [],
   "source": []
  }
 ],
 "metadata": {
  "kernelspec": {
   "display_name": "Python 3 (ipykernel)",
   "language": "python",
   "name": "python3"
  }
 },
 "nbformat": 4,
 "nbformat_minor": 5
}
