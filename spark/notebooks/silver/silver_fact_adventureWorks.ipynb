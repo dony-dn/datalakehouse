{
 "cells": [
  {
   "cell_type": "code",
   "execution_count": null,
   "id": "4e47fa32",
   "metadata": {},
   "outputs": [],
   "source": [
    "import os, sys\n",
    "import logging\n",
    "logging.basicConfig(level=logging.INFO, format=\"%(asctime)s - %(levelname)s - %(message)s\")\n",
    "logger = logging.getLogger(__name__)\n",
    "logger.setLevel(logging.INFO)\n",
    "\n",
    "logger.info(\"Application started successfully.\")"
   ]
  },
  {
   "cell_type": "code",
   "execution_count": null,
   "id": "f304c91f",
   "metadata": {},
   "outputs": [],
   "source": [
    "# load environment variables\n",
    "\n",
    "storage_account = os.environ[\"AZURE_STORAGE_ACCOUNT_NAME\"]\n",
    "access_key = os.environ[\"AZURE_STORAGE_ACCOUNT_ACCESS_KEY\"]\n",
    "NESSIE_URI = os.environ['NESSIE_URI']\n",
    "REF = \"etl\"\n",
    "FULL_PATH_TO_WAREHOUSE = os.environ['WAREHOUSE']\n",
    "AWS_S3_ENDPOINT = os.environ[\"AWS_S3_ENDPOINT\"]\n",
    "AWS_ACCESS_KEY = os.environ['AWS_ACCESS_KEY_ID']\n",
    "AWS_SECRET_KEY  = os.environ['AWS_SECRET_ACCESS_KEY']"
   ]
  },
  {
   "cell_type": "code",
   "execution_count": null,
   "id": "38aaef9b",
   "metadata": {},
   "outputs": [],
   "source": [
    "# set pyspark configuration\n",
    "from pyspark import SparkConf\n",
    "\n",
    "conf = SparkConf() \\\n",
    "    .setAppName(\"Read_csv_from_azure_blob\") \\\n",
    "    .setMaster(\"local[*]\") \\\n",
    "    .set(\"spark.executor.memory\", \"4g\") \\\n",
    "    .set(\"spark.driver.memory\", \"2g\")"
   ]
  },
  {
   "cell_type": "code",
   "execution_count": null,
   "id": "89fb9ff3",
   "metadata": {},
   "outputs": [],
   "source": [
    "from pyspark.sql import SparkSession\n",
    "\n",
    "spark = SparkSession.builder.config(conf=conf).getOrCreate()\n",
    "spark"
   ]
  },
  {
   "cell_type": "code",
   "execution_count": null,
   "id": "5997e005",
   "metadata": {},
   "outputs": [],
   "source": [
    "from pyspark.sql import SparkSession\n",
    "\n",
    "spark = SparkSession.builder.config(conf=conf).getOrCreate()\n",
    "spark"
   ]
  },
  {
   "cell_type": "code",
   "execution_count": null,
   "id": "0751c60d",
   "metadata": {},
   "outputs": [],
   "source": [
    "# create bronze silver in nessie catalog\n",
    "spark.sql(f\"USE REFERENCE main IN nessie\").show()\n",
    "namespace = \"SILVER\"\n",
    "df = spark.sql(\"SHOW NAMESPACES in nessie\")\n",
    "namespace_exists = df.filter(df.namespace == namespace).count() > 0\n",
    "\n",
    "logger.info(f\"namespace {namespace} exists: {namespace_exists}\")\n",
    "if not namespace_exists:\n",
    "    spark.sql(f\"CREATE NAMESPACE nessie.{namespace}\").show()\n",
    "\n",
    "spark.sql(\"SHOW NAMESPACES in nessie\").show()\n"
   ]
  },
  {
   "cell_type": "code",
   "execution_count": null,
   "id": "31bd065e",
   "metadata": {},
   "outputs": [],
   "source": [
    "# create etl branch\n",
    "spark.sql(f\"USE REFERENCE main IN nessie\").show()\n",
    "spark.sql(f\"DROP BRANCH IF EXISTS {REF}\").show()\n",
    "spark.sql(f\"CREATE BRANCH {REF} IN nessie FROM main\").show()\n",
    "spark.sql(f\"LIST REFERENCES IN nessie\").show()"
   ]
  },
  {
   "cell_type": "code",
   "execution_count": null,
   "id": "31f6084d",
   "metadata": {},
   "outputs": [],
   "source": [
    "import notebooks.lib.silver_fact_adventureWorks_sql as sql\n",
    "import importlib\n",
    "importlib.reload(sql)\n",
    "\n",
    "source_list = [\n",
    "    {\n",
    "        \"table_name\": \"SALES_HEADER\",\n",
    "        \"sql_create_table\": sql.sql_create_silver_sales_header,\n",
    "        \"sql_select\": sql.sql_select_bronze_sales_header,\n",
    "        \"enabled\": True\n",
    "    },\n",
    "    {\n",
    "        \"table_name\": \"SALES_DETAIL\",\n",
    "        \"sql_create_table\": sql.sql_create_silver_sales_detail,\n",
    "        \"sql_select\": sql.sql_select_bronze_sales_detail,\n",
    "        \"enabled\": True\n",
    "    },\n",
    "    {\n",
    "        \"table_name\": \"CURRENCY_RATE_HISTORY\",\n",
    "        \"sql_create_table\": sql.sql_create_silver_currency_rate_history,\n",
    "        \"sql_select\": sql.sql_select_bronze_currency_rate_history,\n",
    "        \"enabled\": True\n",
    "    }\n",
    "]"
   ]
  },
  {
   "cell_type": "code",
   "execution_count": null,
   "id": "6dad1d4c",
   "metadata": {},
   "outputs": [],
   "source": [
    "import pyspark.sql.functions as sqlf\n",
    "\n",
    "spark.sql(f\"USE REFERENCE {REF} IN nessie\").show()\n",
    "\n",
    "for item in [item for item in source_list if item[\"enabled\"]]:\n",
    "    table_name = item[\"table_name\"].upper()\n",
    "\n",
    "    # check table if exists\n",
    "    df_table_list = spark.sql(f\"SHOW TABLES IN nessie.{namespace}\")\n",
    "    df_table_list.withColumn(\"tableName\", sqlf.concat_ws(\"_\", sqlf.lit(namespace), sqlf.col(\"tableName\")))\n",
    "    df_table_list.show()\n",
    "    table_exists = df_table_list.filter(df_table_list.tableName == table_name).count() > 0  \n",
    "    \n",
    "    if table_exists:\n",
    "        # truncate table\n",
    "        logger.info(f'dropping table: {table_name}')\n",
    "        spark.sql(f\"DROP TABLE {namespace}.{table_name}\")\n",
    "    \n",
    "    # create table\n",
    "    logger.info(f'creating table if not exists:{table_name}')\n",
    "    spark.sql(item[\"sql_create_table\"])\n",
    "\n",
    "    # select data from bronze table\n",
    "    logger.info('selecting data from bronze')\n",
    "    df = spark.sql(item[\"sql_select\"])\n",
    "    num_rows, num_columns = df.count(), len(df.columns)\n",
    "\n",
    "    # insert data into silver\n",
    "    logger.info(f'inserting data ({num_rows} rows {num_columns}, columns) {table_name}')\n",
    "    df.writeTo(f\"{namespace}.{table_name}\").append()\n",
    "    logger.info(f'data inserted successfully')\n",
    "\n"
   ]
  },
  {
   "cell_type": "code",
   "execution_count": null,
   "id": "2d36ec88",
   "metadata": {},
   "outputs": [],
   "source": [
    "spark.sql(\"LIST REFERENCES IN nessie\").show()"
   ]
  },
  {
   "cell_type": "code",
   "execution_count": null,
   "id": "72b5caaf",
   "metadata": {},
   "outputs": [],
   "source": [
    "spark.sql(f\"MERGE BRANCH {REF} INTO main IN nessie\").show()\n",
    "spark.sql(f\"DROP BRANCH {REF} IN nessie\").show()"
   ]
  },
  {
   "cell_type": "code",
   "execution_count": null,
   "id": "11ce2533",
   "metadata": {},
   "outputs": [],
   "source": [
    "spark.sql(\"LIST REFERENCES IN nessie\").show()"
   ]
  },
  {
   "cell_type": "code",
   "execution_count": null,
   "id": "8417295d",
   "metadata": {},
   "outputs": [],
   "source": []
  }
 ],
 "metadata": {
  "kernelspec": {
   "display_name": "Python 3 (ipykernel)",
   "language": "python",
   "name": "python3"
  },
  "language_info": {
   "codemirror_mode": {
    "name": "ipython",
    "version": 3
   },
   "file_extension": ".py",
   "mimetype": "text/x-python",
   "name": "python",
   "nbconvert_exporter": "python",
   "pygments_lexer": "ipython3",
   "version": "3.10.16"
  }
 },
 "nbformat": 4,
 "nbformat_minor": 5
}
