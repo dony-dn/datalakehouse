{
 "cells": [
  {
   "cell_type": "code",
   "execution_count": 7,
   "id": "4e47fa32",
   "metadata": {},
   "outputs": [
    {
     "name": "stderr",
     "output_type": "stream",
     "text": [
      "2025-06-13 03:54:27,584 - INFO - Application started successfully.\n"
     ]
    }
   ],
   "source": [
    "import os, sys\n",
    "import logging\n",
    "logging.basicConfig(level=logging.INFO, format=\"%(asctime)s - %(levelname)s - %(message)s\")\n",
    "logger = logging.getLogger(__name__)\n",
    "logger.setLevel(logging.INFO)\n",
    "\n",
    "logger.info(\"Application started successfully.\")"
   ]
  },
  {
   "cell_type": "code",
   "execution_count": 2,
   "id": "f304c91f",
   "metadata": {},
   "outputs": [],
   "source": [
    "# load environment variables\n",
    "\n",
    "storage_account = os.environ[\"AZURE_STORAGE_ACCOUNT_NAME\"]\n",
    "access_key = os.environ[\"AZURE_STORAGE_ACCOUNT_ACCESS_KEY\"]\n",
    "NESSIE_URI = os.environ['NESSIE_URI']\n",
    "REF = \"main\"\n",
    "FULL_PATH_TO_WAREHOUSE = os.environ['WAREHOUSE']\n",
    "AWS_S3_ENDPOINT = os.environ[\"AWS_S3_ENDPOINT\"]\n",
    "AWS_ACCESS_KEY = os.environ['AWS_ACCESS_KEY_ID']\n",
    "AWS_SECRET_KEY  = os.environ['AWS_SECRET_ACCESS_KEY']"
   ]
  },
  {
   "cell_type": "code",
   "execution_count": 3,
   "id": "38aaef9b",
   "metadata": {},
   "outputs": [],
   "source": [
    "# set pyspark configuration\n",
    "from pyspark import SparkConf\n",
    "\n",
    "conf = SparkConf() \\\n",
    "    .setAppName(\"Read_csv_from_azure_blob\") \\\n",
    "    .setMaster(\"local[*]\") \\\n",
    "    .set(\"spark.executor.memory\", \"4g\") \\\n",
    "    .set(\"spark.driver.memory\", \"2g\")"
   ]
  },
  {
   "cell_type": "code",
   "execution_count": 4,
   "id": "89fb9ff3",
   "metadata": {},
   "outputs": [
    {
     "name": "stderr",
     "output_type": "stream",
     "text": [
      "25/06/13 03:53:09 WARN SparkSession: Using an existing Spark session; only runtime SQL configurations will take effect.\n"
     ]
    },
    {
     "data": {
      "text/html": [
       "\n",
       "            <div>\n",
       "                <p><b>SparkSession - in-memory</b></p>\n",
       "                \n",
       "        <div>\n",
       "            <p><b>SparkContext</b></p>\n",
       "\n",
       "            <p><a href=\"http://9cb6ff7c7691:4042\">Spark UI</a></p>\n",
       "\n",
       "            <dl>\n",
       "              <dt>Version</dt>\n",
       "                <dd><code>v3.5.5</code></dd>\n",
       "              <dt>Master</dt>\n",
       "                <dd><code>local[*]</code></dd>\n",
       "              <dt>AppName</dt>\n",
       "                <dd><code>PySparkShell</code></dd>\n",
       "            </dl>\n",
       "        </div>\n",
       "        \n",
       "            </div>\n",
       "        "
      ],
      "text/plain": [
       "<pyspark.sql.session.SparkSession at 0x74047dd46170>"
      ]
     },
     "execution_count": 4,
     "metadata": {},
     "output_type": "execute_result"
    }
   ],
   "source": [
    "from pyspark.sql import SparkSession\n",
    "\n",
    "spark = SparkSession.builder.config(conf=conf).getOrCreate()\n",
    "spark"
   ]
  },
  {
   "cell_type": "code",
   "execution_count": 5,
   "id": "d53bf48d",
   "metadata": {},
   "outputs": [
    {
     "ename": "Py4JJavaError",
     "evalue": "An error occurred while calling o47.sql.\n: org.apache.iceberg.exceptions.NamespaceNotEmptyException: Namespace 'silver' is not empty.\n\tat org.apache.iceberg.nessie.NessieIcebergClient.dropNamespace(NessieIcebergClient.java:338)\n\tat org.apache.iceberg.nessie.NessieCatalog.dropNamespace(NessieCatalog.java:316)\n\tat org.apache.iceberg.spark.SparkCatalog.dropNamespace(SparkCatalog.java:532)\n\tat org.apache.spark.sql.execution.datasources.v2.DropNamespaceExec.run(DropNamespaceExec.scala:42)\n\tat org.apache.spark.sql.execution.datasources.v2.V2CommandExec.result$lzycompute(V2CommandExec.scala:43)\n\tat org.apache.spark.sql.execution.datasources.v2.V2CommandExec.result(V2CommandExec.scala:43)\n\tat org.apache.spark.sql.execution.datasources.v2.V2CommandExec.executeCollect(V2CommandExec.scala:49)\n\tat org.apache.spark.sql.execution.QueryExecution$$anonfun$eagerlyExecuteCommands$1.$anonfun$applyOrElse$1(QueryExecution.scala:107)\n\tat org.apache.spark.sql.execution.SQLExecution$.$anonfun$withNewExecutionId$6(SQLExecution.scala:125)\n\tat org.apache.spark.sql.execution.SQLExecution$.withSQLConfPropagated(SQLExecution.scala:201)\n\tat org.apache.spark.sql.execution.SQLExecution$.$anonfun$withNewExecutionId$1(SQLExecution.scala:108)\n\tat org.apache.spark.sql.SparkSession.withActive(SparkSession.scala:900)\n\tat org.apache.spark.sql.execution.SQLExecution$.withNewExecutionId(SQLExecution.scala:66)\n\tat org.apache.spark.sql.execution.QueryExecution$$anonfun$eagerlyExecuteCommands$1.applyOrElse(QueryExecution.scala:107)\n\tat org.apache.spark.sql.execution.QueryExecution$$anonfun$eagerlyExecuteCommands$1.applyOrElse(QueryExecution.scala:98)\n\tat org.apache.spark.sql.catalyst.trees.TreeNode.$anonfun$transformDownWithPruning$1(TreeNode.scala:461)\n\tat org.apache.spark.sql.catalyst.trees.CurrentOrigin$.withOrigin(origin.scala:76)\n\tat org.apache.spark.sql.catalyst.trees.TreeNode.transformDownWithPruning(TreeNode.scala:461)\n\tat org.apache.spark.sql.catalyst.plans.logical.LogicalPlan.org$apache$spark$sql$catalyst$plans$logical$AnalysisHelper$$super$transformDownWithPruning(LogicalPlan.scala:32)\n\tat org.apache.spark.sql.catalyst.plans.logical.AnalysisHelper.transformDownWithPruning(AnalysisHelper.scala:267)\n\tat org.apache.spark.sql.catalyst.plans.logical.AnalysisHelper.transformDownWithPruning$(AnalysisHelper.scala:263)\n\tat org.apache.spark.sql.catalyst.plans.logical.LogicalPlan.transformDownWithPruning(LogicalPlan.scala:32)\n\tat org.apache.spark.sql.catalyst.plans.logical.LogicalPlan.transformDownWithPruning(LogicalPlan.scala:32)\n\tat org.apache.spark.sql.catalyst.trees.TreeNode.transformDown(TreeNode.scala:437)\n\tat org.apache.spark.sql.execution.QueryExecution.eagerlyExecuteCommands(QueryExecution.scala:98)\n\tat org.apache.spark.sql.execution.QueryExecution.commandExecuted$lzycompute(QueryExecution.scala:85)\n\tat org.apache.spark.sql.execution.QueryExecution.commandExecuted(QueryExecution.scala:83)\n\tat org.apache.spark.sql.Dataset.<init>(Dataset.scala:220)\n\tat org.apache.spark.sql.Dataset$.$anonfun$ofRows$2(Dataset.scala:100)\n\tat org.apache.spark.sql.SparkSession.withActive(SparkSession.scala:900)\n\tat org.apache.spark.sql.Dataset$.ofRows(Dataset.scala:97)\n\tat org.apache.spark.sql.SparkSession.$anonfun$sql$1(SparkSession.scala:638)\n\tat org.apache.spark.sql.SparkSession.withActive(SparkSession.scala:900)\n\tat org.apache.spark.sql.SparkSession.sql(SparkSession.scala:629)\n\tat org.apache.spark.sql.SparkSession.sql(SparkSession.scala:659)\n\tat java.base/jdk.internal.reflect.NativeMethodAccessorImpl.invoke0(Native Method)\n\tat java.base/jdk.internal.reflect.NativeMethodAccessorImpl.invoke(NativeMethodAccessorImpl.java:77)\n\tat java.base/jdk.internal.reflect.DelegatingMethodAccessorImpl.invoke(DelegatingMethodAccessorImpl.java:43)\n\tat java.base/java.lang.reflect.Method.invoke(Method.java:569)\n\tat py4j.reflection.MethodInvoker.invoke(MethodInvoker.java:244)\n\tat py4j.reflection.ReflectionEngine.invoke(ReflectionEngine.java:374)\n\tat py4j.Gateway.invoke(Gateway.java:282)\n\tat py4j.commands.AbstractCommand.invokeMethod(AbstractCommand.java:132)\n\tat py4j.commands.CallCommand.execute(CallCommand.java:79)\n\tat py4j.ClientServerConnection.waitForCommands(ClientServerConnection.java:182)\n\tat py4j.ClientServerConnection.run(ClientServerConnection.java:106)\n\tat java.base/java.lang.Thread.run(Thread.java:840)\nCaused by: org.projectnessie.error.NessieReferenceConflictException: Namespace 'silver' is not empty.\n\tat org.projectnessie.error.ErrorCode.lambda$asException$1(ErrorCode.java:66)\n\tat java.base/java.util.Optional.map(Optional.java:260)\n\tat org.projectnessie.error.ErrorCode.asException(ErrorCode.java:66)\n\tat org.projectnessie.client.rest.ResponseCheckFilter.checkResponse(ResponseCheckFilter.java:62)\n\tat org.projectnessie.client.rest.NessieHttpResponseFilter.filter(NessieHttpResponseFilter.java:29)\n\tat org.projectnessie.client.http.impl.BaseHttpRequest.lambda$processResponseFilters$1(BaseHttpRequest.java:144)\n\tat java.base/java.util.Collections$SingletonList.forEach(Collections.java:4966)\n\tat org.projectnessie.client.http.impl.BaseHttpRequest.processResponseFilters(BaseHttpRequest.java:144)\n\tat org.projectnessie.client.http.impl.BaseHttpRequest.executeRequest(BaseHttpRequest.java:70)\n\tat org.projectnessie.client.http.HttpRequest.post(HttpRequest.java:122)\n\tat org.projectnessie.client.http.HttpRequestWrapper.lambda$post$0(HttpRequestWrapper.java:62)\n\tat org.projectnessie.client.http.HttpRequestWrapper.unwrap(HttpRequestWrapper.java:72)\n\tat org.projectnessie.client.http.HttpRequestWrapper.post(HttpRequestWrapper.java:62)\n\tat org.projectnessie.client.rest.v2.HttpCommitMultipleOperations.commitWithResponse(HttpCommitMultipleOperations.java:47)\n\tat org.projectnessie.client.rest.v2.HttpCommitMultipleOperations.commit(HttpCommitMultipleOperations.java:35)\n\tat org.apache.iceberg.nessie.NessieIcebergClient.lambda$commitRetry$14(NessieIcebergClient.java:769)\n\tat org.apache.iceberg.util.Tasks$Builder.runTaskWithRetry(Tasks.java:413)\n\tat org.apache.iceberg.util.Tasks$Builder.runSingleThreaded(Tasks.java:219)\n\tat org.apache.iceberg.util.Tasks$Builder.run(Tasks.java:203)\n\tat org.apache.iceberg.nessie.NessieIcebergClient.commitRetry(NessieIcebergClient.java:761)\n\tat org.apache.iceberg.nessie.NessieIcebergClient.commitRetry(NessieIcebergClient.java:745)\n\tat org.apache.iceberg.nessie.NessieIcebergClient.dropNamespace(NessieIcebergClient.java:323)\n\t... 46 more\n",
     "output_type": "error",
     "traceback": [
      "\u001b[0;31m---------------------------------------------------------------------------\u001b[0m",
      "\u001b[0;31mPy4JJavaError\u001b[0m                             Traceback (most recent call last)",
      "Cell \u001b[0;32mIn[5], line 1\u001b[0m\n\u001b[0;32m----> 1\u001b[0m \u001b[43mspark\u001b[49m\u001b[38;5;241;43m.\u001b[39;49m\u001b[43msql\u001b[49m\u001b[43m(\u001b[49m\u001b[38;5;124;43m\"\u001b[39;49m\u001b[38;5;124;43mDROP NAMESPACE IF EXISTS nessie.silver\u001b[39;49m\u001b[38;5;124;43m\"\u001b[39;49m\u001b[43m)\u001b[49m\n\u001b[1;32m      2\u001b[0m spark\u001b[38;5;241m.\u001b[39msql(\u001b[38;5;124m\"\u001b[39m\u001b[38;5;124mCREATE NAMESPACE nessie.silver\u001b[39m\u001b[38;5;124m\"\u001b[39m)\n\u001b[1;32m      3\u001b[0m spark\u001b[38;5;241m.\u001b[39msql(\u001b[38;5;124m\"\u001b[39m\u001b[38;5;124mSHOW NAMESPACES in nessie\u001b[39m\u001b[38;5;124m\"\u001b[39m)\u001b[38;5;241m.\u001b[39mshow()\n",
      "File \u001b[0;32m/opt/spark/python/pyspark/sql/session.py:1631\u001b[0m, in \u001b[0;36mSparkSession.sql\u001b[0;34m(self, sqlQuery, args, **kwargs)\u001b[0m\n\u001b[1;32m   1627\u001b[0m         \u001b[38;5;28;01massert\u001b[39;00m \u001b[38;5;28mself\u001b[39m\u001b[38;5;241m.\u001b[39m_jvm \u001b[38;5;129;01mis\u001b[39;00m \u001b[38;5;129;01mnot\u001b[39;00m \u001b[38;5;28;01mNone\u001b[39;00m\n\u001b[1;32m   1628\u001b[0m         litArgs \u001b[38;5;241m=\u001b[39m \u001b[38;5;28mself\u001b[39m\u001b[38;5;241m.\u001b[39m_jvm\u001b[38;5;241m.\u001b[39mPythonUtils\u001b[38;5;241m.\u001b[39mtoArray(\n\u001b[1;32m   1629\u001b[0m             [_to_java_column(lit(v)) \u001b[38;5;28;01mfor\u001b[39;00m v \u001b[38;5;129;01min\u001b[39;00m (args \u001b[38;5;129;01mor\u001b[39;00m [])]\n\u001b[1;32m   1630\u001b[0m         )\n\u001b[0;32m-> 1631\u001b[0m     \u001b[38;5;28;01mreturn\u001b[39;00m DataFrame(\u001b[38;5;28;43mself\u001b[39;49m\u001b[38;5;241;43m.\u001b[39;49m\u001b[43m_jsparkSession\u001b[49m\u001b[38;5;241;43m.\u001b[39;49m\u001b[43msql\u001b[49m\u001b[43m(\u001b[49m\u001b[43msqlQuery\u001b[49m\u001b[43m,\u001b[49m\u001b[43m \u001b[49m\u001b[43mlitArgs\u001b[49m\u001b[43m)\u001b[49m, \u001b[38;5;28mself\u001b[39m)\n\u001b[1;32m   1632\u001b[0m \u001b[38;5;28;01mfinally\u001b[39;00m:\n\u001b[1;32m   1633\u001b[0m     \u001b[38;5;28;01mif\u001b[39;00m \u001b[38;5;28mlen\u001b[39m(kwargs) \u001b[38;5;241m>\u001b[39m \u001b[38;5;241m0\u001b[39m:\n",
      "File \u001b[0;32m/opt/spark/python/lib/py4j-0.10.9.7-src.zip/py4j/java_gateway.py:1322\u001b[0m, in \u001b[0;36mJavaMember.__call__\u001b[0;34m(self, *args)\u001b[0m\n\u001b[1;32m   1316\u001b[0m command \u001b[38;5;241m=\u001b[39m proto\u001b[38;5;241m.\u001b[39mCALL_COMMAND_NAME \u001b[38;5;241m+\u001b[39m\\\n\u001b[1;32m   1317\u001b[0m     \u001b[38;5;28mself\u001b[39m\u001b[38;5;241m.\u001b[39mcommand_header \u001b[38;5;241m+\u001b[39m\\\n\u001b[1;32m   1318\u001b[0m     args_command \u001b[38;5;241m+\u001b[39m\\\n\u001b[1;32m   1319\u001b[0m     proto\u001b[38;5;241m.\u001b[39mEND_COMMAND_PART\n\u001b[1;32m   1321\u001b[0m answer \u001b[38;5;241m=\u001b[39m \u001b[38;5;28mself\u001b[39m\u001b[38;5;241m.\u001b[39mgateway_client\u001b[38;5;241m.\u001b[39msend_command(command)\n\u001b[0;32m-> 1322\u001b[0m return_value \u001b[38;5;241m=\u001b[39m \u001b[43mget_return_value\u001b[49m\u001b[43m(\u001b[49m\n\u001b[1;32m   1323\u001b[0m \u001b[43m    \u001b[49m\u001b[43manswer\u001b[49m\u001b[43m,\u001b[49m\u001b[43m \u001b[49m\u001b[38;5;28;43mself\u001b[39;49m\u001b[38;5;241;43m.\u001b[39;49m\u001b[43mgateway_client\u001b[49m\u001b[43m,\u001b[49m\u001b[43m \u001b[49m\u001b[38;5;28;43mself\u001b[39;49m\u001b[38;5;241;43m.\u001b[39;49m\u001b[43mtarget_id\u001b[49m\u001b[43m,\u001b[49m\u001b[43m \u001b[49m\u001b[38;5;28;43mself\u001b[39;49m\u001b[38;5;241;43m.\u001b[39;49m\u001b[43mname\u001b[49m\u001b[43m)\u001b[49m\n\u001b[1;32m   1325\u001b[0m \u001b[38;5;28;01mfor\u001b[39;00m temp_arg \u001b[38;5;129;01min\u001b[39;00m temp_args:\n\u001b[1;32m   1326\u001b[0m     \u001b[38;5;28;01mif\u001b[39;00m \u001b[38;5;28mhasattr\u001b[39m(temp_arg, \u001b[38;5;124m\"\u001b[39m\u001b[38;5;124m_detach\u001b[39m\u001b[38;5;124m\"\u001b[39m):\n",
      "File \u001b[0;32m/opt/spark/python/pyspark/errors/exceptions/captured.py:179\u001b[0m, in \u001b[0;36mcapture_sql_exception.<locals>.deco\u001b[0;34m(*a, **kw)\u001b[0m\n\u001b[1;32m    177\u001b[0m \u001b[38;5;28;01mdef\u001b[39;00m\u001b[38;5;250m \u001b[39m\u001b[38;5;21mdeco\u001b[39m(\u001b[38;5;241m*\u001b[39ma: Any, \u001b[38;5;241m*\u001b[39m\u001b[38;5;241m*\u001b[39mkw: Any) \u001b[38;5;241m-\u001b[39m\u001b[38;5;241m>\u001b[39m Any:\n\u001b[1;32m    178\u001b[0m     \u001b[38;5;28;01mtry\u001b[39;00m:\n\u001b[0;32m--> 179\u001b[0m         \u001b[38;5;28;01mreturn\u001b[39;00m \u001b[43mf\u001b[49m\u001b[43m(\u001b[49m\u001b[38;5;241;43m*\u001b[39;49m\u001b[43ma\u001b[49m\u001b[43m,\u001b[49m\u001b[43m \u001b[49m\u001b[38;5;241;43m*\u001b[39;49m\u001b[38;5;241;43m*\u001b[39;49m\u001b[43mkw\u001b[49m\u001b[43m)\u001b[49m\n\u001b[1;32m    180\u001b[0m     \u001b[38;5;28;01mexcept\u001b[39;00m Py4JJavaError \u001b[38;5;28;01mas\u001b[39;00m e:\n\u001b[1;32m    181\u001b[0m         converted \u001b[38;5;241m=\u001b[39m convert_exception(e\u001b[38;5;241m.\u001b[39mjava_exception)\n",
      "File \u001b[0;32m/opt/spark/python/lib/py4j-0.10.9.7-src.zip/py4j/protocol.py:326\u001b[0m, in \u001b[0;36mget_return_value\u001b[0;34m(answer, gateway_client, target_id, name)\u001b[0m\n\u001b[1;32m    324\u001b[0m value \u001b[38;5;241m=\u001b[39m OUTPUT_CONVERTER[\u001b[38;5;28mtype\u001b[39m](answer[\u001b[38;5;241m2\u001b[39m:], gateway_client)\n\u001b[1;32m    325\u001b[0m \u001b[38;5;28;01mif\u001b[39;00m answer[\u001b[38;5;241m1\u001b[39m] \u001b[38;5;241m==\u001b[39m REFERENCE_TYPE:\n\u001b[0;32m--> 326\u001b[0m     \u001b[38;5;28;01mraise\u001b[39;00m Py4JJavaError(\n\u001b[1;32m    327\u001b[0m         \u001b[38;5;124m\"\u001b[39m\u001b[38;5;124mAn error occurred while calling \u001b[39m\u001b[38;5;132;01m{0}\u001b[39;00m\u001b[38;5;132;01m{1}\u001b[39;00m\u001b[38;5;132;01m{2}\u001b[39;00m\u001b[38;5;124m.\u001b[39m\u001b[38;5;130;01m\\n\u001b[39;00m\u001b[38;5;124m\"\u001b[39m\u001b[38;5;241m.\u001b[39m\n\u001b[1;32m    328\u001b[0m         \u001b[38;5;28mformat\u001b[39m(target_id, \u001b[38;5;124m\"\u001b[39m\u001b[38;5;124m.\u001b[39m\u001b[38;5;124m\"\u001b[39m, name), value)\n\u001b[1;32m    329\u001b[0m \u001b[38;5;28;01melse\u001b[39;00m:\n\u001b[1;32m    330\u001b[0m     \u001b[38;5;28;01mraise\u001b[39;00m Py4JError(\n\u001b[1;32m    331\u001b[0m         \u001b[38;5;124m\"\u001b[39m\u001b[38;5;124mAn error occurred while calling \u001b[39m\u001b[38;5;132;01m{0}\u001b[39;00m\u001b[38;5;132;01m{1}\u001b[39;00m\u001b[38;5;132;01m{2}\u001b[39;00m\u001b[38;5;124m. Trace:\u001b[39m\u001b[38;5;130;01m\\n\u001b[39;00m\u001b[38;5;132;01m{3}\u001b[39;00m\u001b[38;5;130;01m\\n\u001b[39;00m\u001b[38;5;124m\"\u001b[39m\u001b[38;5;241m.\u001b[39m\n\u001b[1;32m    332\u001b[0m         \u001b[38;5;28mformat\u001b[39m(target_id, \u001b[38;5;124m\"\u001b[39m\u001b[38;5;124m.\u001b[39m\u001b[38;5;124m\"\u001b[39m, name, value))\n",
      "\u001b[0;31mPy4JJavaError\u001b[0m: An error occurred while calling o47.sql.\n: org.apache.iceberg.exceptions.NamespaceNotEmptyException: Namespace 'silver' is not empty.\n\tat org.apache.iceberg.nessie.NessieIcebergClient.dropNamespace(NessieIcebergClient.java:338)\n\tat org.apache.iceberg.nessie.NessieCatalog.dropNamespace(NessieCatalog.java:316)\n\tat org.apache.iceberg.spark.SparkCatalog.dropNamespace(SparkCatalog.java:532)\n\tat org.apache.spark.sql.execution.datasources.v2.DropNamespaceExec.run(DropNamespaceExec.scala:42)\n\tat org.apache.spark.sql.execution.datasources.v2.V2CommandExec.result$lzycompute(V2CommandExec.scala:43)\n\tat org.apache.spark.sql.execution.datasources.v2.V2CommandExec.result(V2CommandExec.scala:43)\n\tat org.apache.spark.sql.execution.datasources.v2.V2CommandExec.executeCollect(V2CommandExec.scala:49)\n\tat org.apache.spark.sql.execution.QueryExecution$$anonfun$eagerlyExecuteCommands$1.$anonfun$applyOrElse$1(QueryExecution.scala:107)\n\tat org.apache.spark.sql.execution.SQLExecution$.$anonfun$withNewExecutionId$6(SQLExecution.scala:125)\n\tat org.apache.spark.sql.execution.SQLExecution$.withSQLConfPropagated(SQLExecution.scala:201)\n\tat org.apache.spark.sql.execution.SQLExecution$.$anonfun$withNewExecutionId$1(SQLExecution.scala:108)\n\tat org.apache.spark.sql.SparkSession.withActive(SparkSession.scala:900)\n\tat org.apache.spark.sql.execution.SQLExecution$.withNewExecutionId(SQLExecution.scala:66)\n\tat org.apache.spark.sql.execution.QueryExecution$$anonfun$eagerlyExecuteCommands$1.applyOrElse(QueryExecution.scala:107)\n\tat org.apache.spark.sql.execution.QueryExecution$$anonfun$eagerlyExecuteCommands$1.applyOrElse(QueryExecution.scala:98)\n\tat org.apache.spark.sql.catalyst.trees.TreeNode.$anonfun$transformDownWithPruning$1(TreeNode.scala:461)\n\tat org.apache.spark.sql.catalyst.trees.CurrentOrigin$.withOrigin(origin.scala:76)\n\tat org.apache.spark.sql.catalyst.trees.TreeNode.transformDownWithPruning(TreeNode.scala:461)\n\tat org.apache.spark.sql.catalyst.plans.logical.LogicalPlan.org$apache$spark$sql$catalyst$plans$logical$AnalysisHelper$$super$transformDownWithPruning(LogicalPlan.scala:32)\n\tat org.apache.spark.sql.catalyst.plans.logical.AnalysisHelper.transformDownWithPruning(AnalysisHelper.scala:267)\n\tat org.apache.spark.sql.catalyst.plans.logical.AnalysisHelper.transformDownWithPruning$(AnalysisHelper.scala:263)\n\tat org.apache.spark.sql.catalyst.plans.logical.LogicalPlan.transformDownWithPruning(LogicalPlan.scala:32)\n\tat org.apache.spark.sql.catalyst.plans.logical.LogicalPlan.transformDownWithPruning(LogicalPlan.scala:32)\n\tat org.apache.spark.sql.catalyst.trees.TreeNode.transformDown(TreeNode.scala:437)\n\tat org.apache.spark.sql.execution.QueryExecution.eagerlyExecuteCommands(QueryExecution.scala:98)\n\tat org.apache.spark.sql.execution.QueryExecution.commandExecuted$lzycompute(QueryExecution.scala:85)\n\tat org.apache.spark.sql.execution.QueryExecution.commandExecuted(QueryExecution.scala:83)\n\tat org.apache.spark.sql.Dataset.<init>(Dataset.scala:220)\n\tat org.apache.spark.sql.Dataset$.$anonfun$ofRows$2(Dataset.scala:100)\n\tat org.apache.spark.sql.SparkSession.withActive(SparkSession.scala:900)\n\tat org.apache.spark.sql.Dataset$.ofRows(Dataset.scala:97)\n\tat org.apache.spark.sql.SparkSession.$anonfun$sql$1(SparkSession.scala:638)\n\tat org.apache.spark.sql.SparkSession.withActive(SparkSession.scala:900)\n\tat org.apache.spark.sql.SparkSession.sql(SparkSession.scala:629)\n\tat org.apache.spark.sql.SparkSession.sql(SparkSession.scala:659)\n\tat java.base/jdk.internal.reflect.NativeMethodAccessorImpl.invoke0(Native Method)\n\tat java.base/jdk.internal.reflect.NativeMethodAccessorImpl.invoke(NativeMethodAccessorImpl.java:77)\n\tat java.base/jdk.internal.reflect.DelegatingMethodAccessorImpl.invoke(DelegatingMethodAccessorImpl.java:43)\n\tat java.base/java.lang.reflect.Method.invoke(Method.java:569)\n\tat py4j.reflection.MethodInvoker.invoke(MethodInvoker.java:244)\n\tat py4j.reflection.ReflectionEngine.invoke(ReflectionEngine.java:374)\n\tat py4j.Gateway.invoke(Gateway.java:282)\n\tat py4j.commands.AbstractCommand.invokeMethod(AbstractCommand.java:132)\n\tat py4j.commands.CallCommand.execute(CallCommand.java:79)\n\tat py4j.ClientServerConnection.waitForCommands(ClientServerConnection.java:182)\n\tat py4j.ClientServerConnection.run(ClientServerConnection.java:106)\n\tat java.base/java.lang.Thread.run(Thread.java:840)\nCaused by: org.projectnessie.error.NessieReferenceConflictException: Namespace 'silver' is not empty.\n\tat org.projectnessie.error.ErrorCode.lambda$asException$1(ErrorCode.java:66)\n\tat java.base/java.util.Optional.map(Optional.java:260)\n\tat org.projectnessie.error.ErrorCode.asException(ErrorCode.java:66)\n\tat org.projectnessie.client.rest.ResponseCheckFilter.checkResponse(ResponseCheckFilter.java:62)\n\tat org.projectnessie.client.rest.NessieHttpResponseFilter.filter(NessieHttpResponseFilter.java:29)\n\tat org.projectnessie.client.http.impl.BaseHttpRequest.lambda$processResponseFilters$1(BaseHttpRequest.java:144)\n\tat java.base/java.util.Collections$SingletonList.forEach(Collections.java:4966)\n\tat org.projectnessie.client.http.impl.BaseHttpRequest.processResponseFilters(BaseHttpRequest.java:144)\n\tat org.projectnessie.client.http.impl.BaseHttpRequest.executeRequest(BaseHttpRequest.java:70)\n\tat org.projectnessie.client.http.HttpRequest.post(HttpRequest.java:122)\n\tat org.projectnessie.client.http.HttpRequestWrapper.lambda$post$0(HttpRequestWrapper.java:62)\n\tat org.projectnessie.client.http.HttpRequestWrapper.unwrap(HttpRequestWrapper.java:72)\n\tat org.projectnessie.client.http.HttpRequestWrapper.post(HttpRequestWrapper.java:62)\n\tat org.projectnessie.client.rest.v2.HttpCommitMultipleOperations.commitWithResponse(HttpCommitMultipleOperations.java:47)\n\tat org.projectnessie.client.rest.v2.HttpCommitMultipleOperations.commit(HttpCommitMultipleOperations.java:35)\n\tat org.apache.iceberg.nessie.NessieIcebergClient.lambda$commitRetry$14(NessieIcebergClient.java:769)\n\tat org.apache.iceberg.util.Tasks$Builder.runTaskWithRetry(Tasks.java:413)\n\tat org.apache.iceberg.util.Tasks$Builder.runSingleThreaded(Tasks.java:219)\n\tat org.apache.iceberg.util.Tasks$Builder.run(Tasks.java:203)\n\tat org.apache.iceberg.nessie.NessieIcebergClient.commitRetry(NessieIcebergClient.java:761)\n\tat org.apache.iceberg.nessie.NessieIcebergClient.commitRetry(NessieIcebergClient.java:745)\n\tat org.apache.iceberg.nessie.NessieIcebergClient.dropNamespace(NessieIcebergClient.java:323)\n\t... 46 more\n"
     ]
    }
   ],
   "source": [
    "spark.sql(\"DROP NAMESPACE IF EXISTS nessie.silver\")\n",
    "spark.sql(\"CREATE NAMESPACE nessie.silver\")\n",
    "spark.sql(\"SHOW NAMESPACES in nessie\").show()\n"
   ]
  },
  {
   "cell_type": "code",
   "execution_count": null,
   "id": "fd629185",
   "metadata": {},
   "outputs": [
    {
     "name": "stdout",
     "output_type": "stream",
     "text": [
      "+-----------+---------+--------+----------+-------------+------+------------+---------------+--------------+--------------+-------------+--------------------+---------------+-----------------+---------------+--------------------+--------------------+\n",
      "|     UserId|FirstName|LastName| BirthDate|MaritalStatus|Gender|YearlyIncome|      Education|    Occupation|HouseOwnerFlag|TotalChildren|NumberChildrenAtHome|NumberCarsOwned|DateFirstPurchase|CommuteDistance|     source_filepath|  ingestion_datetime|\n",
      "+-----------+---------+--------+----------+-------------+------+------------+---------------+--------------+--------------+-------------+--------------------+---------------+-----------------+---------------+--------------------+--------------------+\n",
      "|      jon24|      Jon|    Yang|1971-10-06|            M|     M|    90000,00|      Bachelors|  Professional|             1|            2|                   0|              0|       2011-01-19|      1-2 Miles|abfss://datalake@...|2025-06-13T02:42:...|\n",
      "|   eugene10|   Eugene|   Huang|1976-05-10|            S|     M|    60000,00|      Bachelors|  Professional|             0|            3|                   3|              1|       2011-01-15|      0-1 Miles|abfss://datalake@...|2025-06-13T02:42:...|\n",
      "|    ruben35|    Ruben|  Torres|1971-02-09|            M|     M|    60000,00|      Bachelors|  Professional|             1|            3|                   3|              1|       2011-01-07|      2-5 Miles|abfss://datalake@...|2025-06-13T02:42:...|\n",
      "|  christy12|  Christy|     Zhu|1973-08-14|            S|     F|    70000,00|      Bachelors|  Professional|             0|            0|                   0|              1|       2010-12-29|     5-10 Miles|abfss://datalake@...|2025-06-13T02:42:...|\n",
      "| elizabeth5|Elizabeth| Johnson|1979-08-05|            S|     F|    80000,00|      Bachelors|  Professional|             1|            5|                   5|              4|       2011-01-23|      1-2 Miles|abfss://datalake@...|2025-06-13T02:42:...|\n",
      "|     julio1|    Julio|    Ruiz|1976-08-01|            S|     M|    70000,00|      Bachelors|  Professional|             1|            0|                   0|              1|       2010-12-30|     5-10 Miles|abfss://datalake@...|2025-06-13T02:42:...|\n",
      "|     janet9|    Janet| Alvarez|1976-12-02|            S|     F|    70000,00|      Bachelors|  Professional|             1|            0|                   0|              1|       2011-01-24|     5-10 Miles|abfss://datalake@...|2025-06-13T02:42:...|\n",
      "|    marco14|    Marco|   Mehta|1969-11-06|            M|     M|    60000,00|      Bachelors|  Professional|             1|            3|                   3|              2|       2011-01-09|      0-1 Miles|abfss://datalake@...|2025-06-13T02:42:...|\n",
      "|       rob4|      Rob| Verhoff|1975-07-04|            S|     F|    60000,00|      Bachelors|  Professional|             1|            4|                   4|              3|       2011-01-25|      10+ Miles|abfss://datalake@...|2025-06-13T02:42:...|\n",
      "|  shannon38|  Shannon| Carlson|1969-09-29|            S|     M|    70000,00|      Bachelors|  Professional|             0|            0|                   0|              1|       2011-01-27|     5-10 Miles|abfss://datalake@...|2025-06-13T02:42:...|\n",
      "|jacquelyn20|Jacquelyn|  Suarez|1969-08-05|            S|     F|    70000,00|      Bachelors|  Professional|             0|            0|                   0|              1|       2011-01-14|     5-10 Miles|abfss://datalake@...|2025-06-13T02:42:...|\n",
      "|    curtis9|   Curtis|      Lu|1969-05-03|            M|     M|    60000,00|      Bachelors|  Professional|             1|            4|                   4|              4|       2010-12-30|      10+ Miles|abfss://datalake@...|2025-06-13T02:42:...|\n",
      "|   lauren41|   Lauren|  Walker|1979-01-14|            M|     F|   100000,00|      Bachelors|    Management|             1|            2|                   0|              2|       2013-03-16|      1-2 Miles|abfss://datalake@...|2025-06-13T02:42:...|\n",
      "|      ian47|      Ian| Jenkins|1979-08-03|            M|     M|   100000,00|      Bachelors|    Management|             1|            2|                   0|              3|       2013-04-13|      0-1 Miles|abfss://datalake@...|2025-06-13T02:42:...|\n",
      "|   sydney23|   Sydney| Bennett|1973-11-06|            S|     F|   100000,00|      Bachelors|    Management|             0|            3|                   0|              3|       2013-03-23|      1-2 Miles|abfss://datalake@...|2025-06-13T02:42:...|\n",
      "|    chloe23|    Chloe|   Young|1984-08-26|            S|     F|    30000,00|Partial College|Skilled Manual|             0|            0|                   0|              1|       2013-01-18|     5-10 Miles|abfss://datalake@...|2025-06-13T02:42:...|\n",
      "|    wyatt32|    Wyatt|    Hill|1984-10-25|            M|     M|    30000,00|Partial College|Skilled Manual|             1|            0|                   0|              1|       2013-02-09|     5-10 Miles|abfss://datalake@...|2025-06-13T02:42:...|\n",
      "|   shannon1|  Shannon|    Wang|1949-12-24|            S|     F|    20000,00|    High School|Skilled Manual|             1|            4|                   0|              2|       2011-01-12|     5-10 Miles|abfss://datalake@...|2025-06-13T02:42:...|\n",
      "| clarence32| Clarence|     Rai|1955-10-06|            S|     M|    30000,00|Partial College|      Clerical|             1|            2|                   0|              2|       2011-01-17|     5-10 Miles|abfss://datalake@...|2025-06-13T02:42:...|\n",
      "|     luke18|     Luke|     Lal|1983-09-04|            S|     M|    40000,00|    High School|Skilled Manual|             0|            0|                   0|              2|       2013-02-12|     5-10 Miles|abfss://datalake@...|2025-06-13T02:42:...|\n",
      "+-----------+---------+--------+----------+-------------+------+------------+---------------+--------------+--------------+-------------+--------------------+---------------+-----------------+---------------+--------------------+--------------------+\n",
      "only showing top 20 rows\n",
      "\n"
     ]
    }
   ],
   "source": [
    "spark.sql(\"\"\" \n",
    "select *\n",
    "from nessie.bronze.customer \n",
    "\"\"\").show()"
   ]
  },
  {
   "cell_type": "code",
   "execution_count": 11,
   "id": "31f6084d",
   "metadata": {},
   "outputs": [],
   "source": [
    "import notebooks.lib.silver_dim_adventureWorks_sql as sql\n",
    "\n",
    "source_list = [\n",
    "    {\n",
    "        \"table_name\": \"nessie.silver.product\",\n",
    "        \"sql_create_table\": sql.sql_create_silver_product,\n",
    "        \"sql_select\": sql.sql_select_bronze_product,\n",
    "        \"enabled\": True\n",
    "    },\n",
    "    {\n",
    "        \"table_name\": \"nessie.silver.customer\",\n",
    "        \"sql_create_table\": sql.sql_create_silver_customer,\n",
    "        \"sql_select\": sql.sql_select_bronze_customer,\n",
    "        \"enabled\": True\n",
    "    }\n",
    "]"
   ]
  },
  {
   "cell_type": "code",
   "execution_count": 12,
   "id": "6dad1d4c",
   "metadata": {},
   "outputs": [
    {
     "name": "stderr",
     "output_type": "stream",
     "text": [
      "2025-06-13 04:01:30,814 - INFO - creating table if not exists:nessie.silver.product\n",
      "2025-06-13 04:01:31,703 - INFO - selecting data from bronze\n",
      "2025-06-13 04:01:33,483 - INFO - inserting data (295 rows 9, columns) nessie.silver.product\n",
      "2025-06-13 04:01:34,929 - INFO - data inserted successfully                     \n",
      "2025-06-13 04:01:34,930 - INFO - creating table if not exists:nessie.silver.customer\n",
      "2025-06-13 04:01:35,170 - INFO - selecting data from bronze\n",
      "2025-06-13 04:01:35,372 - INFO - inserting data (18484 rows 17, columns) nessie.silver.customer\n",
      "2025-06-13 04:01:36,190 - INFO - data inserted successfully\n"
     ]
    }
   ],
   "source": [
    "import pyspark.sql.functions as SqlFunction\n",
    "\n",
    "for item in source_list:\n",
    "    table_name = item[\"table_name\"]\n",
    "    # create table\n",
    "    logger.info(f'creating table if not exists:{table_name}')\n",
    "    spark.sql(item[\"sql_create_table\"])\n",
    "\n",
    "    # select data from bronze table\n",
    "    logger.info('selecting data from bronze')\n",
    "    df = spark.sql(item[\"sql_select\"])\n",
    "    num_rows, num_columns = df.count(), len(df.columns)\n",
    "\n",
    "    # insert data into silver\n",
    "    logger.info(f'inserting data ({num_rows} rows {num_columns}, columns) {table_name}')\n",
    "    df.writeTo(table_name).createOrReplace()\n",
    "    logger.info(f'data inserted successfully')\n",
    "\n"
   ]
  },
  {
   "cell_type": "code",
   "execution_count": 16,
   "id": "2d36ec88",
   "metadata": {},
   "outputs": [
    {
     "name": "stdout",
     "output_type": "stream",
     "text": [
      "+----------+--------------------+------------------------+---------------------+--------------------+----------+----------------+--------------------+--------------------+\n",
      "|ID_PRODUCT|        NAME_PRODUCT|NAME_PRODUCT_SUBCATEGORY|NAME_PRODUCT_CATEGORY|    TEXT_DESCRIPTION|NAME_COLOR|AMT_PRODUCT_COST|TEXT_SOURCE_FILEPATH|  DATETIME_INGESTION|\n",
      "+----------+--------------------+------------------------+---------------------+--------------------+----------+----------------+--------------------+--------------------+\n",
      "|   BB-7421|   LL Bottom Bracket|         Bottom Brackets|           Components|     Chromoly steel.|        NA|         23,9716|abfss://datalake@...|2025-06-13T02:42:...|\n",
      "|   BB-8107|   ML Bottom Bracket|         Bottom Brackets|           Components|Aluminum alloy cu...|        NA|         44,9506|abfss://datalake@...|2025-06-13T02:42:...|\n",
      "|   BB-9108|   HL Bottom Bracket|         Bottom Brackets|           Components|Aluminum alloy cu...|        NA|         53,9416|abfss://datalake@...|2025-06-13T02:42:...|\n",
      "|   BC-M005|Mountain Bottle Cage|       Bottles and Cages|          Accessories|Tough aluminum ca...|        NA|          3,7363|abfss://datalake@...|2025-06-13T02:42:...|\n",
      "|   BC-R205|    Road Bottle Cage|       Bottles and Cages|          Accessories|Aluminum cage is ...|        NA|          3,3623|abfss://datalake@...|2025-06-13T02:42:...|\n",
      "|BK-M18B-40|Mountain-500 Blac...|          Mountain Bikes|                Bikes|Suitable for any ...|     Black|        294,5797|abfss://datalake@...|2025-06-13T02:42:...|\n",
      "|BK-M18B-42|Mountain-500 Blac...|          Mountain Bikes|                Bikes|Suitable for any ...|     Black|        294,5797|abfss://datalake@...|2025-06-13T02:42:...|\n",
      "|BK-M18B-44|Mountain-500 Blac...|          Mountain Bikes|                Bikes|Suitable for any ...|     Black|        294,5797|abfss://datalake@...|2025-06-13T02:42:...|\n",
      "|BK-M18B-48|Mountain-500 Blac...|          Mountain Bikes|                Bikes|Suitable for any ...|     Black|        294,5797|abfss://datalake@...|2025-06-13T02:42:...|\n",
      "|BK-M18B-52|Mountain-500 Blac...|          Mountain Bikes|                Bikes|Suitable for any ...|     Black|        294,5797|abfss://datalake@...|2025-06-13T02:42:...|\n",
      "|BK-M18S-40|Mountain-500 Silv...|          Mountain Bikes|                Bikes|Suitable for any ...|    Silver|        308,2179|abfss://datalake@...|2025-06-13T02:42:...|\n",
      "|BK-M18S-42|Mountain-500 Silv...|          Mountain Bikes|                Bikes|Suitable for any ...|    Silver|        308,2179|abfss://datalake@...|2025-06-13T02:42:...|\n",
      "|BK-M18S-44|Mountain-500 Silv...|          Mountain Bikes|                Bikes|Suitable for any ...|    Silver|        308,2179|abfss://datalake@...|2025-06-13T02:42:...|\n",
      "|BK-M18S-48|Mountain-500 Silv...|          Mountain Bikes|                Bikes|Suitable for any ...|    Silver|        308,2179|abfss://datalake@...|2025-06-13T02:42:...|\n",
      "|BK-M18S-52|Mountain-500 Silv...|          Mountain Bikes|                Bikes|Suitable for any ...|    Silver|        308,2179|abfss://datalake@...|2025-06-13T02:42:...|\n",
      "|BK-M38S-38|Mountain-400-W Si...|          Mountain Bikes|                Bikes|This bike deliver...|    Silver|        419,7784|abfss://datalake@...|2025-06-13T02:42:...|\n",
      "|BK-M38S-40|Mountain-400-W Si...|          Mountain Bikes|                Bikes|This bike deliver...|    Silver|        419,7784|abfss://datalake@...|2025-06-13T02:42:...|\n",
      "|BK-M38S-42|Mountain-400-W Si...|          Mountain Bikes|                Bikes|This bike deliver...|    Silver|        419,7784|abfss://datalake@...|2025-06-13T02:42:...|\n",
      "|BK-M38S-46|Mountain-400-W Si...|          Mountain Bikes|                Bikes|This bike deliver...|    Silver|        419,7784|abfss://datalake@...|2025-06-13T02:42:...|\n",
      "|BK-M47B-38|Mountain-300 Blac...|          Mountain Bikes|                Bikes|For true trail ad...|     Black|        598,4354|abfss://datalake@...|2025-06-13T02:42:...|\n",
      "+----------+--------------------+------------------------+---------------------+--------------------+----------+----------------+--------------------+--------------------+\n",
      "only showing top 20 rows\n",
      "\n"
     ]
    }
   ],
   "source": [
    "spark.sql(\"\"\" \n",
    "select *\n",
    "from nessie.silver.product\n",
    "\"\"\").show()"
   ]
  },
  {
   "cell_type": "code",
   "execution_count": null,
   "id": "72b5caaf",
   "metadata": {},
   "outputs": [],
   "source": []
  }
 ],
 "metadata": {
  "kernelspec": {
   "display_name": "Python 3 (ipykernel)",
   "language": "python",
   "name": "python3"
  },
  "language_info": {
   "codemirror_mode": {
    "name": "ipython",
    "version": 3
   },
   "file_extension": ".py",
   "mimetype": "text/x-python",
   "name": "python",
   "nbconvert_exporter": "python",
   "pygments_lexer": "ipython3",
   "version": "3.10.16"
  }
 },
 "nbformat": 4,
 "nbformat_minor": 5
}
