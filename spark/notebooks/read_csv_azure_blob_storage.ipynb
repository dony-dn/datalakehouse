{
 "cells": [
  {
   "cell_type": "code",
   "execution_count": 1,
   "id": "a928448d",
   "metadata": {},
   "outputs": [],
   "source": [
    "import os \n",
    "import logging\n",
    "logger = logging.getLogger(__name__)\n",
    "logger.setLevel(logging.INFO)\n",
    "\n",
    "logger.info(\"Application started successfully.\")"
   ]
  },
  {
   "cell_type": "code",
   "execution_count": 2,
   "id": "dc18b3d6",
   "metadata": {},
   "outputs": [],
   "source": [
    "storage_account = os.environ[\"AZURE_STORAGE_ACCOUNT_NAME\"]\n",
    "access_key = os.environ[\"AZURE_STORAGE_ACCOUNT_ACCESS_KEY\"]\n",
    "NESSIE_URI = os.environ['NESSIE_URI']\n",
    "REF = \"main\"\n",
    "FULL_PATH_TO_WAREHOUSE = os.environ['WAREHOUSE']\n",
    "AWS_S3_ENDPOINT = os.environ[\"AWS_S3_ENDPOINT\"]\n",
    "AWS_ACCESS_KEY = os.environ['AWS_ACCESS_KEY_ID']\n",
    "AWS_SECRET_KEY  = os.environ['AWS_SECRET_ACCESS_KEY']"
   ]
  },
  {
   "cell_type": "code",
   "execution_count": 3,
   "id": "1f8ebd23",
   "metadata": {},
   "outputs": [
    {
     "data": {
      "text/plain": [
       "<pyspark.conf.SparkConf at 0x7144cd9684c0>"
      ]
     },
     "execution_count": 3,
     "metadata": {},
     "output_type": "execute_result"
    }
   ],
   "source": [
    "from pyspark import SparkConf\n",
    "\n",
    "conf = SparkConf() \\\n",
    "    .setAppName(\"Read_csv_from_azure_blob\") \\\n",
    "    .setMaster(\"local[*]\") \\\n",
    "    .set(\"spark.executor.memory\", \"4g\") \\\n",
    "    .set(\"spark.driver.memory\", \"2g\") \\\n",
    "    \n",
    "# set azure config\n",
    "conf.set(\"fs.azure\", \"org.apache.hadoop.fs.azure.NativeAzureFileSystem\")\n",
    "conf.set(f\"fs.azure.account.key.{storage_account}.dfs.core.windows.net\", access_key) \n",
    "\n",
    "# set MinIO config\n",
    "conf.set(\"fs.s3a.access.key\", AWS_ACCESS_KEY) \n",
    "conf.set(\"fs.s3a.secret.key\", AWS_SECRET_KEY) \n",
    "conf.set(\"fs.s3a.endpoint\", AWS_S3_ENDPOINT) \n",
    "conf.set(\"fs.s3a.connection.ssl.enabled\", \"false\") \n",
    "conf.set(\"fs.s3a.path.style.access\", \"true\") \n"
   ]
  },
  {
   "cell_type": "code",
   "execution_count": 4,
   "id": "68e74c12",
   "metadata": {},
   "outputs": [
    {
     "name": "stderr",
     "output_type": "stream",
     "text": [
      "25/06/12 11:41:29 WARN SparkSession: Using an existing Spark session; only runtime SQL configurations will take effect.\n"
     ]
    },
    {
     "data": {
      "text/html": [
       "\n",
       "            <div>\n",
       "                <p><b>SparkSession - in-memory</b></p>\n",
       "                \n",
       "        <div>\n",
       "            <p><b>SparkContext</b></p>\n",
       "\n",
       "            <p><a href=\"http://97256eacef05:4042\">Spark UI</a></p>\n",
       "\n",
       "            <dl>\n",
       "              <dt>Version</dt>\n",
       "                <dd><code>v3.5.5</code></dd>\n",
       "              <dt>Master</dt>\n",
       "                <dd><code>local[*]</code></dd>\n",
       "              <dt>AppName</dt>\n",
       "                <dd><code>PySparkShell</code></dd>\n",
       "            </dl>\n",
       "        </div>\n",
       "        \n",
       "            </div>\n",
       "        "
      ],
      "text/plain": [
       "<pyspark.sql.session.SparkSession at 0x7144cda460e0>"
      ]
     },
     "execution_count": 4,
     "metadata": {},
     "output_type": "execute_result"
    }
   ],
   "source": [
    "from pyspark.sql import SparkSession\n",
    "\n",
    "spark = SparkSession.builder.config(conf=conf).getOrCreate()\n",
    "spark"
   ]
  },
  {
   "cell_type": "markdown",
   "id": "1b24e573",
   "metadata": {},
   "source": [
    "# MinIO: Save and Load data "
   ]
  },
  {
   "cell_type": "code",
   "execution_count": 5,
   "id": "6345e3e6",
   "metadata": {},
   "outputs": [],
   "source": [
    "container = \"datalake\"\n",
    "endpoint = f\"abfss://{container}@{storage_account}.dfs.core.windows.net\""
   ]
  },
  {
   "cell_type": "markdown",
   "id": "0eccb421-df31-4805-852f-ce301c746f61",
   "metadata": {},
   "source": [
    "## Read csv from azure blob storage"
   ]
  },
  {
   "cell_type": "code",
   "execution_count": 6,
   "id": "4f26c30f",
   "metadata": {},
   "outputs": [
    {
     "data": {
      "text/plain": [
       "[Row(SalesOrderNumber='SO43701', SalesOrderLineNumber='1', ProductId='BK-M82S-44', CustomerUsername='christy12', OrderDate='2010-12-29', DueDate='2011-01-10', ShipDate='2011-01-05', SalesTerritoryRegion='Australia', SalesTerritoryCountry='Australia', SalesTerritoryContinent='Pacific', OrderQuantity='1', SalesAmount='5266.92', TaxAmt='421.35', Freight='84,9998', Currency='AUD', AverageRate='0,645536117745788', source_filepath='abfss://datalake@storagesii.dfs.core.windows.net/sales/sales_2010.csv', ingestion_datetime=datetime.datetime(2025, 6, 12, 11, 41, 35, 971750))]"
      ]
     },
     "execution_count": 6,
     "metadata": {},
     "output_type": "execute_result"
    }
   ],
   "source": [
    "from pyspark.sql.functions import input_file_name, current_timestamp\n",
    "folder = \"sales\"\n",
    "\n",
    "logger.info(\"read csv from: \", folder)\n",
    "df = spark.read.format(\"csv\") \\\n",
    "    .option(\"header\", \"true\") \\\n",
    "    .option(\"pathGlobFilter\", \"*2010.csv\") \\\n",
    "    .option(\"sep\", \";\") \\\n",
    "    .load(f\"{endpoint}/{folder}\")\n",
    "\n",
    "df = df.withColumn(\"source_filepath\", input_file_name()) \\\n",
    "    .withColumn(\"ingestion_datetime\", current_timestamp())\n",
    "df.head(1)"
   ]
  },
  {
   "cell_type": "markdown",
   "id": "754df0f5-d27b-48bd-92c3-27902866d0a1",
   "metadata": {},
   "source": [
    "## Save data into MinIO"
   ]
  },
  {
   "cell_type": "code",
   "execution_count": 13,
   "id": "64df7026-8c40-4dcf-8db1-8ab16a98adeb",
   "metadata": {},
   "outputs": [
    {
     "name": "stderr",
     "output_type": "stream",
     "text": [
      "25/06/12 04:22:53 WARN AbstractS3ACommitterFactory: Using standard FileOutputCommitter to commit work. This is slow and potentially unsafe.\n",
      "25/06/12 04:22:53 WARN AbstractS3ACommitterFactory: Using standard FileOutputCommitter to commit work. This is slow and potentially unsafe.\n"
     ]
    }
   ],
   "source": [
    "bucket = \"seed\"\n",
    "save_path = \"sales/sales.csv\"\n",
    "\n",
    "save_dir = os.path.join(\"s3a://\",bucket,save_path)\n",
    "logger.info(\"save csv to: \", save_dir)\n",
    "df.write.format(\"csv\") \\\n",
    "    .mode(\"overwrite\") \\\n",
    "    .option(\"header\", \"true\") \\\n",
    "    .save(save_dir)"
   ]
  },
  {
   "cell_type": "markdown",
   "id": "26e92fc3",
   "metadata": {},
   "source": [
    "## Load data from MinIO"
   ]
  },
  {
   "cell_type": "code",
   "execution_count": 14,
   "id": "685c8bb5-1594-49f7-b2f7-a9fbcb1af008",
   "metadata": {},
   "outputs": [
    {
     "name": "stdout",
     "output_type": "stream",
     "text": [
      "+----------------+--------------------+----------+----------------+----------+----------+----------+--------------------+---------------------+-----------------------+-------------+-----------+-------+-------+--------+-----------------+--------------------+--------------------+\n",
      "|SalesOrderNumber|SalesOrderLineNumber| ProductId|CustomerUsername| OrderDate|   DueDate|  ShipDate|SalesTerritoryRegion|SalesTerritoryCountry|SalesTerritoryContinent|OrderQuantity|SalesAmount| TaxAmt|Freight|Currency|      AverageRate|     source_filepath|  ingestion_datetime|\n",
      "+----------------+--------------------+----------+----------------+----------+----------+----------+--------------------+---------------------+-----------------------+-------------+-----------+-------+-------+--------+-----------------+--------------------+--------------------+\n",
      "|         SO43701|                   1|BK-M82S-44|       christy12|2010-12-29|2011-01-10|2011-01-05|           Australia|            Australia|                Pacific|            1|    5266.92| 421.35|84,9998|     AUD|0,645536117745788|abfss://datalake@...|2025-06-12 04:22:...|\n",
      "|         SO43704|                   1|BK-M82B-48|          julio1|2010-12-30|2011-01-11|2011-01-06|           Australia|            Australia|                Pacific|            1|    5251.15| 420.09|84,3748|     AUD|0,642714827431069|abfss://datalake@...|2025-06-12 04:22:...|\n",
      "|         SO43705|                   1|BK-M82S-38|         curtis9|2010-12-30|2011-01-11|2011-01-06|           Australia|            Australia|                Pacific|            1|    5290.04|  423.2|84,9998|     AUD|0,642714827431069|abfss://datalake@...|2025-06-12 04:22:...|\n",
      "|         SO43703|                   1|BK-R93R-62|         albert7|2010-12-30|2011-01-11|2011-01-06|           Australia|            Australia|                Pacific|            1|    5567.43| 445.39|89,4568|     AUD|0,642714827431069|abfss://datalake@...|2025-06-12 04:22:...|\n",
      "|         SO43709|                   1|BK-R93R-52|        martha12|2010-12-31|2011-01-12|2011-01-07|           Australia|            Australia|                Pacific|            1|    5579.24| 446.34|89,4568|     AUD|0,641354540790149|abfss://datalake@...|2025-06-12 04:22:...|\n",
      "|         SO43710|                   1|BK-R93R-56|       katrina20|2010-12-31|2011-01-12|2011-01-07|           Australia|            Australia|                Pacific|            1|    5579.24| 446.34|89,4568|     AUD|0,641354540790149|abfss://datalake@...|2025-06-12 04:22:...|\n",
      "|         SO43697|                   1|BK-R93R-62|           cole1|2010-12-29|2011-01-10|2011-01-05|              Canada|               Canada|          North America|            1|    5238.95| 419.12|89,4568|     CAD|0,683013455365071|abfss://datalake@...|2025-06-12 04:22:...|\n",
      "|         SO43698|                   1|BK-M82S-44|       rachael16|2010-12-29|2011-01-10|2011-01-05|              France|               France|                 Europe|            1|   21627.68|1730.21|84,9998|     FRF|0,157205514769458|abfss://datalake@...|2025-06-12 04:22:...|\n",
      "|         SO43708|                   1|BK-R50R-52|           brad2|2010-12-31|2011-01-12|2011-01-07|      United Kingdom|       United Kingdom|                 Europe|            1|     430.36|  34.43|17,4775|     GBP| 1,62443144899285|abfss://datalake@...|2025-06-12 04:22:...|\n",
      "|         SO43700|                   1|BK-R50B-62|         ruben10|2010-12-29|2011-01-10|2011-01-05|           Southwest|        United States|          North America|            1|      699.1|  55.93|17,4775|     USD|                1|abfss://datalake@...|2025-06-12 04:22:...|\n",
      "|         SO43699|                   1|BK-M82S-44|        sydney61|2010-12-29|2011-01-10|2011-01-05|           Northwest|        United States|          North America|            1|    3399.99|  272.0|84,9998|     USD|                1|abfss://datalake@...|2025-06-12 04:22:...|\n",
      "|         SO43702|                   1|BK-R93R-44|         colin45|2010-12-30|2011-01-11|2011-01-06|           Southwest|        United States|          North America|            1|    3578.27| 286.26|89,4568|     USD|                1|abfss://datalake@...|2025-06-12 04:22:...|\n",
      "|         SO43707|                   1|BK-R93R-48|           emma3|2010-12-31|2011-01-12|2011-01-07|           Southwest|        United States|          North America|            1|    3578.27| 286.26|89,4568|     USD|                1|abfss://datalake@...|2025-06-12 04:22:...|\n",
      "|         SO43706|                   1|BK-R93R-48|        edward26|2010-12-31|2011-01-12|2011-01-07|           Southwest|        United States|          North America|            1|    3578.27| 286.26|89,4568|     USD|                1|abfss://datalake@...|2025-06-12 04:22:...|\n",
      "+----------------+--------------------+----------+----------------+----------+----------+----------+--------------------+---------------------+-----------------------+-------------+-----------+-------+-------+--------+-----------------+--------------------+--------------------+\n",
      "\n"
     ]
    }
   ],
   "source": [
    "bucket = \"seed\"\n",
    "filepath = \"sales/sales.csv\"\n",
    "\n",
    "df = spark.read.format(\"csv\") \\\n",
    "    .option(\"header\", \"true\") \\\n",
    "    .option(\"inferSchema\", \"true\") \\\n",
    "    .load(os.path.join(\"s3a://\",bucket,filepath))\n",
    "\n",
    "df.show()"
   ]
  },
  {
   "cell_type": "code",
   "execution_count": null,
   "id": "83827f42",
   "metadata": {},
   "outputs": [],
   "source": []
  }
 ],
 "metadata": {
  "kernelspec": {
   "display_name": "Python 3 (ipykernel)",
   "language": "python",
   "name": "python3"
  },
  "language_info": {
   "codemirror_mode": {
    "name": "ipython",
    "version": 3
   },
   "file_extension": ".py",
   "mimetype": "text/x-python",
   "name": "python",
   "nbconvert_exporter": "python",
   "pygments_lexer": "ipython3",
   "version": "3.10.16"
  }
 },
 "nbformat": 4,
 "nbformat_minor": 5
}
