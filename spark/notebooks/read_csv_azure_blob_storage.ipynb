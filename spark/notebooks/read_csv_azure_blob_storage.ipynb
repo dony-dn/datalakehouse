{
 "cells": [
  {
   "cell_type": "code",
   "execution_count": null,
   "id": "a928448d",
   "metadata": {},
   "outputs": [],
   "source": [
    "import os \n",
    "import logging\n",
    "logger = logging.getLogger(__name__)\n",
    "logger.setLevel(logging.INFO)\n",
    "\n",
    "# Log an info message\n",
    "logger.info(\"Application started successfully.\")\n"
   ]
  },
  {
   "cell_type": "code",
   "execution_count": null,
   "id": "dc18b3d6",
   "metadata": {},
   "outputs": [],
   "source": [
    "storage_account = os.environ[\"AZURE_STORAGE_ACCOUNT_NAME\"]\n",
    "access_key = os.environ[\"AZURE_STORAGE_ACCOUNT_ACCESS_KEY\"]\n",
    "NESSIE_URI = os.environ['NESSIE_URI']\n",
    "REF = \"main\"\n",
    "FULL_PATH_TO_WAREHOUSE = os.environ['WAREHOUSE']\n",
    "AWS_S3_ENDPOINT = os.environ[\"AWS_S3_ENDPOINT\"]\n",
    "AWS_ACCESS_KEY = os.environ['AWS_ACCESS_KEY_ID']\n",
    "AWS_SECRET_KEY  = os.environ['AWS_SECRET_ACCESS_KEY']"
   ]
  },
  {
   "cell_type": "code",
   "execution_count": null,
   "id": "1f8ebd23",
   "metadata": {},
   "outputs": [],
   "source": [
    "from pyspark import SparkConf\n",
    "\n",
    "conf = SparkConf() \\\n",
    "    .setAppName(\"Read_csv_from_azure_blob\") \\\n",
    "    .setMaster(\"local[*]\") \\\n",
    "    .set(\"spark.executor.memory\", \"4g\") \\\n",
    "    .set(\"spark.driver.memory\", \"2g\") \\\n",
    "    \n",
    "# set azure config\n",
    "conf.set(\"fs.azure\", \"org.apache.hadoop.fs.azure.NativeAzureFileSystem\")\n",
    "conf.set(f\"fs.azure.account.key.{storage_account}.dfs.core.windows.net\", access_key) \n",
    "\n",
    "# set minio config\n",
    "# conf.set(\"spark.sql.catalog.nessie.s3.endpoint\", AWS_S3_ENDPOINT)\n",
    "# conf.set(\"spark.sql.catalog.nessie.ref\", REF)\n",
    "# conf.set(\"spark.sql.catalog.nessie.authentication.type\", \"NONE\") \n",
    "# conf.set(\"spark.sql.catalog.nessie.s3.access-key-id\", AWS_ACCESS_KEY)\n",
    "# conf.set(\"spark.sql.catalog.nessie.s3.secret-access-key\", AWS_SECRET_KEY)\n",
    "# conf.set(\"spark.sql.catalog.nessie.s3.path-style-access\", \"true\")\n",
    "\n",
    "conf.set(\"fs.s3a.access.key\", AWS_ACCESS_KEY) \n",
    "conf.set(\"fs.s3a.secret.key\", AWS_SECRET_KEY) \n",
    "conf.set(\"fs.s3a.endpoint\", AWS_S3_ENDPOINT) \n",
    "conf.set(\"fs.s3a.connection.ssl.enabled\", \"false\") \n",
    "conf.set(\"fs.s3a.path.style.access\", \"true\") \n"
   ]
  },
  {
   "cell_type": "code",
   "execution_count": null,
   "id": "68e74c12",
   "metadata": {},
   "outputs": [],
   "source": [
    "from pyspark.sql import SparkSession\n",
    "\n",
    "spark = SparkSession.builder.config(conf=conf).getOrCreate()\n",
    "spark"
   ]
  },
  {
   "cell_type": "markdown",
   "id": "1b24e573",
   "metadata": {},
   "source": [
    "# Read sales from Azure Blob Storage"
   ]
  },
  {
   "cell_type": "code",
   "execution_count": null,
   "id": "6345e3e6",
   "metadata": {},
   "outputs": [],
   "source": [
    "container = \"datalake\"\n",
    "endpoint = f\"abfss://{container}@{storage_account}.dfs.core.windows.net\""
   ]
  },
  {
   "cell_type": "code",
   "execution_count": null,
   "id": "4f26c30f",
   "metadata": {},
   "outputs": [],
   "source": [
    "from pyspark.sql.functions import input_file_name, current_timestamp\n",
    "def extract_csv(source_folder, save_path):\n",
    "    logger.info(\"read csv from: \", source_folder)\n",
    "    df = spark.read.format(\"csv\") \\\n",
    "        .option(\"header\", \"true\") \\\n",
    "        .option(\"pathGlobFilter\", \"*.csv\") \\\n",
    "        .option(\"sep\", \";\") \\\n",
    "        .load(f\"{endpoint}/{folder}\")\n",
    "\n",
    "    df = df.withColumn(\"source_filepath\", input_file_name()) \\\n",
    "        .withColumn(\"ingestion_datetime\", current_timestamp())\n",
    "\n",
    "    save_dir = \"s3a://\"+save_path\n",
    "    logger.info(\"save csv to: \", save_dir)\n",
    "    df.write.format(\"csv\") \\\n",
    "        .option(\"header\", \"true\") \\\n",
    "        .save(save_dir)\n"
   ]
  },
  {
   "cell_type": "code",
   "execution_count": null,
   "id": "235ee844",
   "metadata": {},
   "outputs": [],
   "source": [
    "spark.read.format(\"csv\").load(\"s3a://seed/sales/sales_2010.csv\")\n"
   ]
  },
  {
   "cell_type": "code",
   "execution_count": null,
   "id": "b33c0d28",
   "metadata": {},
   "outputs": [],
   "source": [
    "folder = \"sales\"\n",
    "save = \"seed/sales/sales.csv\"\n",
    "extract_csv(folder, save)"
   ]
  },
  {
   "cell_type": "code",
   "execution_count": null,
   "id": "18c35f70",
   "metadata": {},
   "outputs": [],
   "source": [
    "from pyspark.sql.functions import input_file_name, current_timestamp\n",
    "df = spark.read.format(\"csv\") \\\n",
    "    .option(\"header\", \"true\") \\\n",
    "    .option(\"pathGlobFilter\", \"*.csv\") \\\n",
    "    .option(\"sep\", \";\") \\\n",
    "    .load(f\"{endpoint}/{folder}\")\n",
    "\n",
    "df = df.withColumn(\"source_filepath\", input_file_name()) \\\n",
    "       .withColumn(\"ingestion_datetime\", current_timestamp())\n",
    "\n",
    "df.show()\n"
   ]
  },
  {
   "cell_type": "code",
   "execution_count": null,
   "id": "912a4fae",
   "metadata": {},
   "outputs": [],
   "source": [
    "df.writeTo(\"nessie.adventureWorks.sales\") \\\n",
    "   .createOrReplace()"
   ]
  },
  {
   "cell_type": "code",
   "execution_count": null,
   "id": "f4629986",
   "metadata": {},
   "outputs": [],
   "source": [
    "%%sql\n",
    "select *\n",
    "from nessie.adventureWorks.sales\n",
    "limit 10"
   ]
  },
  {
   "cell_type": "markdown",
   "id": "e15001bc",
   "metadata": {},
   "source": [
    "# Read Product"
   ]
  },
  {
   "cell_type": "code",
   "execution_count": null,
   "id": "86248fb3",
   "metadata": {},
   "outputs": [],
   "source": [
    "folder = \"product\""
   ]
  },
  {
   "cell_type": "code",
   "execution_count": null,
   "id": "512e627b",
   "metadata": {},
   "outputs": [],
   "source": [
    "df = spark.read.format(\"csv\") \\\n",
    "    .option(\"header\", \"true\") \\\n",
    "    .option(\"pathGlobFilter\", \"*.csv\") \\\n",
    "    .option(\"sep\", \";\") \\\n",
    "    .load(f\"{endpoint}/{folder}\")\n",
    "\n",
    "df = df.withColumn(\"source_filepath\", input_file_name()) \\\n",
    "       .withColumn(\"ingestion_datetime\", current_timestamp())\n",
    "\n",
    "df.show()"
   ]
  },
  {
   "cell_type": "code",
   "execution_count": null,
   "id": "3356193f",
   "metadata": {},
   "outputs": [],
   "source": [
    "df.writeTo(\"nessie.adventureWorks.product\") \\\n",
    "   .createOrReplace()"
   ]
  },
  {
   "cell_type": "markdown",
   "id": "6a646241",
   "metadata": {},
   "source": [
    "# Read currency_rate"
   ]
  },
  {
   "cell_type": "code",
   "execution_count": null,
   "id": "4daf3b4e",
   "metadata": {},
   "outputs": [],
   "source": [
    "folder = \"currency_rate\""
   ]
  },
  {
   "cell_type": "code",
   "execution_count": null,
   "id": "911b2bbf",
   "metadata": {},
   "outputs": [],
   "source": [
    "df = spark.read.format(\"csv\") \\\n",
    "    .option(\"header\", \"true\") \\\n",
    "    .option(\"pathGlobFilter\", \"*.csv\") \\\n",
    "    .option(\"sep\", \";\") \\\n",
    "    .load(f\"{endpoint}/{folder}\")\n",
    "\n",
    "df = df.withColumn(\"source_filepath\", input_file_name()) \\\n",
    "       .withColumn(\"ingestion_datetime\", current_timestamp())\n",
    "\n",
    "df.show()"
   ]
  },
  {
   "cell_type": "code",
   "execution_count": null,
   "id": "ff2ddbd9",
   "metadata": {},
   "outputs": [],
   "source": [
    "df.writeTo(\"nessie.adventureWorks.currency_rate\") \\\n",
    "   .createOrReplace()"
   ]
  },
  {
   "cell_type": "code",
   "execution_count": null,
   "id": "3bcfb9ea",
   "metadata": {},
   "outputs": [],
   "source": [
    "%%sql\n",
    "select *\n",
    "from nessie.adventureWorks.currency_rate\n",
    "limit 10"
   ]
  },
  {
   "cell_type": "code",
   "execution_count": null,
   "id": "5dbd8bf4",
   "metadata": {},
   "outputs": [],
   "source": []
  }
 ],
 "metadata": {
  "kernelspec": {
   "display_name": "Python 3 (ipykernel)",
   "language": "python",
   "name": "python3"
  },
  "language_info": {
   "codemirror_mode": {
    "name": "ipython",
    "version": 3
   },
   "file_extension": ".py",
   "mimetype": "text/x-python",
   "name": "python",
   "nbconvert_exporter": "python",
   "pygments_lexer": "ipython3",
   "version": "3.10.16"
  }
 },
 "nbformat": 4,
 "nbformat_minor": 5
}
