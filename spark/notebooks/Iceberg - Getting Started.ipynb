{
 "cells": [
  {
   "cell_type": "markdown",
   "id": "1041ae6f",
   "metadata": {},
   "source": [
    "![iceberg-logo](https://www.apache.org/logos/res/iceberg/iceberg.png)"
   ]
  },
  {
   "cell_type": "markdown",
   "id": "247fb2ab",
   "metadata": {},
   "source": [
    "### [Docker, Spark, and Iceberg: The Fastest Way to Try Iceberg!](https://tabular.io/blog/docker-spark-and-iceberg/)"
   ]
  },
  {
   "cell_type": "code",
   "execution_count": 1,
   "id": "9a4e9e20-c607-44f0-9158-2b25d6bff0d1",
   "metadata": {},
   "outputs": [
    {
     "name": "stdout",
     "output_type": "stream",
     "text": [
      "PYTHON_SHA256 \n",
      "== bfb249609990220491a1b92850a07135ed0831e41738cf681d63cf01b2a8fbd1\n",
      "AWS_S3_ENDPOINT \n",
      "== http://minio:9000\n",
      "HOSTNAME \n",
      "== 47d7acc97b7c\n",
      "SPARK_BEELINE_OPTS \n",
      "==  -Djline.terminal=jline.UnsupportedTerminal -Djline.terminal=jline.UnsupportedTerminal\n",
      "PYTHON_VERSION \n",
      "== 3.10.16\n",
      "PYTHONHASHSEED \n",
      "== 0\n",
      "ICEBERG_VERSION \n",
      "== 1.8.1\n",
      "PYSPARK_DRIVER_PYTHON \n",
      "== jupyter-notebook\n",
      "PYSPARK_DRIVER_PYTHON_OPTS \n",
      "== --notebook-dir=/home/iceberg/notebooks --ip='*' --NotebookApp.token='' --NotebookApp.password='' --port=8888 --no-browser --allow-root\n",
      "AWS_REGION \n",
      "== us-east-1\n",
      "PWD \n",
      "== /opt/spark\n",
      "HOME \n",
      "== /root\n",
      "LANG \n",
      "== C.UTF-8\n",
      "PYTHONSTARTUP \n",
      "== /opt/spark/python/pyspark/shell.py\n",
      "GPG_KEY \n",
      "== A035C8C19219BA821ECEA86B64E628F8D684696D\n",
      "AWS_SECRET_ACCESS_KEY \n",
      "== minioroot\n",
      "NESSIE_URI \n",
      "== http://nessie:19120/api/v2\n",
      "SPARK_MAJOR_VERSION \n",
      "== 3.5\n",
      "PYSPARK_PYTHON \n",
      "== python3\n",
      "CATALOG_TYPE \n",
      "== nessie\n",
      "PYTHONPATH \n",
      "== /opt/spark/python/lib/py4j-0.10.9.7-src.zip:/opt/spark/python/:/opt/spark/python:/opt/spark/python/lib/py4j-0.10.9.7-src.zip:\n",
      "WAREHOUSE \n",
      "== s3a://warehouse/\n",
      "OLD_PYTHONSTARTUP \n",
      "== \n",
      "SPARK_VERSION \n",
      "== 3.5.5\n",
      "SHLVL \n",
      "== 1\n",
      "AWS_ACCESS_KEY_ID \n",
      "== minioroot\n",
      "SPARK_HOME \n",
      "== /opt/spark\n",
      "SPARK_CONF_DIR \n",
      "== /opt/spark/conf\n",
      "_SPARK_CMD_USAGE \n",
      "== Usage: ./bin/pyspark [options]\n",
      "SPARK_ENV_LOADED \n",
      "== 1\n",
      "PATH \n",
      "== /opt/spark/sbin:/opt/spark/bin:/usr/local/bin:/usr/local/sbin:/usr/local/bin:/usr/sbin:/usr/bin:/sbin:/bin\n",
      "SPARK_CLASSPATH \n",
      "== /opt/spark/jars/*\n",
      "SPARK_SCALA_VERSION \n",
      "== 2.12\n",
      "IJAVA_CLASSPATH \n",
      "== /opt/spark/jars/*\n",
      "PYSPARK_SUBMIT_ARGS \n",
      "== \"--name\" \"PySparkShell\" \"pyspark-shell\"\n",
      "JPY_SESSION_NAME \n",
      "== /home/iceberg/notebooks/notebooks/Iceberg - Getting Started.ipynb\n",
      "JPY_PARENT_PID \n",
      "== 364\n",
      "PYDEVD_USE_FRAME_EVAL \n",
      "== NO\n",
      "TERM \n",
      "== xterm-color\n",
      "CLICOLOR \n",
      "== 1\n",
      "FORCE_COLOR \n",
      "== 1\n",
      "CLICOLOR_FORCE \n",
      "== 1\n",
      "PAGER \n",
      "== cat\n",
      "GIT_PAGER \n",
      "== cat\n",
      "MPLBACKEND \n",
      "== module://matplotlib_inline.backend_inline\n",
      "SPARK_AUTH_SOCKET_TIMEOUT \n",
      "== 15\n",
      "SPARK_BUFFER_SIZE \n",
      "== 65536\n"
     ]
    }
   ],
   "source": [
    "import os\n",
    "\n",
    "for key in os.environ:\n",
    "    print(key,\"\\n==\", os.environ[key])"
   ]
  },
  {
   "cell_type": "code",
   "execution_count": 2,
   "id": "74e66e40-bd99-4820-845b-541be9e4a80b",
   "metadata": {},
   "outputs": [
    {
     "name": "stderr",
     "output_type": "stream",
     "text": [
      "25/06/09 10:56:59 WARN SparkSession: Using an existing Spark session; only runtime SQL configurations will take effect.\n"
     ]
    },
    {
     "data": {
      "text/plain": [
       "'\\n\\n    .config(\"spark.driver.extraJavaOptions\", \"-Daws.region=eu-central-1\")     .config(\"spark.executor.extraJavaOptions\", \"-Daws.region=eu-central-1\") '"
      ]
     },
     "execution_count": 2,
     "metadata": {},
     "output_type": "execute_result"
    }
   ],
   "source": [
    "from pyspark.sql import SparkSession\n",
    "from pyspark import SparkConf, SparkContext\n",
    "from pyspark.sql.types import StructType, StructField, IntegerType, StringType\n",
    "\n",
    "NESSIE_URI = os.environ['NESSIE_URI']\n",
    "REF = \"main\"\n",
    "FULL_PATH_TO_WAREHOUSE = os.environ['WAREHOUSE']\n",
    "AWS_S3_ENDPOINT = os.environ[\"AWS_S3_ENDPOINT\"]\n",
    "AWS_ACCESS_KEY = os.environ['AWS_ACCESS_KEY_ID']\n",
    "AWS_SECRET_KEY  = os.environ['AWS_SECRET_ACCESS_KEY']\n",
    "\n",
    "spark = SparkSession.builder \\\n",
    "    .appName(\"NessieMinIOIntegration\") \\\n",
    "    .config(\"spark.sql.catalog.AwsDataCatalog.s3.access-key-id\", AWS_ACCESS_KEY) \\\n",
    "    .config(\"spark.sql.catalog.AwsDataCatalog.s3.secret-access-key\", AWS_SECRET_KEY) \\\n",
    "    .config(\"spark.jars.packages\", 'org.apache.iceberg:iceberg-spark-runtime-3.5_2.12:1.9.0,org.projectnessie.nessie-integrations:nessie-spark-extensions-3.5_2.12:0.103.3') \\\n",
    "    .config(\"spark.sql.extensions\", \"org.apache.iceberg.spark.extensions.IcebergSparkSessionExtensions,org.projectnessie.spark.extensions.NessieSparkSessionExtensions\") \\\n",
    "    .config(\"spark.sql.catalog.nessie\", \"org.apache.iceberg.spark.SparkCatalog\") \\\n",
    "    .config(\"spark.sql.catalog.nessie.catalog-impl\", \"org.apache.iceberg.nessie.NessieCatalog\") \\\n",
    "    .config(\"spark.sql.catalog.nessie.io-impl\", \"org.apache.iceberg.aws.s3.S3FileIO\") \\\n",
    "    .config(\"spark.sql.catalog.nessie.warehouse\", FULL_PATH_TO_WAREHOUSE) \\\n",
    "    .config(\"spark.sql.catalog.nessie.s3.path-style-access\", \"true\") \\\n",
    "    .config(\"spark.sql.catalog.nessie.s3.endpoint\", AWS_S3_ENDPOINT) \\\n",
    "    .config(\"spark.sql.catalog.nessie.uri\", NESSIE_URI) \\\n",
    "    .config(\"spark.sql.catalog.nessie.ref\", REF) \\\n",
    "    .config(\"spark.sql.catalog.nessie.authentication.type\", \"NONE\") \\\n",
    "    .config(\"spark.sql.warehouse.dir\", FULL_PATH_TO_WAREHOUSE) \\\n",
    "    .config(\"spark.sql.catalog.nessie.s3.access-key-id\", AWS_ACCESS_KEY) \\\n",
    "    .config(\"spark.sql.catalog.nessie.s3.secret-access-key\", AWS_SECRET_KEY) \\\n",
    "    .config(\"spark.hadoop.fs.s3a.connection.ssl.enabled\", \"false\") \\\n",
    "    .config(\"spark.hadoop.fs.s3a.signing-algorithm\", \"S3SignerType\") \\\n",
    "    .getOrCreate()\n",
    "'''\n",
    "\n",
    "    .config(\"spark.driver.extraJavaOptions\", \"-Daws.region=eu-central-1\") \\\n",
    "    .config(\"spark.executor.extraJavaOptions\", \"-Daws.region=eu-central-1\") \\\n",
    "'''"
   ]
  },
  {
   "cell_type": "code",
   "execution_count": 3,
   "id": "f6e0ade8-f8d5-45df-b92c-51f2d5ed247d",
   "metadata": {},
   "outputs": [],
   "source": [
    "df = spark.sql(\"show tables in nessie.nyc\")\n",
    "df.head()"
   ]
  },
  {
   "cell_type": "code",
   "execution_count": 4,
   "id": "fa45feda-20fe-4e6c-b386-78e55e9ad7e7",
   "metadata": {},
   "outputs": [
    {
     "name": "stderr",
     "output_type": "stream",
     "text": [
      "25/06/09 10:57:01 WARN SparkSession: Using an existing Spark session; only runtime SQL configurations will take effect.\n"
     ]
    },
    {
     "data": {
      "text/html": [
       "<table>\n",
       "    <thead>\n",
       "        <tr>\n",
       "        </tr>\n",
       "    </thead>\n",
       "    <tbody>\n",
       "    </tbody>\n",
       "</table>"
      ],
      "text/plain": [
       "++\n",
       "||\n",
       "++\n",
       "++"
      ]
     },
     "execution_count": 4,
     "metadata": {},
     "output_type": "execute_result"
    }
   ],
   "source": [
    "%%sql\n",
    "\n",
    "CREATE NAMESPACE IF NOT EXISTS nessie.nyc"
   ]
  },
  {
   "cell_type": "code",
   "execution_count": 5,
   "id": "2b775032-33ae-4e62-93ef-c7abfe2ee189",
   "metadata": {},
   "outputs": [
    {
     "data": {
      "text/html": [
       "<table>\n",
       "    <thead>\n",
       "        <tr>\n",
       "            <th>namespace</th>\n",
       "        </tr>\n",
       "    </thead>\n",
       "    <tbody>\n",
       "        <tr>\n",
       "            <td>nyc</td>\n",
       "        </tr>\n",
       "    </tbody>\n",
       "</table>"
      ],
      "text/plain": [
       "+-----------+\n",
       "| namespace |\n",
       "+-----------+\n",
       "|       nyc |\n",
       "+-----------+"
      ]
     },
     "execution_count": 5,
     "metadata": {},
     "output_type": "execute_result"
    }
   ],
   "source": [
    "%%sql\n",
    "\n",
    "SHOW NAMESPACES IN nessie"
   ]
  },
  {
   "cell_type": "code",
   "execution_count": 6,
   "id": "82f1aa8c-deec-41e2-90ea-c972b96cb813",
   "metadata": {},
   "outputs": [
    {
     "data": {
      "text/html": [
       "<table>\n",
       "    <thead>\n",
       "        <tr>\n",
       "        </tr>\n",
       "    </thead>\n",
       "    <tbody>\n",
       "    </tbody>\n",
       "</table>"
      ],
      "text/plain": [
       "++\n",
       "||\n",
       "++\n",
       "++"
      ]
     },
     "execution_count": 6,
     "metadata": {},
     "output_type": "execute_result"
    }
   ],
   "source": [
    "%%sql\n",
    "\n",
    "DROP TABLE IF EXISTS nessie.nyc.user_raw"
   ]
  },
  {
   "cell_type": "code",
   "execution_count": 10,
   "id": "1c37ca92",
   "metadata": {},
   "outputs": [],
   "source": [
    "user_schema = StructType([\n",
    "    StructField(\"id\", IntegerType(), True),\n",
    "    StructField(\"name\", StringType(), True)    \n",
    "])\n",
    "\n",
    "user_data = [\n",
    "    (1, 'John Doe'),\n",
    "    (2, 'Jane Doe'),\n",
    "    (3, 'Janett Doe')\n",
    "]\n",
    "\n",
    "df = spark.createDataFrame(user_data, user_schema)"
   ]
  },
  {
   "cell_type": "code",
   "execution_count": 11,
   "id": "874f9039-2a55-4992-a6a0-b2d4323b74f5",
   "metadata": {},
   "outputs": [],
   "source": [
    "df.writeTo(\"nessie.nyc.user_raw\").createOrReplace()"
   ]
  },
  {
   "cell_type": "code",
   "execution_count": 12,
   "id": "9fddb808",
   "metadata": {},
   "outputs": [
    {
     "data": {
      "text/html": [
       "<table>\n",
       "    <thead>\n",
       "        <tr>\n",
       "            <th>id</th>\n",
       "            <th>name</th>\n",
       "        </tr>\n",
       "    </thead>\n",
       "    <tbody>\n",
       "        <tr>\n",
       "            <td>1</td>\n",
       "            <td>John Doe</td>\n",
       "        </tr>\n",
       "        <tr>\n",
       "            <td>2</td>\n",
       "            <td>Jane Doe</td>\n",
       "        </tr>\n",
       "        <tr>\n",
       "            <td>3</td>\n",
       "            <td>Janett Doe</td>\n",
       "        </tr>\n",
       "    </tbody>\n",
       "</table>"
      ],
      "text/plain": [
       "+----+------------+\n",
       "| id |       name |\n",
       "+----+------------+\n",
       "|  1 |   John Doe |\n",
       "|  2 |   Jane Doe |\n",
       "|  3 | Janett Doe |\n",
       "+----+------------+"
      ]
     },
     "execution_count": 12,
     "metadata": {},
     "output_type": "execute_result"
    }
   ],
   "source": [
    "%%sql\n",
    "\n",
    "select *\n",
    "from nessie.nyc.user_raw"
   ]
  },
  {
   "cell_type": "code",
   "execution_count": null,
   "id": "8845d07b-8886-4074-b354-8beef190b800",
   "metadata": {},
   "outputs": [],
   "source": []
  }
 ],
 "metadata": {
  "kernelspec": {
   "display_name": "Python 3 (ipykernel)",
   "language": "python",
   "name": "python3"
  },
  "language_info": {
   "codemirror_mode": {
    "name": "ipython",
    "version": 3
   },
   "file_extension": ".py",
   "mimetype": "text/x-python",
   "name": "python",
   "nbconvert_exporter": "python",
   "pygments_lexer": "ipython3",
   "version": "3.10.16"
  }
 },
 "nbformat": 4,
 "nbformat_minor": 5
}
