{
 "cells": [
  {
   "cell_type": "code",
   "execution_count": 1,
   "id": "a0aa4e9e",
   "metadata": {},
   "outputs": [],
   "source": [
    "import os \n",
    "import logging\n",
    "logger = logging.getLogger(__name__)\n",
    "logger.setLevel(logging.INFO)\n",
    "\n",
    "logger.info(\"Application started successfully.\")"
   ]
  },
  {
   "cell_type": "code",
   "execution_count": 2,
   "id": "89ce88b7",
   "metadata": {},
   "outputs": [],
   "source": [
    "# load environment variables\n",
    "\n",
    "storage_account = os.environ[\"AZURE_STORAGE_ACCOUNT_NAME\"]\n",
    "access_key = os.environ[\"AZURE_STORAGE_ACCOUNT_ACCESS_KEY\"]\n",
    "NESSIE_URI = os.environ['NESSIE_URI']\n",
    "REF = \"main\"\n",
    "FULL_PATH_TO_WAREHOUSE = os.environ['WAREHOUSE']\n",
    "AWS_S3_ENDPOINT = os.environ[\"AWS_S3_ENDPOINT\"]\n",
    "AWS_ACCESS_KEY = os.environ['AWS_ACCESS_KEY_ID']\n",
    "AWS_SECRET_KEY  = os.environ['AWS_SECRET_ACCESS_KEY']"
   ]
  },
  {
   "cell_type": "code",
   "execution_count": 3,
   "id": "15767f6f",
   "metadata": {},
   "outputs": [
    {
     "data": {
      "text/plain": [
       "<pyspark.conf.SparkConf at 0x7fd51851f370>"
      ]
     },
     "execution_count": 3,
     "metadata": {},
     "output_type": "execute_result"
    }
   ],
   "source": [
    "# set pyspark configuration\n",
    "from pyspark import SparkConf\n",
    "\n",
    "conf = SparkConf() \\\n",
    "    .setAppName(\"Read_csv_from_azure_blob\") \\\n",
    "    .setMaster(\"local[*]\") \\\n",
    "    .set(\"spark.executor.memory\", \"4g\") \\\n",
    "    .set(\"spark.driver.memory\", \"2g\") \\\n",
    "    \n",
    "# set azure config\n",
    "conf.set(\"fs.azure\", \"org.apache.hadoop.fs.azure.NativeAzureFileSystem\")\n",
    "conf.set(f\"fs.azure.account.key.storagesii.dfs.core.windows.net\", access_key) \n",
    "\n",
    "# set MinIO config\n",
    "conf.set(\"fs.s3a.access.key\", AWS_ACCESS_KEY) \n",
    "conf.set(\"fs.s3a.secret.key\", AWS_SECRET_KEY) \n",
    "conf.set(\"fs.s3a.endpoint\", AWS_S3_ENDPOINT) \n",
    "conf.set(\"fs.s3a.connection.ssl.enabled\", \"false\") \n",
    "conf.set(\"fs.s3a.path.style.access\", \"true\") "
   ]
  },
  {
   "cell_type": "code",
   "execution_count": 4,
   "id": "4d301d92",
   "metadata": {},
   "outputs": [
    {
     "name": "stderr",
     "output_type": "stream",
     "text": [
      "25/06/12 13:18:48 WARN SparkSession: Using an existing Spark session; only runtime SQL configurations will take effect.\n"
     ]
    },
    {
     "data": {
      "text/html": [
       "\n",
       "            <div>\n",
       "                <p><b>SparkSession - in-memory</b></p>\n",
       "                \n",
       "        <div>\n",
       "            <p><b>SparkContext</b></p>\n",
       "\n",
       "            <p><a href=\"http://df1a0841536f:4040\">Spark UI</a></p>\n",
       "\n",
       "            <dl>\n",
       "              <dt>Version</dt>\n",
       "                <dd><code>v3.5.5</code></dd>\n",
       "              <dt>Master</dt>\n",
       "                <dd><code>local[*]</code></dd>\n",
       "              <dt>AppName</dt>\n",
       "                <dd><code>PySparkShell</code></dd>\n",
       "            </dl>\n",
       "        </div>\n",
       "        \n",
       "            </div>\n",
       "        "
      ],
      "text/plain": [
       "<pyspark.sql.session.SparkSession at 0x7fd5180d46d0>"
      ]
     },
     "execution_count": 4,
     "metadata": {},
     "output_type": "execute_result"
    }
   ],
   "source": [
    "from pyspark.sql import SparkSession\n",
    "\n",
    "spark = SparkSession.builder.config(conf=conf).getOrCreate()\n",
    "spark"
   ]
  },
  {
   "cell_type": "code",
   "execution_count": 73,
   "id": "5ba080b8",
   "metadata": {},
   "outputs": [],
   "source": [
    "from datetime import datetime\n",
    "from urllib.parse import urlparse\n",
    "from azure.storage.filedatalake import *\n",
    "\n",
    "def download_from_azure(file_uri, file_extension):\n",
    "    # Parse the URI\n",
    "    parsed = urlparse(file_uri)\n",
    "\n",
    "    # Extract components\n",
    "    container_name = parsed.netloc.split(\"@\")[0]\n",
    "    storage_account_name = parsed.netloc.split(\"@\")[1].split(\".\")[0] \n",
    "    directory_name = \"/\".join(parsed.path.split(\"/\")[:-1]) \n",
    "    file_name = parsed.path.split(\"/\")[-1] \n",
    "\n",
    "    # Azure Data Lake Gen2 Configuration\n",
    "    connection_string = f\"DefaultEndpointsProtocol=https;AccountName={storage_account_name};AccountKey={access_key};EndpointSuffix=core.windows.net\"\n",
    "\n",
    "    # Azure Data Lake Gen2 Configuration\n",
    "    file_path = os.path.join(directory_name, file_name)\n",
    "\n",
    "    # Connect to Azure Data Lake\n",
    "    service_client = DataLakeServiceClient(\n",
    "        account_url=f\"https://{storage_account_name}.dfs.core.windows.net\",\n",
    "        credential=access_key\n",
    "    )\n",
    "\n",
    "    # Get file system client\n",
    "    file_system_client = service_client.get_file_system_client(container_name)\n",
    "\n",
    "    # List all files in the directory\n",
    "    paths = file_system_client.get_paths(path=directory_name, recursive=False)\n",
    "\n",
    "    # filter files to match the extension\n",
    "    filtered_paths = [path.name for path in paths if path.name.endswith(file_extension)]\n",
    "\n",
    "    return_files = []\n",
    "    for path in filtered_paths:\n",
    "        print(path)\n",
    "        dir, file_name = os.path.split(path)\n",
    "        local_file_path = f'/tmp/{datetime.now().strftime(\"%Y%m%d%H%M%S\")}_{file_name}'  # Local path to save file\n",
    "        # Create DataLakeFileClient\n",
    "        file_client = DataLakeFileClient.from_connection_string(connection_string, container_name, path)\n",
    "\n",
    "        if file_client.exists():\n",
    "            try:\n",
    "                print(\"Downloading file:\", file_path)\n",
    "                # Download the file\n",
    "                with open(local_file_path, \"wb\") as local_file:\n",
    "                    local_file.write(file_client.download_file().readall())\n",
    "                print(f\"Downloaded {file_name} successfully from Azure Data Lake.\")\n",
    "                return_files.append(local_file_path)\n",
    "            except Exception as e:\n",
    "                print(\"Error while downloading file:\", str(e))\n",
    "        \n",
    "    return return_files"
   ]
  },
  {
   "cell_type": "code",
   "execution_count": 74,
   "id": "b8beeba7",
   "metadata": {},
   "outputs": [],
   "source": [
    "# read directory list\n",
    "source_list = [\n",
    "    {\n",
    "        \"source_path\": \"abfss://datalake@storagesii.dfs.core.windows.net/sales/\",\n",
    "        \"dest_path\": \"s3a://seed/adventureWorks/\",\n",
    "        \"extended\": {\n",
    "            \"format\": \"binaryFile\",\n",
    "            \"extension\": \".csv\"\n",
    "        }\n",
    "    }\n",
    "]"
   ]
  },
  {
   "cell_type": "code",
   "execution_count": 75,
   "id": "bc447e93",
   "metadata": {},
   "outputs": [
    {
     "name": "stdout",
     "output_type": "stream",
     "text": [
      "sales/sales_2010.csv\n",
      "Downloading file: /sales/\n",
      "Downloaded sales_2010.csv successfully from Azure Data Lake.\n",
      "sales/sales_2011.csv\n",
      "Downloading file: /sales/\n",
      "Downloaded sales_2011.csv successfully from Azure Data Lake.\n",
      "sales/sales_2012.csv\n",
      "Downloading file: /sales/\n",
      "Downloaded sales_2012.csv successfully from Azure Data Lake.\n",
      "sales/sales_2013.csv\n",
      "Downloading file: /sales/\n",
      "Downloaded sales_2013.csv successfully from Azure Data Lake.\n",
      "sales/sales_2014.csv\n",
      "Downloading file: /sales/\n",
      "Downloaded sales_2014.csv successfully from Azure Data Lake.\n",
      "['/tmp/20250612135223_sales_2010.csv', '/tmp/20250612135223_sales_2011.csv', '/tmp/20250612135223_sales_2012.csv', '/tmp/20250612135223_sales_2013.csv', '/tmp/20250612135223_sales_2014.csv']\n"
     ]
    }
   ],
   "source": [
    "for ingestion in source_list:\n",
    "    download_filepath = download_from_azure(ingestion[\"source_path\"], ingestion[\"extended\"][\"extension\"])\n",
    "    print(download_filepath)"
   ]
  },
  {
   "cell_type": "code",
   "execution_count": 87,
   "id": "493d2fee",
   "metadata": {},
   "outputs": [
    {
     "ename": "ValueError",
     "evalue": "path in endpoint is not allowed",
     "output_type": "error",
     "traceback": [
      "\u001b[0;31m---------------------------------------------------------------------------\u001b[0m",
      "\u001b[0;31mValueError\u001b[0m                                Traceback (most recent call last)",
      "Cell \u001b[0;32mIn[87], line 4\u001b[0m\n\u001b[1;32m      1\u001b[0m \u001b[38;5;28;01mfrom\u001b[39;00m\u001b[38;5;250m \u001b[39m\u001b[38;5;21;01mminio\u001b[39;00m\u001b[38;5;250m \u001b[39m\u001b[38;5;28;01mimport\u001b[39;00m Minio\n\u001b[1;32m      3\u001b[0m \u001b[38;5;66;03m# MinIO Configuration\u001b[39;00m\n\u001b[0;32m----> 4\u001b[0m minio_client \u001b[38;5;241m=\u001b[39m \u001b[43mMinio\u001b[49m\u001b[43m(\u001b[49m\n\u001b[1;32m      5\u001b[0m \u001b[43m    \u001b[49m\u001b[38;5;124;43m\"\u001b[39;49m\u001b[38;5;124;43mhttp://172.18.0.5:9000\u001b[39;49m\u001b[38;5;124;43m\"\u001b[39;49m\u001b[43m,\u001b[49m\n\u001b[1;32m      6\u001b[0m \u001b[43m    \u001b[49m\u001b[43maccess_key\u001b[49m\u001b[38;5;241;43m=\u001b[39;49m\u001b[43mos\u001b[49m\u001b[38;5;241;43m.\u001b[39;49m\u001b[43menviron\u001b[49m\u001b[43m[\u001b[49m\u001b[38;5;124;43m\"\u001b[39;49m\u001b[38;5;124;43mAWS_ACCESS_KEY_ID\u001b[39;49m\u001b[38;5;124;43m\"\u001b[39;49m\u001b[43m]\u001b[49m\u001b[43m,\u001b[49m\n\u001b[1;32m      7\u001b[0m \u001b[43m    \u001b[49m\u001b[43msecret_key\u001b[49m\u001b[38;5;241;43m=\u001b[39;49m\u001b[43mos\u001b[49m\u001b[38;5;241;43m.\u001b[39;49m\u001b[43menviron\u001b[49m\u001b[43m[\u001b[49m\u001b[38;5;124;43m\"\u001b[39;49m\u001b[38;5;124;43mAWS_SECRET_ACCESS_KEY\u001b[39;49m\u001b[38;5;124;43m\"\u001b[39;49m\u001b[43m]\u001b[49m\u001b[43m,\u001b[49m\n\u001b[1;32m      8\u001b[0m \u001b[43m    \u001b[49m\u001b[43msecure\u001b[49m\u001b[38;5;241;43m=\u001b[39;49m\u001b[38;5;28;43;01mFalse\u001b[39;49;00m\n\u001b[1;32m      9\u001b[0m \u001b[43m)\u001b[49m\n\u001b[1;32m     11\u001b[0m \u001b[38;5;66;03m# Define file and bucket\u001b[39;00m\n\u001b[1;32m     12\u001b[0m bucket_name \u001b[38;5;241m=\u001b[39m \u001b[38;5;124m\"\u001b[39m\u001b[38;5;124mseed\u001b[39m\u001b[38;5;124m\"\u001b[39m\n",
      "File \u001b[0;32m/usr/local/lib/python3.10/site-packages/minio/api.py:153\u001b[0m, in \u001b[0;36mMinio.__init__\u001b[0;34m(self, endpoint, access_key, secret_key, session_token, secure, region, http_client, credentials, cert_check)\u001b[0m\n\u001b[1;32m    148\u001b[0m     \u001b[38;5;28;01mraise\u001b[39;00m \u001b[38;5;167;01mValueError\u001b[39;00m(\n\u001b[1;32m    149\u001b[0m         \u001b[38;5;124m\"\u001b[39m\u001b[38;5;124mHTTP client should be instance of `urllib3.PoolManager`\u001b[39m\u001b[38;5;124m\"\u001b[39m\n\u001b[1;32m    150\u001b[0m     )\n\u001b[1;32m    152\u001b[0m \u001b[38;5;28mself\u001b[39m\u001b[38;5;241m.\u001b[39m_region_map \u001b[38;5;241m=\u001b[39m {}\n\u001b[0;32m--> 153\u001b[0m \u001b[38;5;28mself\u001b[39m\u001b[38;5;241m.\u001b[39m_base_url \u001b[38;5;241m=\u001b[39m \u001b[43mBaseURL\u001b[49m\u001b[43m(\u001b[49m\n\u001b[1;32m    154\u001b[0m \u001b[43m    \u001b[49m\u001b[43m(\u001b[49m\u001b[38;5;124;43m\"\u001b[39;49m\u001b[38;5;124;43mhttps://\u001b[39;49m\u001b[38;5;124;43m\"\u001b[39;49m\u001b[43m \u001b[49m\u001b[38;5;28;43;01mif\u001b[39;49;00m\u001b[43m \u001b[49m\u001b[43msecure\u001b[49m\u001b[43m \u001b[49m\u001b[38;5;28;43;01melse\u001b[39;49;00m\u001b[43m \u001b[49m\u001b[38;5;124;43m\"\u001b[39;49m\u001b[38;5;124;43mhttp://\u001b[39;49m\u001b[38;5;124;43m\"\u001b[39;49m\u001b[43m)\u001b[49m\u001b[43m \u001b[49m\u001b[38;5;241;43m+\u001b[39;49m\u001b[43m \u001b[49m\u001b[43mendpoint\u001b[49m\u001b[43m,\u001b[49m\n\u001b[1;32m    155\u001b[0m \u001b[43m    \u001b[49m\u001b[43mregion\u001b[49m\u001b[43m,\u001b[49m\n\u001b[1;32m    156\u001b[0m \u001b[43m\u001b[49m\u001b[43m)\u001b[49m\n\u001b[1;32m    157\u001b[0m \u001b[38;5;28mself\u001b[39m\u001b[38;5;241m.\u001b[39m_user_agent \u001b[38;5;241m=\u001b[39m _DEFAULT_USER_AGENT\n\u001b[1;32m    158\u001b[0m \u001b[38;5;28mself\u001b[39m\u001b[38;5;241m.\u001b[39m_trace_stream \u001b[38;5;241m=\u001b[39m \u001b[38;5;28;01mNone\u001b[39;00m\n",
      "File \u001b[0;32m/usr/local/lib/python3.10/site-packages/minio/helpers.py:551\u001b[0m, in \u001b[0;36mBaseURL.__init__\u001b[0;34m(self, endpoint, region)\u001b[0m\n\u001b[1;32m    550\u001b[0m \u001b[38;5;28;01mdef\u001b[39;00m\u001b[38;5;250m \u001b[39m\u001b[38;5;21m__init__\u001b[39m(\u001b[38;5;28mself\u001b[39m, endpoint: \u001b[38;5;28mstr\u001b[39m, region: \u001b[38;5;28mstr\u001b[39m \u001b[38;5;241m|\u001b[39m \u001b[38;5;28;01mNone\u001b[39;00m):\n\u001b[0;32m--> 551\u001b[0m     url \u001b[38;5;241m=\u001b[39m \u001b[43m_parse_url\u001b[49m\u001b[43m(\u001b[49m\u001b[43mendpoint\u001b[49m\u001b[43m)\u001b[49m\n\u001b[1;32m    553\u001b[0m     \u001b[38;5;28;01mif\u001b[39;00m region \u001b[38;5;129;01mand\u001b[39;00m \u001b[38;5;129;01mnot\u001b[39;00m _REGION_REGEX\u001b[38;5;241m.\u001b[39mmatch(region):\n\u001b[1;32m    554\u001b[0m         \u001b[38;5;28;01mraise\u001b[39;00m \u001b[38;5;167;01mValueError\u001b[39;00m(\u001b[38;5;124mf\u001b[39m\u001b[38;5;124m\"\u001b[39m\u001b[38;5;124minvalid region \u001b[39m\u001b[38;5;132;01m{\u001b[39;00mregion\u001b[38;5;132;01m}\u001b[39;00m\u001b[38;5;124m\"\u001b[39m)\n",
      "File \u001b[0;32m/usr/local/lib/python3.10/site-packages/minio/helpers.py:512\u001b[0m, in \u001b[0;36m_parse_url\u001b[0;34m(endpoint)\u001b[0m\n\u001b[1;32m    509\u001b[0m url \u001b[38;5;241m=\u001b[39m url_replace(url, scheme\u001b[38;5;241m=\u001b[39murl\u001b[38;5;241m.\u001b[39mscheme\u001b[38;5;241m.\u001b[39mlower())\n\u001b[1;32m    511\u001b[0m \u001b[38;5;28;01mif\u001b[39;00m url\u001b[38;5;241m.\u001b[39mpath \u001b[38;5;129;01mand\u001b[39;00m url\u001b[38;5;241m.\u001b[39mpath \u001b[38;5;241m!=\u001b[39m \u001b[38;5;124m\"\u001b[39m\u001b[38;5;124m/\u001b[39m\u001b[38;5;124m\"\u001b[39m:\n\u001b[0;32m--> 512\u001b[0m     \u001b[38;5;28;01mraise\u001b[39;00m \u001b[38;5;167;01mValueError\u001b[39;00m(\u001b[38;5;124m\"\u001b[39m\u001b[38;5;124mpath in endpoint is not allowed\u001b[39m\u001b[38;5;124m\"\u001b[39m)\n\u001b[1;32m    514\u001b[0m url \u001b[38;5;241m=\u001b[39m url_replace(url, path\u001b[38;5;241m=\u001b[39m\u001b[38;5;124m\"\u001b[39m\u001b[38;5;124m\"\u001b[39m)\n\u001b[1;32m    516\u001b[0m \u001b[38;5;28;01mif\u001b[39;00m url\u001b[38;5;241m.\u001b[39mquery:\n",
      "\u001b[0;31mValueError\u001b[0m: path in endpoint is not allowed"
     ]
    }
   ],
   "source": [
    "from minio import Minio\n",
    "\n",
    "# MinIO Configuration\n",
    "minio_client = Minio(\n",
    "    \"http://172.18.0.5:9000\",\n",
    "    access_key=os.environ[\"AWS_ACCESS_KEY_ID\"],\n",
    "    secret_key=os.environ[\"AWS_SECRET_ACCESS_KEY\"],\n",
    "    secure=False\n",
    ")\n",
    "\n",
    "# Define file and bucket\n",
    "bucket_name = \"seed\"\n",
    "directory = \"sales\"\n",
    "for file_path in download_filepath:\n",
    "    object_name = os.path.join(directory,file_path[20:])\n",
    "    \n",
    "    # Upload file to MinIO\n",
    "    minio_client.fput_object(bucket_name, object_name, file_path)\n",
    "\n",
    "    print(f\"Uploaded {object_name} to MinIO successfully.\")\n",
    "\n"
   ]
  },
  {
   "cell_type": "code",
   "execution_count": null,
   "id": "64f9b0d4",
   "metadata": {},
   "outputs": [],
   "source": [
    "from pyspark.sql.functions import input_file_name, current_timestamp\n",
    "import shutil\n",
    "\n",
    "for ingestion in source_list:\n",
    "    format_type = ingestion[\"extended\"][\"format\"]\n",
    "    if format_type == \"binaryFile\":\n",
    "        download_from_azure(storage_account, \\\n",
    "                            container_name='datalake', \\\n",
    "                            directory_name=ingestion[\"source_path\"], \\\n",
    "                            file_name)\n",
    "    elif format_type == \"csv\":\n",
    "        df = spark.read.format(format_type) \\\n",
    "            .option(\"header\", \"true\") \\\n",
    "            .option(\"pathGlobFilter\", ingestion[\"format\"][\"pathGlobFilter\"]) \\\n",
    "            .option(\"sep\", ingestion[\"format\"][\"sep\"]) \\\n",
    "            .load(ingestion[\"source_path\"])\n",
    "        df.write.format(format_type) \\\n",
    "            .save(ingestion[\"dest_path\"])\n",
    "\n"
   ]
  },
  {
   "cell_type": "code",
   "execution_count": null,
   "id": "70dba1a8",
   "metadata": {},
   "outputs": [],
   "source": []
  }
 ],
 "metadata": {
  "kernelspec": {
   "display_name": "Python 3 (ipykernel)",
   "language": "python",
   "name": "python3"
  },
  "language_info": {
   "codemirror_mode": {
    "name": "ipython",
    "version": 3
   },
   "file_extension": ".py",
   "mimetype": "text/x-python",
   "name": "python",
   "nbconvert_exporter": "python",
   "pygments_lexer": "ipython3",
   "version": "3.10.16"
  }
 },
 "nbformat": 4,
 "nbformat_minor": 5
}
