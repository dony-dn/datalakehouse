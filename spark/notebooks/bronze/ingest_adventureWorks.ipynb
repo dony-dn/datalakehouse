{
 "cells": [
  {
   "cell_type": "code",
   "execution_count": 1,
   "id": "a0aa4e9e",
   "metadata": {},
   "outputs": [
    {
     "name": "stderr",
     "output_type": "stream",
     "text": [
      "2025-06-13 10:59:18,539 - INFO - Application started successfully.\n"
     ]
    }
   ],
   "source": [
    "import os \n",
    "import logging\n",
    "logging.basicConfig(level=logging.INFO, format=\"%(asctime)s - %(levelname)s - %(message)s\")\n",
    "logger = logging.getLogger(__name__)\n",
    "logger.setLevel(logging.INFO)\n",
    "\n",
    "logger.info(\"Application started successfully.\")"
   ]
  },
  {
   "cell_type": "code",
   "execution_count": 2,
   "id": "89ce88b7",
   "metadata": {},
   "outputs": [],
   "source": [
    "# load environment variables\n",
    "\n",
    "storage_account = os.environ[\"AZURE_STORAGE_ACCOUNT_NAME\"]\n",
    "access_key = os.environ[\"AZURE_STORAGE_ACCOUNT_ACCESS_KEY\"]\n",
    "NESSIE_URI = os.environ['NESSIE_URI']\n",
    "REF = \"main\"\n",
    "FULL_PATH_TO_WAREHOUSE = os.environ['WAREHOUSE']\n",
    "AWS_S3_ENDPOINT = os.environ[\"AWS_S3_ENDPOINT\"]\n",
    "AWS_ACCESS_KEY = os.environ['AWS_ACCESS_KEY_ID']\n",
    "AWS_SECRET_KEY  = os.environ['AWS_SECRET_ACCESS_KEY']"
   ]
  },
  {
   "cell_type": "code",
   "execution_count": 3,
   "id": "15767f6f",
   "metadata": {},
   "outputs": [
    {
     "data": {
      "text/plain": [
       "<pyspark.conf.SparkConf at 0x780441d26fe0>"
      ]
     },
     "execution_count": 3,
     "metadata": {},
     "output_type": "execute_result"
    }
   ],
   "source": [
    "# set pyspark configuration\n",
    "from pyspark import SparkConf\n",
    "\n",
    "conf = SparkConf() \\\n",
    "    .setAppName(\"Read_csv_from_azure_blob\") \\\n",
    "    .setMaster(\"local[*]\") \\\n",
    "    .set(\"spark.executor.memory\", \"4g\") \\\n",
    "    .set(\"spark.driver.memory\", \"2g\") \\\n",
    "    \n",
    "# set azure config\n",
    "conf.set(\"fs.azure\", \"org.apache.hadoop.fs.azure.NativeAzureFileSystem\")\n",
    "conf.set(f\"fs.azure.account.key.storagesii.dfs.core.windows.net\", access_key) \n",
    "\n",
    "# set MinIO config\n",
    "conf.set(\"fs.s3a.access.key\", AWS_ACCESS_KEY) \n",
    "conf.set(\"fs.s3a.secret.key\", AWS_SECRET_KEY) \n",
    "conf.set(\"fs.s3a.endpoint\", AWS_S3_ENDPOINT) \n",
    "conf.set(\"fs.s3a.connection.ssl.enabled\", \"false\") \n",
    "conf.set(\"fs.s3a.path.style.access\", \"true\") \n"
   ]
  },
  {
   "cell_type": "code",
   "execution_count": 4,
   "id": "4d301d92",
   "metadata": {},
   "outputs": [
    {
     "name": "stderr",
     "output_type": "stream",
     "text": [
      "25/06/13 10:59:19 WARN SparkSession: Using an existing Spark session; only runtime SQL configurations will take effect.\n"
     ]
    },
    {
     "data": {
      "text/html": [
       "\n",
       "            <div>\n",
       "                <p><b>SparkSession - in-memory</b></p>\n",
       "                \n",
       "        <div>\n",
       "            <p><b>SparkContext</b></p>\n",
       "\n",
       "            <p><a href=\"http://af7d12863cca:4040\">Spark UI</a></p>\n",
       "\n",
       "            <dl>\n",
       "              <dt>Version</dt>\n",
       "                <dd><code>v3.5.5</code></dd>\n",
       "              <dt>Master</dt>\n",
       "                <dd><code>local[*]</code></dd>\n",
       "              <dt>AppName</dt>\n",
       "                <dd><code>PySparkShell</code></dd>\n",
       "            </dl>\n",
       "        </div>\n",
       "        \n",
       "            </div>\n",
       "        "
      ],
      "text/plain": [
       "<pyspark.sql.session.SparkSession at 0x7804419bcb80>"
      ]
     },
     "execution_count": 4,
     "metadata": {},
     "output_type": "execute_result"
    }
   ],
   "source": [
    "from pyspark.sql import SparkSession\n",
    "\n",
    "spark = SparkSession.builder.config(conf=conf).getOrCreate()\n",
    "spark"
   ]
  },
  {
   "cell_type": "code",
   "execution_count": 5,
   "id": "5ba080b8",
   "metadata": {},
   "outputs": [],
   "source": [
    "def read_csv_from_azure_blob_storage(endpoint, directory_path, sep, pathGlobFilter):\n",
    "    from datetime import datetime\n",
    "    from pyspark.sql.functions import input_file_name, current_timestamp\n",
    "\n",
    "    file_uri = os.path.join(endpoint, directory_path)\n",
    "    logger.info(f\"read csv from: {file_uri}\")\n",
    "    df = spark.read.format(\"csv\") \\\n",
    "        .option(\"header\", \"true\") \\\n",
    "        .option(\"pathGlobFilter\", pathGlobFilter) \\\n",
    "        .option(\"sep\", sep) \\\n",
    "        .load(file_uri)\n",
    "\n",
    "    df = df.withColumn(\"source_filepath\", input_file_name()) \\\n",
    "        .withColumn(\"ingestion_datetime\", current_timestamp())\n",
    "    return df"
   ]
  },
  {
   "cell_type": "code",
   "execution_count": 6,
   "id": "b8beeba7",
   "metadata": {},
   "outputs": [],
   "source": [
    "# read directory list\n",
    "source_list = [\n",
    "    {\n",
    "        \"source_uri\": \"abfss://datalake@storagesii.dfs.core.windows.net\",\n",
    "        \"directory_path\": \"sales\",\n",
    "        \"dest_path\": \"s3a://seed/adventureWorks\",\n",
    "        \"extended\": {\n",
    "            \"format\": \"csv\",\n",
    "            \"extension\": \".csv\"\n",
    "        },\n",
    "        \"enabled\": True\n",
    "    },\n",
    "    {\n",
    "        \"source_uri\": \"abfss://datalake@storagesii.dfs.core.windows.net\",\n",
    "        \"directory_path\": \"product\",\n",
    "        \"dest_path\": \"s3a://seed/adventureWorks\",\n",
    "        \"extended\": {\n",
    "            \"format\": \"csv\",\n",
    "            \"extension\": \".csv\"\n",
    "        },\n",
    "        \"enabled\": True\n",
    "    },\n",
    "    {\n",
    "        \"source_uri\": \"abfss://datalake@storagesii.dfs.core.windows.net\",\n",
    "        \"directory_path\": \"customer\",\n",
    "        \"dest_path\": \"s3a://seed/adventureWorks\",\n",
    "        \"extended\": {\n",
    "            \"format\": \"csv\",\n",
    "            \"extension\": \".csv\"\n",
    "        },\n",
    "        \"enabled\": True\n",
    "    },\n",
    "    {\n",
    "        \"source_uri\": \"abfss://datalake@storagesii.dfs.core.windows.net\",\n",
    "        \"directory_path\": \"currency_rate\",\n",
    "        \"dest_path\": \"s3a://seed/adventureWorks\",\n",
    "        \"extended\": {\n",
    "            \"format\": \"csv\",\n",
    "            \"extension\": \".csv\"\n",
    "        },\n",
    "        \"enabled\": True\n",
    "    },\n",
    "    {\n",
    "        \"source_uri\": \"abfss://datalake@storagesii.dfs.core.windows.net\",\n",
    "        \"directory_path\": \"currency\",\n",
    "        \"dest_path\": \"s3a://seed/adventureWorks\",\n",
    "        \"extended\": {\n",
    "            \"format\": \"csv\",\n",
    "            \"extension\": \".csv\"\n",
    "        },\n",
    "        \"enabled\": True\n",
    "    }\n",
    "]"
   ]
  },
  {
   "cell_type": "code",
   "execution_count": 7,
   "id": "bc447e93",
   "metadata": {},
   "outputs": [
    {
     "name": "stderr",
     "output_type": "stream",
     "text": [
      "2025-06-13 10:59:19,405 - INFO - read csv from: abfss://datalake@storagesii.dfs.core.windows.net/sales\n",
      "2025-06-13 10:59:23,433 - INFO - save csv to: s3a://seed/adventureWorks/sales.csv\n",
      "25/06/13 10:59:23 WARN MetricsConfig: Cannot locate configuration: tried hadoop-metrics2-s3a-file-system.properties,hadoop-metrics2.properties\n",
      "25/06/13 10:59:24 WARN AbstractS3ACommitterFactory: Using standard FileOutputCommitter to commit work. This is slow and potentially unsafe.\n",
      "25/06/13 10:59:24 WARN AbstractS3ACommitterFactory: Using standard FileOutputCommitter to commit work. This is slow and potentially unsafe.\n",
      "25/06/13 10:59:24 WARN AbstractS3ACommitterFactory: Using standard FileOutputCommitter to commit work. This is slow and potentially unsafe.\n",
      "25/06/13 10:59:24 WARN AbstractS3ACommitterFactory: Using standard FileOutputCommitter to commit work. This is slow and potentially unsafe.\n",
      "2025-06-13 10:59:26,827 - INFO - read csv from: abfss://datalake@storagesii.dfs.core.windows.net/product\n",
      "2025-06-13 10:59:27,097 - INFO - save csv to: s3a://seed/adventureWorks/product.csv\n",
      "25/06/13 10:59:27 WARN AbstractS3ACommitterFactory: Using standard FileOutputCommitter to commit work. This is slow and potentially unsafe.\n",
      "25/06/13 10:59:27 WARN AbstractS3ACommitterFactory: Using standard FileOutputCommitter to commit work. This is slow and potentially unsafe.\n",
      "2025-06-13 10:59:27,771 - INFO - read csv from: abfss://datalake@storagesii.dfs.core.windows.net/customer\n",
      "2025-06-13 10:59:28,127 - INFO - save csv to: s3a://seed/adventureWorks/customer.csv\n",
      "25/06/13 10:59:28 WARN AbstractS3ACommitterFactory: Using standard FileOutputCommitter to commit work. This is slow and potentially unsafe.\n",
      "25/06/13 10:59:28 WARN AbstractS3ACommitterFactory: Using standard FileOutputCommitter to commit work. This is slow and potentially unsafe.\n",
      "2025-06-13 10:59:29,865 - INFO - read csv from: abfss://datalake@storagesii.dfs.core.windows.net/currency_rate\n",
      "2025-06-13 10:59:30,707 - INFO - save csv to: s3a://seed/adventureWorks/currency_rate.csv\n",
      "25/06/13 10:59:30 WARN AbstractS3ACommitterFactory: Using standard FileOutputCommitter to commit work. This is slow and potentially unsafe.\n",
      "25/06/13 10:59:31 WARN AbstractS3ACommitterFactory: Using standard FileOutputCommitter to commit work. This is slow and potentially unsafe.\n",
      "2025-06-13 10:59:32,329 - INFO - read csv from: abfss://datalake@storagesii.dfs.core.windows.net/currency\n",
      "2025-06-13 10:59:32,794 - INFO - save csv to: s3a://seed/adventureWorks/currency.csv\n",
      "25/06/13 10:59:32 WARN AbstractS3ACommitterFactory: Using standard FileOutputCommitter to commit work. This is slow and potentially unsafe.\n",
      "25/06/13 10:59:33 WARN AbstractS3ACommitterFactory: Using standard FileOutputCommitter to commit work. This is slow and potentially unsafe.\n"
     ]
    }
   ],
   "source": [
    "for ingestion in [item for item in source_list if item[\"enabled\"]]:\n",
    "    df = read_csv_from_azure_blob_storage(endpoint=ingestion[\"source_uri\"], \n",
    "                                          directory_path=ingestion[\"directory_path\"], \n",
    "                                          sep=\";\", \n",
    "                                          pathGlobFilter=\"*\"+ingestion[\"extended\"][\"extension\"])\n",
    "        \n",
    "    save_dir = os.path.join(ingestion[\"dest_path\"], ingestion[\"directory_path\"]+ingestion[\"extended\"][\"extension\"])\n",
    "    logger.info(f\"save csv to: {save_dir}\")\n",
    "    df.write.format(\"csv\") \\\n",
    "        .mode(\"overwrite\") \\\n",
    "        .option(\"header\", \"true\") \\\n",
    "        .save(save_dir)"
   ]
  },
  {
   "cell_type": "code",
   "execution_count": null,
   "id": "f7d2a9a3",
   "metadata": {},
   "outputs": [],
   "source": []
  }
 ],
 "metadata": {
  "kernelspec": {
   "display_name": "Python 3 (ipykernel)",
   "language": "python",
   "name": "python3"
  },
  "language_info": {
   "codemirror_mode": {
    "name": "ipython",
    "version": 3
   },
   "file_extension": ".py",
   "mimetype": "text/x-python",
   "name": "python",
   "nbconvert_exporter": "python",
   "pygments_lexer": "ipython3",
   "version": "3.10.16"
  }
 },
 "nbformat": 4,
 "nbformat_minor": 5
}
