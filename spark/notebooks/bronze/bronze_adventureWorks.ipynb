{
 "cells": [
  {
   "cell_type": "code",
   "execution_count": null,
   "id": "a928448d",
   "metadata": {},
   "outputs": [],
   "source": [
    "import os \n",
    "import logging\n",
    "logging.basicConfig(level=logging.INFO, format=\"%(asctime)s - %(levelname)s - %(message)s\")\n",
    "logger = logging.getLogger(__name__)\n",
    "logger.setLevel(logging.INFO)\n",
    "\n",
    "logger.info(\"Application started successfully.\")"
   ]
  },
  {
   "cell_type": "code",
   "execution_count": null,
   "id": "dc18b3d6",
   "metadata": {},
   "outputs": [],
   "source": [
    "# load environment variables\n",
    "\n",
    "storage_account = os.environ[\"AZURE_STORAGE_ACCOUNT_NAME\"]\n",
    "access_key = os.environ[\"AZURE_STORAGE_ACCOUNT_ACCESS_KEY\"]\n",
    "NESSIE_URI = os.environ['NESSIE_URI']\n",
    "REF = \"etl\"\n",
    "FULL_PATH_TO_WAREHOUSE = os.environ['WAREHOUSE']\n",
    "AWS_S3_ENDPOINT = os.environ[\"AWS_S3_ENDPOINT\"]\n",
    "AWS_ACCESS_KEY = os.environ['AWS_ACCESS_KEY_ID']\n",
    "AWS_SECRET_KEY  = os.environ['AWS_SECRET_ACCESS_KEY']"
   ]
  },
  {
   "cell_type": "code",
   "execution_count": null,
   "id": "1f8ebd23",
   "metadata": {},
   "outputs": [],
   "source": [
    "# set pyspark configuration\n",
    "from pyspark import SparkConf\n",
    "\n",
    "conf = SparkConf() \\\n",
    "    .setAppName(\"process_bronze_adventureWorks\") \\\n",
    "    .setMaster(\"local[*]\") \\\n",
    "    .set(\"spark.executor.memory\", \"4g\") \\\n",
    "    .set(\"spark.driver.memory\", \"2g\") \\\n",
    "\n",
    "# set MinIO config\n",
    "conf.set(\"fs.s3a.access.key\", AWS_ACCESS_KEY) \n",
    "conf.set(\"fs.s3a.secret.key\", AWS_SECRET_KEY) \n",
    "conf.set(\"fs.s3a.endpoint\", AWS_S3_ENDPOINT) \n",
    "conf.set(\"fs.s3a.connection.ssl.enabled\", \"false\") \n",
    "conf.set(\"fs.s3a.path.style.access\", \"true\") "
   ]
  },
  {
   "cell_type": "code",
   "execution_count": null,
   "id": "68e74c12",
   "metadata": {},
   "outputs": [],
   "source": [
    "from pyspark.sql import SparkSession\n",
    "\n",
    "spark = SparkSession.builder.config(conf=conf).getOrCreate()\n",
    "spark"
   ]
  },
  {
   "cell_type": "markdown",
   "id": "1b24e573",
   "metadata": {},
   "source": [
    "# Process bronze"
   ]
  },
  {
   "cell_type": "code",
   "execution_count": null,
   "id": "91a6a6c8",
   "metadata": {},
   "outputs": [],
   "source": [
    "# create bronze namespace in nessie catalog\n",
    "namespace = \"BRONZE\"\n",
    "df = spark.sql(\"SHOW NAMESPACES in nessie\")\n",
    "df.show()\n",
    "namespace_exists = df.filter(df.namespace == namespace).count() > 0\n",
    "\n",
    "logger.info(f\"namespace {namespace} exists: {namespace_exists}\")\n",
    "if not namespace_exists:\n",
    "    spark.sql(f\"CREATE NAMESPACE nessie.{namespace}\").show()\n"
   ]
  },
  {
   "cell_type": "code",
   "execution_count": null,
   "id": "6850b783",
   "metadata": {},
   "outputs": [],
   "source": [
    "spark.sql(f\"LIST REFERENCES IN nessie\").show()\n",
    "spark.sql(f\"DROP BRANCH IF EXISTS {REF} IN nessie\").show()\n",
    "spark.sql(f\"CREATE BRANCH {REF} IN nessie FROM main\").show()\n",
    "spark.sql(f\"LIST REFERENCES IN nessie\").show()"
   ]
  },
  {
   "cell_type": "code",
   "execution_count": null,
   "id": "24ec2a22",
   "metadata": {},
   "outputs": [],
   "source": [
    "# define list of data\n",
    "source_list = [\n",
    "    {\n",
    "        \"path\": \"s3a://seed/adventureWorks/currency_rate.csv\",\n",
    "        \"iceberg_table\": \"bronze.currency_rate\",\n",
    "        \"enabled\": True\n",
    "    },\n",
    "    {\n",
    "        \"path\": \"s3a://seed/adventureWorks/currency.csv\",\n",
    "        \"iceberg_table\": \"bronze.currency\",\n",
    "        \"enabled\": True\n",
    "    },\n",
    "    {\n",
    "        \"path\": \"s3a://seed/adventureWorks/customer.csv\",\n",
    "        \"iceberg_table\": \"bronze.customer\",\n",
    "        \"enabled\": True\n",
    "    },\n",
    "    {\n",
    "        \"path\": \"s3a://seed/adventureWorks/product.csv\",\n",
    "        \"iceberg_table\": \"bronze.product\",\n",
    "        \"enabled\": True\n",
    "    },\n",
    "    {\n",
    "        \"path\": \"s3a://seed/adventureWorks/sales.csv\",\n",
    "        \"iceberg_table\": \"bronze.sales\",\n",
    "        \"enabled\": True\n",
    "    }\n",
    "]"
   ]
  },
  {
   "cell_type": "code",
   "execution_count": null,
   "id": "af4343b7",
   "metadata": {},
   "outputs": [],
   "source": [
    "spark.sql(f\"USE REFERENCE {REF} IN nessie\").show()\n",
    "\n",
    "for item in [item for item in source_list if item[\"enabled\"]]:\n",
    "    # Read CSV from MinIO\n",
    "    logger.info(f'read csv from bucket: {item[\"path\"]}')\n",
    "    df = spark.read.option(\"header\", \"true\") \\\n",
    "        .csv(item[\"path\"])\n",
    "    \n",
    "    num_columns, num_rows = len(df.columns), df.count()\n",
    "\n",
    "    # Write to Nessie table using createOrReplace\n",
    "    table_name = item[\"iceberg_table\"].upper()\n",
    "    logger.info(f'writing data ({num_rows} rows, {num_columns} columns) into: {table_name}')\n",
    "    try:\n",
    "        df.writeTo(table_name).createOrReplace() \n",
    "        logger.info(f'Writing complete: {table_name}')\n",
    "    except Exception as e:\n",
    "        logger.error(f\"Error writing into: {table_name}\\n{str(e)}\")\n"
   ]
  },
  {
   "cell_type": "code",
   "execution_count": null,
   "id": "a8858e48",
   "metadata": {},
   "outputs": [],
   "source": [
    "spark.sql(f\"MERGE BRANCH {REF} INTO main IN nessie\").show()"
   ]
  },
  {
   "cell_type": "code",
   "execution_count": null,
   "id": "bf0f3087",
   "metadata": {},
   "outputs": [],
   "source": [
    "spark.sql(f\"LIST REFERENCES IN nessie\").show()"
   ]
  },
  {
   "cell_type": "code",
   "execution_count": null,
   "id": "fc6752c7",
   "metadata": {},
   "outputs": [],
   "source": [
    "spark.sql(f\"DROP BRANCH IF EXISTS {REF} IN nessie\").show()\n",
    "spark.sql(f\"USE REFERENCE main IN nessie\").show()"
   ]
  },
  {
   "cell_type": "code",
   "execution_count": null,
   "id": "cb0a8f29",
   "metadata": {},
   "outputs": [],
   "source": []
  }
 ],
 "metadata": {
  "kernelspec": {
   "display_name": "Python 3 (ipykernel)",
   "language": "python",
   "name": "python3"
  },
  "language_info": {
   "codemirror_mode": {
    "name": "ipython",
    "version": 3
   },
   "file_extension": ".py",
   "mimetype": "text/x-python",
   "name": "python",
   "nbconvert_exporter": "python",
   "pygments_lexer": "ipython3",
   "version": "3.10.16"
  }
 },
 "nbformat": 4,
 "nbformat_minor": 5
}
