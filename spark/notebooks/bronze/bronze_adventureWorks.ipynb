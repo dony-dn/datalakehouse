{
 "cells": [
  {
   "cell_type": "code",
   "execution_count": 1,
   "id": "a928448d",
   "metadata": {},
   "outputs": [
    {
     "name": "stderr",
     "output_type": "stream",
     "text": [
      "2025-06-13 02:48:36,846 - INFO - Application started successfully.\n"
     ]
    }
   ],
   "source": [
    "import os \n",
    "import logging\n",
    "logging.basicConfig(level=logging.INFO, format=\"%(asctime)s - %(levelname)s - %(message)s\")\n",
    "logger = logging.getLogger(__name__)\n",
    "logger.setLevel(logging.INFO)\n",
    "\n",
    "logger.info(\"Application started successfully.\")"
   ]
  },
  {
   "cell_type": "code",
   "execution_count": 2,
   "id": "dc18b3d6",
   "metadata": {},
   "outputs": [],
   "source": [
    "# load environment variables\n",
    "\n",
    "storage_account = os.environ[\"AZURE_STORAGE_ACCOUNT_NAME\"]\n",
    "access_key = os.environ[\"AZURE_STORAGE_ACCOUNT_ACCESS_KEY\"]\n",
    "NESSIE_URI = os.environ['NESSIE_URI']\n",
    "REF = \"main\"\n",
    "FULL_PATH_TO_WAREHOUSE = os.environ['WAREHOUSE']\n",
    "AWS_S3_ENDPOINT = os.environ[\"AWS_S3_ENDPOINT\"]\n",
    "AWS_ACCESS_KEY = os.environ['AWS_ACCESS_KEY_ID']\n",
    "AWS_SECRET_KEY  = os.environ['AWS_SECRET_ACCESS_KEY']"
   ]
  },
  {
   "cell_type": "code",
   "execution_count": 3,
   "id": "1f8ebd23",
   "metadata": {},
   "outputs": [
    {
     "data": {
      "text/plain": [
       "<pyspark.conf.SparkConf at 0x722b2005f0d0>"
      ]
     },
     "execution_count": 3,
     "metadata": {},
     "output_type": "execute_result"
    }
   ],
   "source": [
    "# set pyspark configuration\n",
    "from pyspark import SparkConf\n",
    "\n",
    "conf = SparkConf() \\\n",
    "    .setAppName(\"process_bronze_adventureWorks\") \\\n",
    "    .setMaster(\"local[*]\") \\\n",
    "    .set(\"spark.executor.memory\", \"4g\") \\\n",
    "    .set(\"spark.driver.memory\", \"2g\") \\\n",
    "\n",
    "# set MinIO config\n",
    "conf.set(\"fs.s3a.access.key\", AWS_ACCESS_KEY) \n",
    "conf.set(\"fs.s3a.secret.key\", AWS_SECRET_KEY) \n",
    "conf.set(\"fs.s3a.endpoint\", AWS_S3_ENDPOINT) \n",
    "conf.set(\"fs.s3a.connection.ssl.enabled\", \"false\") \n",
    "conf.set(\"fs.s3a.path.style.access\", \"true\") \n",
    "\n",
    "# conf.set(\"spark.sql.extensions\", \"org.apache.iceberg.spark.extensions.IcebergSparkSessionExtensions\")\n",
    "# conf.set(\"spark.sql.catalog.nessie\", \"org.apache.iceberg.spark.SparkCatalog\")\n",
    "# conf.set(\"spark.sql.catalog.nessie.warehouse\", FULL_PATH_TO_WAREHOUSE)\n",
    "# conf.set(\"spark.sql.catalog.nessie.catalog-impl\", \"org.apache.iceberg.nessie.NessieCatalog\")\n",
    "# conf.set(\"spark.sql.catalog.nessie.io-impl\", \"org.apache.iceberg.aws.s3.S3FileIO\")\n",
    "# conf.set(\"spark.sql.catalog.nessie.uri\", NESSIE_URI)\n",
    "# conf.set(\"spark.sql.catalog.nessie.ref\", REF)\n",
    "# conf.set(\"spark.sql.catalog.nessie.cache-enabled\", \"false\")"
   ]
  },
  {
   "cell_type": "code",
   "execution_count": 4,
   "id": "68e74c12",
   "metadata": {},
   "outputs": [
    {
     "name": "stderr",
     "output_type": "stream",
     "text": [
      "25/06/13 02:48:37 WARN SparkSession: Using an existing Spark session; only runtime SQL configurations will take effect.\n"
     ]
    },
    {
     "data": {
      "text/html": [
       "\n",
       "            <div>\n",
       "                <p><b>SparkSession - in-memory</b></p>\n",
       "                \n",
       "        <div>\n",
       "            <p><b>SparkContext</b></p>\n",
       "\n",
       "            <p><a href=\"http://9cb6ff7c7691:4041\">Spark UI</a></p>\n",
       "\n",
       "            <dl>\n",
       "              <dt>Version</dt>\n",
       "                <dd><code>v3.5.5</code></dd>\n",
       "              <dt>Master</dt>\n",
       "                <dd><code>local[*]</code></dd>\n",
       "              <dt>AppName</dt>\n",
       "                <dd><code>PySparkShell</code></dd>\n",
       "            </dl>\n",
       "        </div>\n",
       "        \n",
       "            </div>\n",
       "        "
      ],
      "text/plain": [
       "<pyspark.sql.session.SparkSession at 0x722b203b6170>"
      ]
     },
     "execution_count": 4,
     "metadata": {},
     "output_type": "execute_result"
    }
   ],
   "source": [
    "from pyspark.sql import SparkSession\n",
    "\n",
    "spark = SparkSession.builder.config(conf=conf).getOrCreate()\n",
    "spark"
   ]
  },
  {
   "cell_type": "markdown",
   "id": "1b24e573",
   "metadata": {},
   "source": [
    "# Process sales header"
   ]
  },
  {
   "cell_type": "code",
   "execution_count": 10,
   "id": "91a6a6c8",
   "metadata": {},
   "outputs": [
    {
     "name": "stdout",
     "output_type": "stream",
     "text": [
      "+---------+\n",
      "|namespace|\n",
      "+---------+\n",
      "|   bronze|\n",
      "+---------+\n",
      "\n"
     ]
    }
   ],
   "source": [
    "spark.sql(\"DROP NAMESPACE IF EXISTS nessie.bronze\")\n",
    "spark.sql(\"CREATE NAMESPACE nessie.bronze\")\n",
    "spark.sql(\"SHOW NAMESPACES in nessie\").show()\n"
   ]
  },
  {
   "cell_type": "code",
   "execution_count": 14,
   "id": "24ec2a22",
   "metadata": {},
   "outputs": [],
   "source": [
    "# define list of data\n",
    "source_list = [\n",
    "    {\n",
    "        \"path\": \"s3a://seed/adventureWorks/currency_rate.csv\",\n",
    "        \"iceberg_table\": \"nessie.bronze.currency_rate\",\n",
    "        \"enabled\": True\n",
    "    },\n",
    "    {\n",
    "        \"path\": \"s3a://seed/adventureWorks/currency.csv\",\n",
    "        \"iceberg_table\": \"nessie.bronze.currency\",\n",
    "        \"enabled\": True\n",
    "    },\n",
    "    {\n",
    "        \"path\": \"s3a://seed/adventureWorks/customer.csv\",\n",
    "        \"iceberg_table\": \"nessie.bronze.customer\",\n",
    "        \"enabled\": True\n",
    "    },\n",
    "    {\n",
    "        \"path\": \"s3a://seed/adventureWorks/product.csv\",\n",
    "        \"iceberg_table\": \"nessie.bronze.product\",\n",
    "        \"enabled\": True\n",
    "    },\n",
    "    {\n",
    "        \"path\": \"s3a://seed/adventureWorks/sales.csv\",\n",
    "        \"iceberg_table\": \"nessie.bronze.sales\",\n",
    "        \"enabled\": True\n",
    "    }\n",
    "]"
   ]
  },
  {
   "cell_type": "code",
   "execution_count": 17,
   "id": "af4343b7",
   "metadata": {},
   "outputs": [
    {
     "name": "stderr",
     "output_type": "stream",
     "text": [
      "2025-06-13 03:05:55,313 - INFO - read csv from bucket: s3a://seed/adventureWorks/currency_rate.csv\n",
      "2025-06-13 03:05:55,998 - INFO - writing data (14263 rows, 5 columns) into: nessie.bronze.currency_rate\n",
      "2025-06-13 03:05:56,356 - INFO - Writing complete: nessie.bronze.currency_rate\n",
      "2025-06-13 03:05:56,357 - INFO - read csv from bucket: s3a://seed/adventureWorks/currency.csv\n",
      "2025-06-13 03:05:56,566 - INFO - writing data (105 rows, 4 columns) into: nessie.bronze.currency\n",
      "2025-06-13 03:05:56,819 - INFO - Writing complete: nessie.bronze.currency\n",
      "2025-06-13 03:05:56,819 - INFO - read csv from bucket: s3a://seed/adventureWorks/customer.csv\n",
      "2025-06-13 03:05:57,136 - INFO - writing data (18484 rows, 17 columns) into: nessie.bronze.customer\n",
      "2025-06-13 03:05:57,554 - INFO - Writing complete: nessie.bronze.customer\n",
      "2025-06-13 03:05:57,555 - INFO - read csv from bucket: s3a://seed/adventureWorks/product.csv\n",
      "2025-06-13 03:05:57,771 - INFO - writing data (295 rows, 10 columns) into: nessie.bronze.product\n",
      "2025-06-13 03:05:58,059 - INFO - Writing complete: nessie.bronze.product\n",
      "2025-06-13 03:05:58,060 - INFO - read csv from bucket: s3a://seed/adventureWorks/sales.csv\n",
      "2025-06-13 03:05:58,414 - INFO - writing data (60398 rows, 18 columns) into: nessie.bronze.sales\n",
      "2025-06-13 03:05:59,083 - INFO - Writing complete: nessie.bronze.sales\n"
     ]
    }
   ],
   "source": [
    "for item in [item for item in source_list if item[\"enabled\"]]:\n",
    "    # Read CSV from MinIO\n",
    "    logger.info(f'read csv from bucket: {item[\"path\"]}')\n",
    "    df = spark.read.option(\"header\", \"true\") \\\n",
    "        .csv(item[\"path\"])\n",
    "    \n",
    "    num_columns, num_rows = len(df.columns), df.count()\n",
    "\n",
    "    # Write to Nessie table using createOrReplace\n",
    "    logger.info(f'writing data ({num_rows} rows, {num_columns} columns) into: {item[\"iceberg_table\"]}')\n",
    "    df.writeTo(item[\"iceberg_table\"]).createOrReplace() \n",
    "\n",
    "    logger.info(f'Writing complete: {item[\"iceberg_table\"]}')"
   ]
  },
  {
   "cell_type": "code",
   "execution_count": null,
   "id": "c553f2e3",
   "metadata": {},
   "outputs": [],
   "source": []
  }
 ],
 "metadata": {
  "kernelspec": {
   "display_name": "Python 3 (ipykernel)",
   "language": "python",
   "name": "python3"
  },
  "language_info": {
   "codemirror_mode": {
    "name": "ipython",
    "version": 3
   },
   "file_extension": ".py",
   "mimetype": "text/x-python",
   "name": "python",
   "nbconvert_exporter": "python",
   "pygments_lexer": "ipython3",
   "version": "3.10.16"
  }
 },
 "nbformat": 4,
 "nbformat_minor": 5
}
