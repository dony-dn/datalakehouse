{
 "cells": [
  {
   "cell_type": "code",
   "execution_count": 1,
   "id": "a928448d",
   "metadata": {},
   "outputs": [
    {
     "name": "stderr",
     "output_type": "stream",
     "text": [
      "2025-06-13 11:00:40,851 - INFO - Application started successfully.\n"
     ]
    }
   ],
   "source": [
    "import os \n",
    "import logging\n",
    "logging.basicConfig(level=logging.INFO, format=\"%(asctime)s - %(levelname)s - %(message)s\")\n",
    "logger = logging.getLogger(__name__)\n",
    "logger.setLevel(logging.INFO)\n",
    "\n",
    "logger.info(\"Application started successfully.\")"
   ]
  },
  {
   "cell_type": "code",
   "execution_count": 7,
   "id": "dc18b3d6",
   "metadata": {},
   "outputs": [],
   "source": [
    "# load environment variables\n",
    "\n",
    "storage_account = os.environ[\"AZURE_STORAGE_ACCOUNT_NAME\"]\n",
    "access_key = os.environ[\"AZURE_STORAGE_ACCOUNT_ACCESS_KEY\"]\n",
    "NESSIE_URI = os.environ['NESSIE_URI']\n",
    "REF = \"etl\"\n",
    "FULL_PATH_TO_WAREHOUSE = os.environ['WAREHOUSE']\n",
    "AWS_S3_ENDPOINT = os.environ[\"AWS_S3_ENDPOINT\"]\n",
    "AWS_ACCESS_KEY = os.environ['AWS_ACCESS_KEY_ID']\n",
    "AWS_SECRET_KEY  = os.environ['AWS_SECRET_ACCESS_KEY']"
   ]
  },
  {
   "cell_type": "code",
   "execution_count": 3,
   "id": "1f8ebd23",
   "metadata": {},
   "outputs": [
    {
     "data": {
      "text/plain": [
       "<pyspark.conf.SparkConf at 0x78d75960abc0>"
      ]
     },
     "execution_count": 3,
     "metadata": {},
     "output_type": "execute_result"
    }
   ],
   "source": [
    "# set pyspark configuration\n",
    "from pyspark import SparkConf\n",
    "\n",
    "conf = SparkConf() \\\n",
    "    .setAppName(\"process_bronze_adventureWorks\") \\\n",
    "    .setMaster(\"local[*]\") \\\n",
    "    .set(\"spark.executor.memory\", \"4g\") \\\n",
    "    .set(\"spark.driver.memory\", \"2g\") \\\n",
    "\n",
    "# set MinIO config\n",
    "conf.set(\"fs.s3a.access.key\", AWS_ACCESS_KEY) \n",
    "conf.set(\"fs.s3a.secret.key\", AWS_SECRET_KEY) \n",
    "conf.set(\"fs.s3a.endpoint\", AWS_S3_ENDPOINT) \n",
    "conf.set(\"fs.s3a.connection.ssl.enabled\", \"false\") \n",
    "conf.set(\"fs.s3a.path.style.access\", \"true\") "
   ]
  },
  {
   "cell_type": "code",
   "execution_count": 4,
   "id": "68e74c12",
   "metadata": {},
   "outputs": [
    {
     "name": "stderr",
     "output_type": "stream",
     "text": [
      "25/06/13 11:00:41 WARN SparkSession: Using an existing Spark session; only runtime SQL configurations will take effect.\n"
     ]
    },
    {
     "data": {
      "text/html": [
       "\n",
       "            <div>\n",
       "                <p><b>SparkSession - in-memory</b></p>\n",
       "                \n",
       "        <div>\n",
       "            <p><b>SparkContext</b></p>\n",
       "\n",
       "            <p><a href=\"http://af7d12863cca:4041\">Spark UI</a></p>\n",
       "\n",
       "            <dl>\n",
       "              <dt>Version</dt>\n",
       "                <dd><code>v3.5.5</code></dd>\n",
       "              <dt>Master</dt>\n",
       "                <dd><code>local[*]</code></dd>\n",
       "              <dt>AppName</dt>\n",
       "                <dd><code>PySparkShell</code></dd>\n",
       "            </dl>\n",
       "        </div>\n",
       "        \n",
       "            </div>\n",
       "        "
      ],
      "text/plain": [
       "<pyspark.sql.session.SparkSession at 0x78d759951e10>"
      ]
     },
     "execution_count": 4,
     "metadata": {},
     "output_type": "execute_result"
    }
   ],
   "source": [
    "from pyspark.sql import SparkSession\n",
    "\n",
    "spark = SparkSession.builder.config(conf=conf).getOrCreate()\n",
    "spark"
   ]
  },
  {
   "cell_type": "markdown",
   "id": "1b24e573",
   "metadata": {},
   "source": [
    "# Process sales header"
   ]
  },
  {
   "cell_type": "code",
   "execution_count": 16,
   "id": "91a6a6c8",
   "metadata": {},
   "outputs": [
    {
     "name": "stderr",
     "output_type": "stream",
     "text": [
      "2025-06-13 11:02:51,059 - INFO - namespace bronze exists: True\n"
     ]
    }
   ],
   "source": [
    "# create bronze namespace in nessie catalog\n",
    "namespace = \"bronze\"\n",
    "df = spark.sql(\"SHOW NAMESPACES in nessie\")\n",
    "namespace_exists = df.filter(df.namespace == namespace).count() > 0\n",
    "\n",
    "logger.info(f\"namespace {namespace} exists: {namespace_exists}\")\n",
    "if not namespace_exists:\n",
    "    spark.sql(f\"CREATE NAMESPACE nessie.{namespace}\").show()\n"
   ]
  },
  {
   "cell_type": "code",
   "execution_count": 21,
   "id": "24ec2a22",
   "metadata": {},
   "outputs": [],
   "source": [
    "# define list of data\n",
    "source_list = [\n",
    "    {\n",
    "        \"path\": \"s3a://seed/adventureWorks/currency_rate.csv\",\n",
    "        \"iceberg_table\": \"nessie.bronze.currency_rate\",\n",
    "        \"enabled\": True\n",
    "    },\n",
    "    {\n",
    "        \"path\": \"s3a://seed/adventureWorks/currency.csv\",\n",
    "        \"iceberg_table\": \"nessie.bronze.currency\",\n",
    "        \"enabled\": True\n",
    "    },\n",
    "    {\n",
    "        \"path\": \"s3a://seed/adventureWorks/customer.csv\",\n",
    "        \"iceberg_table\": \"nessie.bronze.customer\",\n",
    "        \"enabled\": True\n",
    "    },\n",
    "    {\n",
    "        \"path\": \"s3a://seed/adventureWorks/product.csv\",\n",
    "        \"iceberg_table\": \"nessie.bronze.product\",\n",
    "        \"enabled\": True\n",
    "    },\n",
    "    {\n",
    "        \"path\": \"s3a://seed/adventureWorks/sales.csv\",\n",
    "        \"iceberg_table\": \"nessie.bronze.sales\",\n",
    "        \"enabled\": True\n",
    "    }\n",
    "]"
   ]
  },
  {
   "cell_type": "code",
   "execution_count": 22,
   "id": "5b295413",
   "metadata": {},
   "outputs": [],
   "source": [
    "# create etl branch\n",
    "df = spark.sql(f\"LIST REFERENCES IN nessie\")\n",
    "reference_exists = df.filter(df.name == REF).count() > 0\n",
    "if not reference_exists:\n",
    "    spark.sql(f\"CREATE BRANCH etl IN nessie FROM main\").show()\n"
   ]
  },
  {
   "cell_type": "code",
   "execution_count": 23,
   "id": "af4343b7",
   "metadata": {},
   "outputs": [
    {
     "name": "stderr",
     "output_type": "stream",
     "text": [
      "2025-06-13 11:04:18,847 - INFO - read csv from bucket: s3a://seed/adventureWorks/currency_rate.csv\n",
      "2025-06-13 11:04:19,160 - INFO - writing data (14264 rows, 5 columns) into: nessie.bronze.currency_rate\n",
      "2025-06-13 11:04:19,730 - INFO - Writing complete: nessie.bronze.currency_rate\n",
      "2025-06-13 11:04:19,732 - INFO - read csv from bucket: s3a://seed/adventureWorks/currency.csv\n",
      "2025-06-13 11:04:20,053 - INFO - writing data (105 rows, 4 columns) into: nessie.bronze.currency\n",
      "2025-06-13 11:04:20,399 - INFO - Writing complete: nessie.bronze.currency\n",
      "2025-06-13 11:04:20,400 - INFO - read csv from bucket: s3a://seed/adventureWorks/customer.csv\n",
      "2025-06-13 11:04:20,722 - INFO - writing data (18484 rows, 17 columns) into: nessie.bronze.customer\n",
      "2025-06-13 11:04:21,511 - INFO - Writing complete: nessie.bronze.customer\n",
      "2025-06-13 11:04:21,512 - INFO - read csv from bucket: s3a://seed/adventureWorks/product.csv\n",
      "2025-06-13 11:04:21,848 - INFO - writing data (295 rows, 10 columns) into: nessie.bronze.product\n",
      "2025-06-13 11:04:22,206 - INFO - Writing complete: nessie.bronze.product\n",
      "2025-06-13 11:04:22,209 - INFO - read csv from bucket: s3a://seed/adventureWorks/sales.csv\n",
      "2025-06-13 11:04:22,625 - INFO - writing data (60398 rows, 18 columns) into: nessie.bronze.sales\n",
      "2025-06-13 11:04:23,555 - INFO - Writing complete: nessie.bronze.sales          \n"
     ]
    }
   ],
   "source": [
    "for item in [item for item in source_list if item[\"enabled\"]]:\n",
    "    # Read CSV from MinIO\n",
    "    logger.info(f'read csv from bucket: {item[\"path\"]}')\n",
    "    df = spark.read.option(\"header\", \"true\") \\\n",
    "        .csv(item[\"path\"])\n",
    "    \n",
    "    num_columns, num_rows = len(df.columns), df.count()\n",
    "\n",
    "    # Write to Nessie table using createOrReplace\n",
    "    table_name = item[\"iceberg_table\"]\n",
    "    logger.info(f'writing data ({num_rows} rows, {num_columns} columns) into: {table_name}')\n",
    "    try:\n",
    "        df.writeTo(item[\"iceberg_table\"]).createOrReplace() \n",
    "    except Exception as e:\n",
    "        logger.error(f\"Error writing into: {table_name}\")\n",
    "\n",
    "    logger.info(f'Writing complete: {item[\"iceberg_table\"]}')"
   ]
  },
  {
   "cell_type": "code",
   "execution_count": 24,
   "id": "c553f2e3",
   "metadata": {},
   "outputs": [
    {
     "name": "stdout",
     "output_type": "stream",
     "text": [
      "+--------+----------+------+--------------------+--------------------+\n",
      "|currency|      date|  rate|     source_filepath|  ingestion_datetime|\n",
      "+--------+----------+------+--------------------+--------------------+\n",
      "|     ARS|2010-12-29|1.0000|abfss://datalake@...|2025-06-13T10:59:...|\n",
      "|     ARS|2010-12-30|1.0000|abfss://datalake@...|2025-06-13T10:59:...|\n",
      "|     ARS|2010-12-31|1.0000|abfss://datalake@...|2025-06-13T10:59:...|\n",
      "|     ARS|2011-01-01|1.0000|abfss://datalake@...|2025-06-13T10:59:...|\n",
      "|     ARS|2011-01-02|1.0000|abfss://datalake@...|2025-06-13T10:59:...|\n",
      "|     ARS|2011-01-03|1.0000|abfss://datalake@...|2025-06-13T10:59:...|\n",
      "|     ARS|2011-01-04|1.0000|abfss://datalake@...|2025-06-13T10:59:...|\n",
      "|     ARS|2011-01-05|1.0000|abfss://datalake@...|2025-06-13T10:59:...|\n",
      "|     ARS|2011-01-06|1.0000|abfss://datalake@...|2025-06-13T10:59:...|\n",
      "|     ARS|2011-01-07|1.0000|abfss://datalake@...|2025-06-13T10:59:...|\n",
      "|     ARS|2011-01-08|1.0000|abfss://datalake@...|2025-06-13T10:59:...|\n",
      "|     ARS|2011-01-09|1.0000|abfss://datalake@...|2025-06-13T10:59:...|\n",
      "|     ARS|2011-01-10|1.0000|abfss://datalake@...|2025-06-13T10:59:...|\n",
      "|     ARS|2011-01-11|1.0000|abfss://datalake@...|2025-06-13T10:59:...|\n",
      "|     ARS|2011-01-12|1.0000|abfss://datalake@...|2025-06-13T10:59:...|\n",
      "|     ARS|2011-01-13|1.0000|abfss://datalake@...|2025-06-13T10:59:...|\n",
      "|     ARS|2011-01-14|1.0000|abfss://datalake@...|2025-06-13T10:59:...|\n",
      "|     ARS|2011-01-15|1.0000|abfss://datalake@...|2025-06-13T10:59:...|\n",
      "|     ARS|2011-01-16|1.0000|abfss://datalake@...|2025-06-13T10:59:...|\n",
      "|     ARS|2011-01-17|1.0000|abfss://datalake@...|2025-06-13T10:59:...|\n",
      "+--------+----------+------+--------------------+--------------------+\n",
      "only showing top 20 rows\n",
      "\n"
     ]
    }
   ],
   "source": [
    "spark.sql(\"\"\"\n",
    "select * from nessie.bronze.currency_rate\n",
    "\"\"\").show()"
   ]
  },
  {
   "cell_type": "code",
   "execution_count": 25,
   "id": "cbb2dcc0",
   "metadata": {},
   "outputs": [
    {
     "name": "stdout",
     "output_type": "stream",
     "text": [
      "+----+--------------------+\n",
      "|name|                hash|\n",
      "+----+--------------------+\n",
      "|main|87ae237b6dde6e090...|\n",
      "+----+--------------------+\n",
      "\n",
      "+------+\n",
      "|status|\n",
      "+------+\n",
      "|    OK|\n",
      "+------+\n",
      "\n"
     ]
    }
   ],
   "source": [
    "spark.sql(f\"MERGE BRANCH {REF} INTO main IN nessie\").show()\n",
    "spark.sql(f\"DROP BRANCH {REF} IN nessie\").show()"
   ]
  }
 ],
 "metadata": {
  "kernelspec": {
   "display_name": "Python 3 (ipykernel)",
   "language": "python",
   "name": "python3"
  },
  "language_info": {
   "codemirror_mode": {
    "name": "ipython",
    "version": 3
   },
   "file_extension": ".py",
   "mimetype": "text/x-python",
   "name": "python",
   "nbconvert_exporter": "python",
   "pygments_lexer": "ipython3",
   "version": "3.10.16"
  }
 },
 "nbformat": 4,
 "nbformat_minor": 5
}
