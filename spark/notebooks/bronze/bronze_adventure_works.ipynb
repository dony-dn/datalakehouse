{
 "cells": [
  {
   "cell_type": "code",
   "execution_count": null,
   "id": "a8046052",
   "metadata": {},
   "outputs": [],
   "source": [
    "import os, sys\n",
    "import logging\n",
    "logging.basicConfig(level=logging.INFO, format=\"%(asctime)s - %(levelname)s - %(message)s\")\n",
    "logger = logging.getLogger(__name__)\n",
    "logger.setLevel(logging.INFO)\n",
    "\n",
    "logger.info(\"Application started successfully.\")"
   ]
  },
  {
   "cell_type": "code",
   "execution_count": null,
   "id": "0a8933d8",
   "metadata": {},
   "outputs": [],
   "source": [
    "AWS_ACCESS_KEY = os.environ['AWS_ACCESS_KEY_ID']\n",
    "AWS_SECRET_KEY  = os.environ['AWS_SECRET_ACCESS_KEY']\n",
    "AWS_S3_ENDPOINT = os.environ[\"AWS_S3_ENDPOINT\"]\n",
    "FULL_PATH_TO_WAREHOUSE = os.environ['WAREHOUSE']\n"
   ]
  },
  {
   "cell_type": "code",
   "execution_count": null,
   "id": "68338c47",
   "metadata": {},
   "outputs": [],
   "source": [
    "# set pyspark configuration\n",
    "from pyspark import SparkConf\n",
    "\n",
    "conf = SparkConf() \\\n",
    "    .setAppName(\"read_bronze_adventure_works\") \\\n",
    "    .setMaster(\"local[*]\") \\\n",
    "    .set(\"spark.executor.memory\", \"4g\") \\\n",
    "    .set(\"spark.driver.memory\", \"2g\") \\\n",
    "    \n",
    "# set MinIO config\n",
    "conf.set(\"fs.s3a.access.key\", AWS_ACCESS_KEY) \n",
    "conf.set(\"fs.s3a.secret.key\", AWS_SECRET_KEY) \n",
    "conf.set(\"fs.s3a.endpoint\", AWS_S3_ENDPOINT) \n",
    "conf.set(\"fs.s3a.connection.ssl.enabled\", \"false\") \n",
    "conf.set(\"fs.s3a.path.style.access\", \"true\") "
   ]
  },
  {
   "cell_type": "code",
   "execution_count": null,
   "id": "f018f5e4",
   "metadata": {},
   "outputs": [],
   "source": [
    "from pyspark.sql import SparkSession\n",
    "\n",
    "spark = SparkSession.builder.config(conf=conf).getOrCreate()\n",
    "spark"
   ]
  },
  {
   "cell_type": "code",
   "execution_count": null,
   "id": "bd1cd128",
   "metadata": {},
   "outputs": [],
   "source": [
    "# read config file\n",
    "import toml\n",
    "\n",
    "config_file = \"notebooks/bronze/bronze_adventure_works.toml\"\n",
    "filepath = os.path.join(os.getcwd(), config_file)\n",
    "with open(filepath, 'r') as f:\n",
    "    config = toml.load(f)\n",
    "\n",
    "# Access values\n",
    "source_bucket = config['minio_source']['s3_bucket']\n",
    "target_bucket = config['minio_target']['s3_bucket']\n",
    "option = config['read_options']\n"
   ]
  },
  {
   "cell_type": "code",
   "execution_count": null,
   "id": "553eec04",
   "metadata": {},
   "outputs": [],
   "source": [
    "from pyspark.sql.functions import input_file_name, regexp_extract, current_timestamp, to_date, lit\n",
    "\n",
    "for item in [config[\"source\"][r] for r in config[\"source\"] if config[\"source\"][r][\"enabled\"]]:\n",
    "    source_path = os.path.join(config[\"minio_source\"][\"s3_bucket\"], item[\"source_path\"])\n",
    "    target_path = os.path.join(config[\"minio_target\"][\"s3_bucket\"], \"bronze\", item[\"target_path\"])\n",
    "\n",
    "    df = spark.read.option(\"header\", \"true\").csv(source_path)\n",
    "    df = df.withColumn(\"file_path\", input_file_name())\n",
    "    df = df.withColumn(\"ingest_timestamp\", current_timestamp())\n",
    "    from datetime import datetime\n",
    "    target_date = datetime.now().strftime(\"%Y-%m-%d\")\n",
    "    df = df.withColumn(\"ingest_date\", lit(target_date))\n",
    "\n",
    "    df.write.mode(\"overwrite\") \\\n",
    "        .option(\"header\", \"true\") \\\n",
    "        .partitionBy(\"ingest_date\") \\\n",
    "        .csv(target_path)\n",
    "    \n",
    "    logger.info(f\"Reprocessed data for {target_date} written to {target_path}\")"
   ]
  }
 ],
 "metadata": {
  "kernelspec": {
   "display_name": "Python 3 (ipykernel)",
   "language": "python",
   "name": "python3"
  },
  "language_info": {
   "codemirror_mode": {
    "name": "ipython",
    "version": 3
   },
   "file_extension": ".py",
   "mimetype": "text/x-python",
   "name": "python",
   "nbconvert_exporter": "python",
   "pygments_lexer": "ipython3",
   "version": "3.10.16"
  }
 },
 "nbformat": 4,
 "nbformat_minor": 5
}
